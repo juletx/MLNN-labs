{
 "cells": [
  {
   "cell_type": "markdown",
   "metadata": {},
   "source": [
    "## Lab 9. Deep Neural Networks\n",
    "## Recurrent Neural Networks\n",
    "\n",
    "In this Lab we learn how to solve sequential problems using RNNs. We will describe how can RNNs be implemented with tensorflow and evaluate their results in real problems. \n",
    "\n",
    "\n",
    "We will use material from the book \"Hands-On Machine Learning with Scikit-Learn and TensorFlow. Concepts, Tools, and Techniques to Build Intelligent Systems\" by Aurélien Géron. http://shop.oreilly.com/product/0636920052289.do that it is recommended as Bibliography of the course.\n"
   ]
  },
  {
   "cell_type": "code",
   "execution_count": 1,
   "metadata": {},
   "outputs": [
    {
     "name": "stderr",
     "output_type": "stream",
     "text": [
      "/home/unai/.local/lib/python3.7/site-packages/tensorflow/python/framework/dtypes.py:516: FutureWarning: Passing (type, 1) or '1type' as a synonym of type is deprecated; in a future version of numpy, it will be understood as (type, (1,)) / '(1,)type'.\n",
      "  _np_qint8 = np.dtype([(\"qint8\", np.int8, 1)])\n",
      "/home/unai/.local/lib/python3.7/site-packages/tensorflow/python/framework/dtypes.py:517: FutureWarning: Passing (type, 1) or '1type' as a synonym of type is deprecated; in a future version of numpy, it will be understood as (type, (1,)) / '(1,)type'.\n",
      "  _np_quint8 = np.dtype([(\"quint8\", np.uint8, 1)])\n",
      "/home/unai/.local/lib/python3.7/site-packages/tensorflow/python/framework/dtypes.py:518: FutureWarning: Passing (type, 1) or '1type' as a synonym of type is deprecated; in a future version of numpy, it will be understood as (type, (1,)) / '(1,)type'.\n",
      "  _np_qint16 = np.dtype([(\"qint16\", np.int16, 1)])\n",
      "/home/unai/.local/lib/python3.7/site-packages/tensorflow/python/framework/dtypes.py:519: FutureWarning: Passing (type, 1) or '1type' as a synonym of type is deprecated; in a future version of numpy, it will be understood as (type, (1,)) / '(1,)type'.\n",
      "  _np_quint16 = np.dtype([(\"quint16\", np.uint16, 1)])\n",
      "/home/unai/.local/lib/python3.7/site-packages/tensorflow/python/framework/dtypes.py:520: FutureWarning: Passing (type, 1) or '1type' as a synonym of type is deprecated; in a future version of numpy, it will be understood as (type, (1,)) / '(1,)type'.\n",
      "  _np_qint32 = np.dtype([(\"qint32\", np.int32, 1)])\n",
      "/home/unai/.local/lib/python3.7/site-packages/tensorflow/python/framework/dtypes.py:525: FutureWarning: Passing (type, 1) or '1type' as a synonym of type is deprecated; in a future version of numpy, it will be understood as (type, (1,)) / '(1,)type'.\n",
      "  np_resource = np.dtype([(\"resource\", np.ubyte, 1)])\n",
      "/home/unai/.local/lib/python3.7/site-packages/tensorboard/compat/tensorflow_stub/dtypes.py:541: FutureWarning: Passing (type, 1) or '1type' as a synonym of type is deprecated; in a future version of numpy, it will be understood as (type, (1,)) / '(1,)type'.\n",
      "  _np_qint8 = np.dtype([(\"qint8\", np.int8, 1)])\n",
      "/home/unai/.local/lib/python3.7/site-packages/tensorboard/compat/tensorflow_stub/dtypes.py:542: FutureWarning: Passing (type, 1) or '1type' as a synonym of type is deprecated; in a future version of numpy, it will be understood as (type, (1,)) / '(1,)type'.\n",
      "  _np_quint8 = np.dtype([(\"quint8\", np.uint8, 1)])\n",
      "/home/unai/.local/lib/python3.7/site-packages/tensorboard/compat/tensorflow_stub/dtypes.py:543: FutureWarning: Passing (type, 1) or '1type' as a synonym of type is deprecated; in a future version of numpy, it will be understood as (type, (1,)) / '(1,)type'.\n",
      "  _np_qint16 = np.dtype([(\"qint16\", np.int16, 1)])\n",
      "/home/unai/.local/lib/python3.7/site-packages/tensorboard/compat/tensorflow_stub/dtypes.py:544: FutureWarning: Passing (type, 1) or '1type' as a synonym of type is deprecated; in a future version of numpy, it will be understood as (type, (1,)) / '(1,)type'.\n",
      "  _np_quint16 = np.dtype([(\"quint16\", np.uint16, 1)])\n",
      "/home/unai/.local/lib/python3.7/site-packages/tensorboard/compat/tensorflow_stub/dtypes.py:545: FutureWarning: Passing (type, 1) or '1type' as a synonym of type is deprecated; in a future version of numpy, it will be understood as (type, (1,)) / '(1,)type'.\n",
      "  _np_qint32 = np.dtype([(\"qint32\", np.int32, 1)])\n",
      "/home/unai/.local/lib/python3.7/site-packages/tensorboard/compat/tensorflow_stub/dtypes.py:550: FutureWarning: Passing (type, 1) or '1type' as a synonym of type is deprecated; in a future version of numpy, it will be understood as (type, (1,)) / '(1,)type'.\n",
      "  np_resource = np.dtype([(\"resource\", np.ubyte, 1)])\n",
      "Using TensorFlow backend.\n",
      "/usr/local/lib/python3.7/dist-packages/sklearn/externals/six.py:31: DeprecationWarning: The module is deprecated in version 0.21 and will be removed in version 0.23 since we've dropped support for Python 2.7. Please rely on the official version of six (https://pypi.org/project/six/).\n",
      "  \"(https://pypi.org/project/six/).\", DeprecationWarning)\n"
     ]
    }
   ],
   "source": [
    "# We start by importing the python libraries required to solve the problems\n",
    "\n",
    "import numpy as np\n",
    "import numpy.random as rnd\n",
    "import itertools \n",
    "import os\n",
    "import sys\n",
    "import scipy.misc\n",
    "\n",
    "# We used some utilities from sklearn\n",
    "from sklearn.preprocessing import StandardScaler\n",
    "\n",
    "\n",
    "# Tensorflow library used for implementation of the RNNs\n",
    "import tensorflow as tf\n",
    "from keras.datasets import imdb, mnist, fashion_mnist\n",
    "# Importing keras libraries\n",
    "from keras.callbacks import EarlyStopping\n",
    "from keras.layers import SimpleRNN, LSTM, Conv1D, MaxPooling1D\n",
    "from keras.layers import recurrent\n",
    "from keras.layers.core import Dense, Flatten, Dropout\n",
    "from keras.models import Sequential\n",
    "from keras.layers.embeddings import Embedding \n",
    "from keras.preprocessing import sequence\n",
    "from keras.utils import to_categorical\n",
    "import random\n",
    "\n",
    "import csv\n",
    "from sklearn.externals.six.moves.urllib.request import urlopen\n",
    "\n",
    "# Used for plotting and display of figures\n",
    "%matplotlib inline\n",
    "import matplotlib\n",
    "import matplotlib.pyplot as plt\n",
    "from mpl_toolkits.mplot3d import Axes3D\n",
    "\n",
    "plt.rcParams['axes.labelsize'] = 14\n",
    "plt.rcParams['xtick.labelsize'] = 12\n",
    "plt.rcParams['ytick.labelsize'] = 12\n",
    "\n",
    "\n",
    "from IPython.display import display\n",
    "from IPython.display import Image\n",
    "from IPython.display import SVG"
   ]
  },
  {
   "cell_type": "code",
   "execution_count": null,
   "metadata": {},
   "outputs": [],
   "source": []
  },
  {
   "cell_type": "markdown",
   "metadata": {},
   "source": [
    "## Time series prediction with an RNN"
   ]
  },
  {
   "cell_type": "markdown",
   "metadata": {
    "collapsed": true
   },
   "source": [
    "The first problem we consider is time series prediction with an RNN. Given a sequence of k contiguous points of the time series, $(t_{r},t_{r+1},\\dots,t_{r+k})$ that are used as inputs, we will try to predict the sequence $(t_{r+1},t_{r+2},\\dots,t_{r+k+1})$. Therefore, for each single point at time $t$, the target variable is the time series value at time $t+1$."
   ]
  },
  {
   "cell_type": "code",
   "execution_count": null,
   "metadata": {},
   "outputs": [],
   "source": []
  },
  {
   "cell_type": "markdown",
   "metadata": {},
   "source": []
  },
  {
   "cell_type": "code",
   "execution_count": null,
   "metadata": {},
   "outputs": [],
   "source": []
  },
  {
   "cell_type": "markdown",
   "metadata": {},
   "source": [
    "\n"
   ]
  },
  {
   "cell_type": "code",
   "execution_count": 8,
   "metadata": {},
   "outputs": [],
   "source": [
    "# This function set the seeds of the tensorflow function\n",
    "# to make this notebook's output stable across runs\n",
    "\n",
    "def reset_graph(seed=42):\n",
    "    tf.reset_default_graph()\n",
    "    tf.set_random_seed(seed)\n",
    "    np.random.seed(seed)"
   ]
  },
  {
   "cell_type": "markdown",
   "metadata": {},
   "source": [
    "The function belows generates a particular time series. "
   ]
  },
  {
   "cell_type": "code",
   "execution_count": null,
   "metadata": {},
   "outputs": [],
   "source": []
  },
  {
   "cell_type": "code",
   "execution_count": 9,
   "metadata": {},
   "outputs": [],
   "source": [
    "def time_series(t):\n",
    "    return t * np.sin(t) / 3 + 2 * np.sin(t*5)"
   ]
  },
  {
   "cell_type": "markdown",
   "metadata": {
    "collapsed": true
   },
   "source": [
    "To train the network we need sequences of size $k$ extracted from the time series. They are randomly selected using the function \"next_batch\" that outputs a set of <batch_size> training points, each point corresponding to a sequence of size k (in the function this size k is called \"n_steps\"). \n",
    "\n"
   ]
  },
  {
   "cell_type": "code",
   "execution_count": 10,
   "metadata": {},
   "outputs": [],
   "source": [
    "t_min, t_max = 0, 30\n",
    "resolution = 0.1\n",
    "\n",
    "# Receives the number of samples (batch_size) of size (n_steps) to extract\n",
    "# from the time series, and outputs such a sample\n",
    "def next_batch(batch_size, n_steps):\n",
    "    t0 = np.random.rand(batch_size, 1) * (t_max - t_min - n_steps * resolution)\n",
    "    Ts = t0 + np.arange(0., n_steps + 1) * resolution\n",
    "    ys = time_series(Ts)\n",
    "    return ys[:, :-1].reshape(-1, n_steps, 1), ys[:, 1:].reshape(-1, n_steps, 1)"
   ]
  },
  {
   "cell_type": "markdown",
   "metadata": {},
   "source": [
    "In the next cell, we visualize the time series, and an example of training pairs $(x,y)$, where $x$ is a sequence of $k=20$ points and $y$ is the target sequence of $20$ points, the ones obtained by shifting $x$ only one position. "
   ]
  },
  {
   "cell_type": "code",
   "execution_count": 11,
   "metadata": {},
   "outputs": [
    {
     "data": {
      "image/png": "[encoded data removed]",
      "text/plain": [
       "<Figure size 792x288 with 2 Axes>"
      ]
     },
     "metadata": {
      "needs_background": "light"
     },
     "output_type": "display_data"
    }
   ],
   "source": [
    "# The time series and the example of (x,y) are shown \n",
    "\n",
    "t = np.linspace(t_min, t_max, int((t_max - t_min) / resolution))\n",
    "\n",
    "n_steps = 20\n",
    "t_instance = np.linspace(12.2, 12.2 + resolution * (n_steps + 1), n_steps + 1)\n",
    "\n",
    "plt.figure(figsize=(11,4))\n",
    "plt.subplot(121)\n",
    "plt.title(\"A time series (generated)\", fontsize=14)\n",
    "plt.plot(t, time_series(t), label=r\"$t . \\sin(t) / 3 + 2 . \\sin(5t)$\")\n",
    "plt.plot(t_instance[:-1], time_series(t_instance[:-1]), \"b-\", linewidth=3, label=\"A training instance\")\n",
    "plt.legend(loc=\"lower left\", fontsize=14)\n",
    "plt.axis([0, 30, -17, 13])\n",
    "plt.xlabel(\"Time\")\n",
    "plt.ylabel(\"Value\")\n",
    "\n",
    "plt.subplot(122)\n",
    "plt.title(\"A training instance\", fontsize=14)\n",
    "plt.plot(t_instance[:-1], time_series(t_instance[:-1]), \"bo\", markersize=10, label=\"instance\")\n",
    "plt.plot(t_instance[1:], time_series(t_instance[1:]), \"y*\", markersize=10, label=\"target\")\n",
    "plt.legend(loc=\"upper left\")\n",
    "plt.xlabel(\"Time\")\n",
    "\n",
    "\n",
    "#save_fig(\"time_series_plot\")\n",
    "plt.show()\n"
   ]
  },
  {
   "cell_type": "markdown",
   "metadata": {},
   "source": [
    "Now, the parameters of the RNN are defined."
   ]
  },
  {
   "cell_type": "code",
   "execution_count": 12,
   "metadata": {},
   "outputs": [],
   "source": [
    "# The computation graph is initialized\n",
    "reset_graph()\n",
    "\n",
    "# n_steps is the size of the contiguous sequence that is taken from the TS\n",
    "# it coincides with the number of time steps for the RNN\n",
    "n_steps = 20\n",
    "\n",
    "# An RNN can take as inputs multiple input sequences (e.g, a matrix of n_seq x n_steps)\n",
    "# Since we use only a single TS, n_inputs=1\n",
    "n_inputs = 1\n",
    "\n",
    "# There is one layer of 100 recurrent neurons together\n",
    "n_neurons = 100\n",
    "\n",
    "# The ouput will be a single sequence\n",
    "n_outputs = 1\n",
    "\n",
    "# Notice the way the input and output are defined according to n_steps\n",
    "X = tf.placeholder(tf.float32, [None, n_steps, n_inputs])\n",
    "y = tf.placeholder(tf.float32, [None, n_steps, n_outputs])"
   ]
  },
  {
   "cell_type": "markdown",
   "metadata": {
    "collapsed": true
   },
   "source": [
    "In the following notebook cell we specify the type of RNN layer telling tensorflow which RNN cells it comprises. Remember that there are other, more efficient, memory cells, such as LSTM, GRU, etc.  \n",
    "\n",
    "In this example, a Basic RNN cell is defined, the layer has n_neurons and uses as activation function RELU. \n",
    "\n",
    "Finally, the OutputProjectionWrappers adds another layer that transforms the output of the n_neuron neurons into a single value, this function \"wraps\" the output of the recurrent neurons. "
   ]
  },
  {
   "cell_type": "code",
   "execution_count": 13,
   "metadata": {},
   "outputs": [
    {
     "name": "stdout",
     "output_type": "stream",
     "text": [
      "WARNING:tensorflow:\n",
      "The TensorFlow contrib module will not be included in TensorFlow 2.0.\n",
      "For more information, please see:\n",
      "  * https://github.com/tensorflow/community/blob/master/rfcs/20180907-contrib-sunset.md\n",
      "  * https://github.com/tensorflow/addons\n",
      "  * https://github.com/tensorflow/io (for I/O related ops)\n",
      "If you depend on functionality not listed there, please file an issue.\n",
      "\n",
      "WARNING:tensorflow:From <ipython-input-13-30820eba87f0>:2: BasicRNNCell.__init__ (from tensorflow.python.ops.rnn_cell_impl) is deprecated and will be removed in a future version.\n",
      "Instructions for updating:\n",
      "This class is equivalent as tf.keras.layers.SimpleRNNCell, and will be replaced by that in Tensorflow 2.0.\n",
      "WARNING:tensorflow:From <ipython-input-13-30820eba87f0>:6: dynamic_rnn (from tensorflow.python.ops.rnn) is deprecated and will be removed in a future version.\n",
      "Instructions for updating:\n",
      "Please use `keras.layers.RNN(cell)`, which is equivalent to this API\n",
      "WARNING:tensorflow:From /home/unai/.local/lib/python3.7/site-packages/tensorflow/python/ops/init_ops.py:1251: calling VarianceScaling.__init__ (from tensorflow.python.ops.init_ops) with dtype is deprecated and will be removed in a future version.\n",
      "Instructions for updating:\n",
      "Call initializer instance with the dtype argument instead of passing it to the constructor\n",
      "WARNING:tensorflow:From /home/unai/.local/lib/python3.7/site-packages/tensorflow/python/ops/rnn_cell_impl.py:459: calling Zeros.__init__ (from tensorflow.python.ops.init_ops) with dtype is deprecated and will be removed in a future version.\n",
      "Instructions for updating:\n",
      "Call initializer instance with the dtype argument instead of passing it to the constructor\n",
      "WARNING:tensorflow:From /home/unai/.local/lib/python3.7/site-packages/tensorflow/contrib/rnn/python/ops/core_rnn_cell.py:104: calling Constant.__init__ (from tensorflow.python.ops.init_ops) with dtype is deprecated and will be removed in a future version.\n",
      "Instructions for updating:\n",
      "Call initializer instance with the dtype argument instead of passing it to the constructor\n"
     ]
    }
   ],
   "source": [
    "cell = tf.contrib.rnn.OutputProjectionWrapper(\n",
    "    tf.contrib.rnn.BasicRNNCell(num_units=n_neurons, activation=tf.nn.relu),\n",
    "    #tf.contrib.rnn.BasicLSTMCell(num_units=n_neurons),\n",
    "    output_size=n_outputs)\n",
    "\n",
    "outputs, states = tf.nn.dynamic_rnn(cell, X, dtype=tf.float32)\n"
   ]
  },
  {
   "cell_type": "markdown",
   "metadata": {},
   "source": [
    "As in any other NN, we need to specify the loss function, and optimization algorithm. "
   ]
  },
  {
   "cell_type": "code",
   "execution_count": 14,
   "metadata": {},
   "outputs": [],
   "source": [
    "# Learning rate used by the gradient optimizer\n",
    "learning_rate = 0.001\n",
    "\n",
    "# The loss function is the Minimum Square Error between the predicted\n",
    "# TS and the target TS\n",
    "loss = tf.reduce_mean(tf.square(outputs - y)) # MSE\n",
    "\n",
    "# Optimizer is ADAM\n",
    "optimizer = tf.train.AdamOptimizer(learning_rate=learning_rate)\n",
    "\n",
    "# We will minimize the MSE\n",
    "training_op = optimizer.minimize(loss)\n",
    "\n",
    "# Tensorflow variables are initialized\n",
    "init = tf.global_variables_initializer()\n",
    "saver = tf.train.Saver()"
   ]
  },
  {
   "cell_type": "markdown",
   "metadata": {},
   "source": [
    "The network is trained running \"n_iterations\" and training batch_size groups of training data. We will save the session at the end so we could use the network to predict new data. "
   ]
  },
  {
   "cell_type": "code",
   "execution_count": 15,
   "metadata": {},
   "outputs": [
    {
     "name": "stdout",
     "output_type": "stream",
     "text": [
      "0 \tMSE: 11.967253\n",
      "100 \tMSE: 0.5228241\n",
      "200 \tMSE: 0.15006436\n",
      "300 \tMSE: 0.07314141\n",
      "400 \tMSE: 0.062247448\n",
      "500 \tMSE: 0.058836456\n",
      "600 \tMSE: 0.053447876\n",
      "700 \tMSE: 0.04796903\n",
      "800 \tMSE: 0.049898215\n",
      "900 \tMSE: 0.047018923\n",
      "1000 \tMSE: 0.047219746\n",
      "1100 \tMSE: 0.04788002\n",
      "1200 \tMSE: 0.042031135\n",
      "1300 \tMSE: 0.047607396\n",
      "1400 \tMSE: 0.041773103\n",
      "1500 \tMSE: 0.048823975\n",
      "1600 \tMSE: 0.04873457\n",
      "1700 \tMSE: 0.04316924\n",
      "1800 \tMSE: 0.03321057\n",
      "1900 \tMSE: 0.045890804\n",
      "2000 \tMSE: 0.040826302\n",
      "2100 \tMSE: 0.033158537\n",
      "2200 \tMSE: 0.037256133\n",
      "2300 \tMSE: 0.046289086\n",
      "2400 \tMSE: 0.037914727\n"
     ]
    }
   ],
   "source": [
    "n_iterations = 2500\n",
    "batch_size = 50\n",
    "\n",
    "with  tf.Session() as sess:\n",
    "    init.run()\n",
    "    for iteration in range(n_iterations):\n",
    "        X_batch, y_batch = next_batch(batch_size, n_steps)\n",
    "        sess.run(training_op, feed_dict={X: X_batch, y: y_batch})\n",
    "        if iteration % 100 == 0:\n",
    "            mse = loss.eval(feed_dict={X: X_batch, y: y_batch})\n",
    "            print(iteration, \"\\tMSE:\", mse)\n",
    "    \n",
    "    saver.save(sess, \"./my_time_series_model\") # not shown in the book\n"
   ]
  },
  {
   "cell_type": "markdown",
   "metadata": {},
   "source": [
    "If training has worked well, then the MSE should have decreased with the iteractions. In the next cell the RNN is used to predict data from "
   ]
  },
  {
   "cell_type": "code",
   "execution_count": 17,
   "metadata": {},
   "outputs": [
    {
     "name": "stdout",
     "output_type": "stream",
     "text": [
      "WARNING:tensorflow:From /home/unai/.local/lib/python3.7/site-packages/tensorflow/python/training/saver.py:1276: checkpoint_exists (from tensorflow.python.training.checkpoint_management) is deprecated and will be removed in a future version.\n",
      "Instructions for updating:\n",
      "Use standard file APIs to check for files with this prefix.\n",
      "INFO:tensorflow:Restoring parameters from ./my_time_series_model\n"
     ]
    }
   ],
   "source": [
    "with  tf.Session() as sess:\n",
    "    # The session that we saved is restored\n",
    "    saver.restore(sess, \"./my_time_series_model\")  \n",
    "    # A segment of points is taken from the TS\n",
    "    X_new = time_series(np.array(t_instance[:-1].reshape(-1, n_steps, n_inputs)))\n",
    "    # Predictions are made\n",
    "    y_pred = sess.run(outputs, feed_dict={X: X_new})\n"
   ]
  },
  {
   "cell_type": "markdown",
   "metadata": {
    "collapsed": true
   },
   "source": [
    "Finally, the true TS values and the predictions are shown"
   ]
  },
  {
   "cell_type": "code",
   "execution_count": 18,
   "metadata": {},
   "outputs": [
    {
     "data": {
      "image/png": "[encoded data removed]",
      "text/plain": [
       "<Figure size 432x288 with 1 Axes>"
      ]
     },
     "metadata": {
      "needs_background": "light"
     },
     "output_type": "display_data"
    }
   ],
   "source": [
    "plt.title(\"Testing the model\", fontsize=14)\n",
    "plt.plot(t_instance[:-1], time_series(t_instance[:-1]), \"bo\", markersize=10, label=\"instance\")\n",
    "plt.plot(t_instance[1:], time_series(t_instance[1:]), \"y*\", markersize=10, label=\"target\")\n",
    "plt.plot(t_instance[1:], y_pred[0,:,0], \"r.\", markersize=10, label=\"prediction\")\n",
    "plt.legend(loc=\"upper left\")\n",
    "plt.xlabel(\"Time\")\n",
    "\n",
    "#save_fig(\"time_series_pred_plot\")\n",
    "plt.show()"
   ]
  },
  {
   "cell_type": "markdown",
   "metadata": {},
   "source": [
    "## Exercise 1\n",
    "\n",
    "The first exercise is similar to the previous example, it consists of predicting  the value of a time series (ISE.1 time series in this case) using the same time series until moment $t$. The difference is that we will also use another $7$ time series as input.\n",
    "\n",
    "We will use the \"ISTANBUL STOCK EXCHANGE Data Set\" from the UCI website (https://archive.ics.uci.edu/ml/datasets/ISTANBUL+STOCK+EXCHANGE#). It has been used to forecast the ISE100 index and to determine its daily directional movements. For more information about the meaning of the rate of return of a stock exchange you can see (https://en.wikipedia.org/wiki/Rate_of_return) but this is not relevant for the completion of the exercise. \n",
    "\n",
    "To solve the exercise you should: \n",
    "\n",
    "Modify the following cells to create an RNN that solves the problem taking into account the following characteristics:\n",
    "\n",
    "1. Sequence size for prediction: 30\n",
    "2. Number of neurons: 40\n",
    "3. You should compare the results of LSTM, GRU, and basic RNN cells (just write down the final MSE values you get with the three types of cells to determine which one is the best).\n",
    "4. Modify the network to predict the values of the time series taking into consideration the values of the other 7 timeseries, excluding the values of the target time series.  \n",
    "\n",
    "\n"
   ]
  },
  {
   "cell_type": "markdown",
   "metadata": {},
   "source": []
  },
  {
   "cell_type": "code",
   "execution_count": 19,
   "metadata": {},
   "outputs": [
    {
     "data": {
      "text/html": [
       "<div>\n",
       "<style scoped>\n",
       "    .dataframe tbody tr th:only-of-type {\n",
       "        vertical-align: middle;\n",
       "    }\n",
       "\n",
       "    .dataframe tbody tr th {\n",
       "        vertical-align: top;\n",
       "    }\n",
       "\n",
       "    .dataframe thead th {\n",
       "        text-align: right;\n",
       "    }\n",
       "</style>\n",
       "<table border=\"1\" class=\"dataframe\">\n",
       "  <thead>\n",
       "    <tr style=\"text-align: right;\">\n",
       "      <th></th>\n",
       "      <th>date</th>\n",
       "      <th>ISE</th>\n",
       "      <th>ISE.1</th>\n",
       "      <th>SP</th>\n",
       "      <th>DAX</th>\n",
       "      <th>FTSE</th>\n",
       "      <th>NIKKEI</th>\n",
       "      <th>BOVESPA</th>\n",
       "      <th>EU</th>\n",
       "      <th>EM</th>\n",
       "    </tr>\n",
       "  </thead>\n",
       "  <tbody>\n",
       "    <tr>\n",
       "      <th>0</th>\n",
       "      <td>5-Jan-09</td>\n",
       "      <td>0.035754</td>\n",
       "      <td>0.038376</td>\n",
       "      <td>-0.004679</td>\n",
       "      <td>0.002193</td>\n",
       "      <td>0.003894</td>\n",
       "      <td>0.000000</td>\n",
       "      <td>0.031190</td>\n",
       "      <td>0.012698</td>\n",
       "      <td>0.028524</td>\n",
       "    </tr>\n",
       "    <tr>\n",
       "      <th>1</th>\n",
       "      <td>6-Jan-09</td>\n",
       "      <td>0.025426</td>\n",
       "      <td>0.031813</td>\n",
       "      <td>0.007787</td>\n",
       "      <td>0.008455</td>\n",
       "      <td>0.012866</td>\n",
       "      <td>0.004162</td>\n",
       "      <td>0.018920</td>\n",
       "      <td>0.011341</td>\n",
       "      <td>0.008773</td>\n",
       "    </tr>\n",
       "    <tr>\n",
       "      <th>2</th>\n",
       "      <td>7-Jan-09</td>\n",
       "      <td>-0.028862</td>\n",
       "      <td>-0.026353</td>\n",
       "      <td>-0.030469</td>\n",
       "      <td>-0.017833</td>\n",
       "      <td>-0.028735</td>\n",
       "      <td>0.017293</td>\n",
       "      <td>-0.035899</td>\n",
       "      <td>-0.017073</td>\n",
       "      <td>-0.020015</td>\n",
       "    </tr>\n",
       "    <tr>\n",
       "      <th>3</th>\n",
       "      <td>8-Jan-09</td>\n",
       "      <td>-0.062208</td>\n",
       "      <td>-0.084716</td>\n",
       "      <td>0.003391</td>\n",
       "      <td>-0.011726</td>\n",
       "      <td>-0.000466</td>\n",
       "      <td>-0.040061</td>\n",
       "      <td>0.028283</td>\n",
       "      <td>-0.005561</td>\n",
       "      <td>-0.019424</td>\n",
       "    </tr>\n",
       "    <tr>\n",
       "      <th>4</th>\n",
       "      <td>9-Jan-09</td>\n",
       "      <td>0.009860</td>\n",
       "      <td>0.009658</td>\n",
       "      <td>-0.021533</td>\n",
       "      <td>-0.019873</td>\n",
       "      <td>-0.012710</td>\n",
       "      <td>-0.004474</td>\n",
       "      <td>-0.009764</td>\n",
       "      <td>-0.010989</td>\n",
       "      <td>-0.007802</td>\n",
       "    </tr>\n",
       "    <tr>\n",
       "      <th>...</th>\n",
       "      <td>...</td>\n",
       "      <td>...</td>\n",
       "      <td>...</td>\n",
       "      <td>...</td>\n",
       "      <td>...</td>\n",
       "      <td>...</td>\n",
       "      <td>...</td>\n",
       "      <td>...</td>\n",
       "      <td>...</td>\n",
       "      <td>...</td>\n",
       "    </tr>\n",
       "    <tr>\n",
       "      <th>531</th>\n",
       "      <td>16-Feb-11</td>\n",
       "      <td>0.008599</td>\n",
       "      <td>0.013400</td>\n",
       "      <td>0.006238</td>\n",
       "      <td>0.001925</td>\n",
       "      <td>0.007952</td>\n",
       "      <td>0.005717</td>\n",
       "      <td>0.018371</td>\n",
       "      <td>0.006975</td>\n",
       "      <td>0.003039</td>\n",
       "    </tr>\n",
       "    <tr>\n",
       "      <th>532</th>\n",
       "      <td>17-Feb-11</td>\n",
       "      <td>0.009310</td>\n",
       "      <td>0.015977</td>\n",
       "      <td>0.003071</td>\n",
       "      <td>-0.001186</td>\n",
       "      <td>0.000345</td>\n",
       "      <td>0.002620</td>\n",
       "      <td>0.001686</td>\n",
       "      <td>-0.000581</td>\n",
       "      <td>0.001039</td>\n",
       "    </tr>\n",
       "    <tr>\n",
       "      <th>533</th>\n",
       "      <td>18-Feb-11</td>\n",
       "      <td>0.000191</td>\n",
       "      <td>-0.001653</td>\n",
       "      <td>0.001923</td>\n",
       "      <td>0.002872</td>\n",
       "      <td>-0.000723</td>\n",
       "      <td>0.000568</td>\n",
       "      <td>0.005628</td>\n",
       "      <td>0.000572</td>\n",
       "      <td>0.006938</td>\n",
       "    </tr>\n",
       "    <tr>\n",
       "      <th>534</th>\n",
       "      <td>21-Feb-11</td>\n",
       "      <td>-0.013069</td>\n",
       "      <td>-0.013706</td>\n",
       "      <td>-0.020742</td>\n",
       "      <td>-0.014239</td>\n",
       "      <td>-0.011275</td>\n",
       "      <td>0.001358</td>\n",
       "      <td>-0.011942</td>\n",
       "      <td>-0.012615</td>\n",
       "      <td>-0.000958</td>\n",
       "    </tr>\n",
       "    <tr>\n",
       "      <th>535</th>\n",
       "      <td>22-Feb-11</td>\n",
       "      <td>-0.007246</td>\n",
       "      <td>-0.019442</td>\n",
       "      <td>0.000000</td>\n",
       "      <td>-0.000473</td>\n",
       "      <td>-0.002997</td>\n",
       "      <td>-0.017920</td>\n",
       "      <td>-0.012252</td>\n",
       "      <td>-0.005465</td>\n",
       "      <td>-0.014297</td>\n",
       "    </tr>\n",
       "  </tbody>\n",
       "</table>\n",
       "<p>536 rows × 10 columns</p>\n",
       "</div>"
      ],
      "text/plain": [
       "          date       ISE     ISE.1        SP       DAX      FTSE    NIKKEI  \\\n",
       "0     5-Jan-09  0.035754  0.038376 -0.004679  0.002193  0.003894  0.000000   \n",
       "1     6-Jan-09  0.025426  0.031813  0.007787  0.008455  0.012866  0.004162   \n",
       "2     7-Jan-09 -0.028862 -0.026353 -0.030469 -0.017833 -0.028735  0.017293   \n",
       "3     8-Jan-09 -0.062208 -0.084716  0.003391 -0.011726 -0.000466 -0.040061   \n",
       "4     9-Jan-09  0.009860  0.009658 -0.021533 -0.019873 -0.012710 -0.004474   \n",
       "..         ...       ...       ...       ...       ...       ...       ...   \n",
       "531  16-Feb-11  0.008599  0.013400  0.006238  0.001925  0.007952  0.005717   \n",
       "532  17-Feb-11  0.009310  0.015977  0.003071 -0.001186  0.000345  0.002620   \n",
       "533  18-Feb-11  0.000191 -0.001653  0.001923  0.002872 -0.000723  0.000568   \n",
       "534  21-Feb-11 -0.013069 -0.013706 -0.020742 -0.014239 -0.011275  0.001358   \n",
       "535  22-Feb-11 -0.007246 -0.019442  0.000000 -0.000473 -0.002997 -0.017920   \n",
       "\n",
       "      BOVESPA        EU        EM  \n",
       "0    0.031190  0.012698  0.028524  \n",
       "1    0.018920  0.011341  0.008773  \n",
       "2   -0.035899 -0.017073 -0.020015  \n",
       "3    0.028283 -0.005561 -0.019424  \n",
       "4   -0.009764 -0.010989 -0.007802  \n",
       "..        ...       ...       ...  \n",
       "531  0.018371  0.006975  0.003039  \n",
       "532  0.001686 -0.000581  0.001039  \n",
       "533  0.005628  0.000572  0.006938  \n",
       "534 -0.011942 -0.012615 -0.000958  \n",
       "535 -0.012252 -0.005465 -0.014297  \n",
       "\n",
       "[536 rows x 10 columns]"
      ]
     },
     "execution_count": 19,
     "metadata": {},
     "output_type": "execute_result"
    }
   ],
   "source": [
    "import pandas as pd\n",
    "import seaborn as sns\n",
    "\n",
    "df = pd.read_csv('data_akbilgic.csv')\n",
    "df"
   ]
  },
  {
   "cell_type": "markdown",
   "metadata": {},
   "source": [
    "The TS that will be predicted is plotted. Notice that it is not as clean as the toy problem shown in the example before."
   ]
  },
  {
   "cell_type": "code",
   "execution_count": 20,
   "metadata": {},
   "outputs": [
    {
     "data": {
      "image/png": "[encoded data removed]",
      "text/plain": [
       "<Figure size 432x288 with 1 Axes>"
      ]
     },
     "metadata": {
      "needs_background": "light"
     },
     "output_type": "display_data"
    }
   ],
   "source": [
    "plt.plot(df['ISE.1'])\n",
    "plt.xlabel(\"Time\")\n",
    "plt.ylabel(\"ISE.1 returns\")\n",
    "plt.show()"
   ]
  },
  {
   "cell_type": "markdown",
   "metadata": {},
   "source": [
    "For a correct estimation of the prediction quality we split the data between train and test in the following cell."
   ]
  },
  {
   "cell_type": "code",
   "execution_count": 21,
   "metadata": {},
   "outputs": [],
   "source": [
    "df_size = df.shape[0]\n",
    "df_train = df.iloc[:int(df_size/2),:]\n",
    "df_test = df.iloc[int(df_size/2):,:]"
   ]
  },
  {
   "cell_type": "markdown",
   "metadata": {},
   "source": [
    "The following cell is used to generate batches with which the RNN is trained. \n",
    "\n",
    "NOTICE: You will need to modify this function to answer the last part (point 4) of the exercise. But you do not need to change it to answer to complete the other parts. "
   ]
  },
  {
   "cell_type": "code",
   "execution_count": null,
   "metadata": {},
   "outputs": [],
   "source": []
  },
  {
   "cell_type": "code",
   "execution_count": 22,
   "metadata": {},
   "outputs": [],
   "source": [
    "# Receives the number of samples (batch_size) of size (n_steps) to extract\n",
    "# from the time series, and outputs such a sample\n",
    "def next_stock_batch(batch_size, n_steps, df_base):\n",
    "    t_min = 0\n",
    "    t_max = df_base.shape[0]\n",
    "  \n",
    "    # The inputs will be formed by 8 sequences taken from\n",
    "    # 8 time series [ISE.1,SP,DAX,FTSE,NIKKEI,BOVESPA,EU,EM]\n",
    "    x = np.zeros((batch_size,n_steps,7))\n",
    "    \n",
    "    # We want to predict the returns of the Istambul stock\n",
    "    # taken into consideration the previous n_steps days\n",
    "    y = np.zeros((batch_size,n_steps,1))\n",
    "\n",
    "    # We chose batch_size random points from time series x-axis\n",
    "\n",
    "    starting_points = np.random.randint(0,t_max-n_steps-1,size=batch_size)    \n",
    "    #print(starting_points)\n",
    "\n",
    "    # We create the batches for x using all time series (8) between t and t+n_steps    \n",
    "    # We create the batches for y using only one time series between t+1 and t+n_steps+1\n",
    "    \n",
    "    for k in np.arange(batch_size):\n",
    "        lmat = []\n",
    "        for j in np.arange(n_steps+1):\n",
    "            lmat.append(df_base.iloc[starting_points[k]+j,2:].as_matrix())  \n",
    "            mat = np.array(lmat)\n",
    "        # The x values include all columns (mat[:n_steps,:]), these are ([ISE.1,SP,DAX,FTSE,NIKKEI,BOVESPA,EU,EM])\n",
    "        # and TS values in mat between 0 and n_steps\n",
    "        x[k,:,:] = mat[:n_steps,1:]\n",
    "        \n",
    "        # The y values include only column 0 (mat[1:n_steps+1,0]), this is ([ISE.1]) \n",
    "        # and TS values in mat between 1 and n_steps+1\n",
    "        y[k,:,0] = mat[1:n_steps+1,0]\n",
    "   \n",
    "\n",
    "    return x,y\n",
    "\n"
   ]
  },
  {
   "cell_type": "markdown",
   "metadata": {},
   "source": [
    "Below is the cell that comprises the definition of the RNN and its input parameters. You should modify this part to answer the questions of the exercise."
   ]
  },
  {
   "cell_type": "code",
   "execution_count": null,
   "metadata": {},
   "outputs": [],
   "source": []
  },
  {
   "cell_type": "code",
   "execution_count": 25,
   "metadata": {},
   "outputs": [
    {
     "name": "stderr",
     "output_type": "stream",
     "text": [
      "/home/unai/.local/lib/python3.7/site-packages/ipykernel_launcher.py:26: FutureWarning: Method .as_matrix will be removed in a future version. Use .values instead.\n"
     ]
    },
    {
     "name": "stdout",
     "output_type": "stream",
     "text": [
      "0 \tBasic MSE: 0.00048610635\n",
      "50 \tBasic MSE: 0.00047325497\n",
      "100 \tBasic MSE: 0.00040462535\n",
      "150 \tBasic MSE: 0.0003995825\n",
      "200 \tBasic MSE: 0.00036605826\n",
      "250 \tBasic MSE: 0.00036913579\n",
      "300 \tBasic MSE: 0.00036229924\n",
      "350 \tBasic MSE: 0.00032126726\n",
      "400 \tBasic MSE: 0.00030464723\n",
      "450 \tBasic MSE: 0.0002816218\n"
     ]
    }
   ],
   "source": [
    "# The computation graph is initialized\n",
    "reset_graph()\n",
    "\n",
    "# n_steps is the size of the contiguous sequence that is taken from the TS\n",
    "# it coincides with the number of time steps for the RNN\n",
    "n_steps = 30\n",
    "\n",
    "# An RNN can take as inputs multiple input sequences (e.g, a matrix of n_seq x n_steps)\n",
    "n_inputs = 7\n",
    "\n",
    "# There is one layer of 60 recurrent neurons together\n",
    "n_neurons = 40\n",
    "\n",
    "# The ouput will be a single sequence\n",
    "n_outputs = 1\n",
    "\n",
    "# Notice the way the input and output are defined according to n_steps\n",
    "X = tf.placeholder(tf.float32, [None, n_steps, n_inputs])\n",
    "y = tf.placeholder(tf.float32, [None, n_steps, n_outputs])\n",
    "\n",
    "\n",
    "basic = tf.contrib.rnn.OutputProjectionWrapper(\n",
    "    tf.contrib.rnn.GRUCell(num_units=n_neurons, activation=tf.nn.relu),\n",
    "    output_size=n_outputs)\n",
    "\n",
    "\n",
    "basic_outputs, basic_states = tf.nn.dynamic_rnn(basic, X, dtype=tf.float32)\n",
    "\n",
    "# Learning rate used by the gradient optimizer (ADAM)\n",
    "learning_rate = 0.001\n",
    "\n",
    "# The loss function is the Minimum Square Error between the predicted\n",
    "# TS and the target TS\n",
    "loss_basic = tf.reduce_mean(tf.square(basic_outputs - y)) # MSE\n",
    "\n",
    "# Optimizer is ADAM\n",
    "optimizer = tf.train.AdamOptimizer(learning_rate=learning_rate)\n",
    "\n",
    "# We will minimize the MSE\n",
    "training_basic = optimizer.minimize(loss_basic)\n",
    "\n",
    "\n",
    "# Tensorflow variables are initialized\n",
    "init = tf.global_variables_initializer()\n",
    "saver = tf.train.Saver()\n",
    "\n",
    "\n",
    "n_iterations = 500\n",
    "batch_size = 50\n",
    "printing_gap = 50\n",
    "\n",
    "with  tf.Session() as sess:\n",
    "    init.run()\n",
    "    for iteration in range(n_iterations):\n",
    "        X_batch, y_batch = next_stock_batch(batch_size, n_steps, df_train)\n",
    "        \n",
    "        sess.run(training_basic, feed_dict={X: X_batch, y: y_batch})\n",
    "\n",
    "        if iteration % printing_gap == 0:\n",
    "            mse = loss_basic.eval(feed_dict={X: X_batch, y: y_batch})\n",
    "            print(iteration, \"\\tBasic MSE:\", mse)\n",
    "\n",
    "    \n",
    "    saver.save(sess, \"./istambul_model\")\n",
    "\n",
    "\n"
   ]
  },
  {
   "cell_type": "code",
   "execution_count": null,
   "metadata": {},
   "outputs": [],
   "source": []
  },
  {
   "cell_type": "code",
   "execution_count": 26,
   "metadata": {},
   "outputs": [
    {
     "name": "stdout",
     "output_type": "stream",
     "text": [
      "INFO:tensorflow:Restoring parameters from ./istambul_model\n"
     ]
    },
    {
     "name": "stderr",
     "output_type": "stream",
     "text": [
      "/home/unai/.local/lib/python3.7/site-packages/ipykernel_launcher.py:26: FutureWarning: Method .as_matrix will be removed in a future version. Use .values instead.\n"
     ]
    }
   ],
   "source": [
    "# Making prediction for the train dataset (df_train)\n",
    "\n",
    "with  tf.Session() as sess:\n",
    "    # The session that we saved is restored\n",
    "    saver.restore(sess, \"./istambul_model\")  \n",
    "    # A segment of points is taken from the TS\n",
    "    X_new, y_new = next_stock_batch(1, n_steps, df_train)\n",
    "   \n",
    "    # Predictions are made\n",
    "    y_pred = sess.run(basic_outputs, feed_dict={X: X_new})"
   ]
  },
  {
   "cell_type": "code",
   "execution_count": null,
   "metadata": {},
   "outputs": [],
   "source": []
  },
  {
   "cell_type": "markdown",
   "metadata": {},
   "source": [
    "We plot the predictions"
   ]
  },
  {
   "cell_type": "code",
   "execution_count": 27,
   "metadata": {},
   "outputs": [
    {
     "name": "stdout",
     "output_type": "stream",
     "text": [
      "(1, 30, 1) (1, 30, 1)\n"
     ]
    },
    {
     "data": {
      "text/plain": [
       "<matplotlib.legend.Legend at 0x7fac8c084470>"
      ]
     },
     "execution_count": 27,
     "metadata": {},
     "output_type": "execute_result"
    },
    {
     "data": {
      "image/png": "[encoded data removed]",
      "text/plain": [
       "<Figure size 792x288 with 2 Axes>"
      ]
     },
     "metadata": {
      "needs_background": "light"
     },
     "output_type": "display_data"
    }
   ],
   "source": [
    "print(y_pred.shape,y_new.shape)\n",
    "\n",
    "\n",
    "plt.figure(figsize=(11,4))\n",
    "plt.subplot(121)\n",
    "plt.plot(y_pred.reshape(n_steps),y_new.reshape(n_steps),'.')\n",
    "plt.xlabel(\"Target value in train\")\n",
    "plt.ylabel(\"Predicted value for train\")\n",
    "\n",
    "plt.subplot(122)\n",
    "plt.plot(y_pred.reshape(n_steps), label=\"prediction for train\")\n",
    "plt.plot(y_new.reshape(n_steps), label=\"target in train\")\n",
    "plt.xlabel(\" Time \")\n",
    "plt.ylabel(\"Stock return\")\n",
    "plt.legend(loc=\"upper left\")\n",
    "\n"
   ]
  },
  {
   "cell_type": "markdown",
   "metadata": {},
   "source": [
    "We compute the predictions for the test data"
   ]
  },
  {
   "cell_type": "code",
   "execution_count": 29,
   "metadata": {},
   "outputs": [
    {
     "name": "stdout",
     "output_type": "stream",
     "text": [
      "INFO:tensorflow:Restoring parameters from ./istambul_model\n"
     ]
    },
    {
     "name": "stderr",
     "output_type": "stream",
     "text": [
      "/home/unai/.local/lib/python3.7/site-packages/ipykernel_launcher.py:26: FutureWarning: Method .as_matrix will be removed in a future version. Use .values instead.\n"
     ]
    }
   ],
   "source": [
    "with  tf.Session() as sess:\n",
    "    # The session that we saved is restored\n",
    "    saver.restore(sess, \"./istambul_model\")  \n",
    "    # A segment of points is taken from the TS\n",
    "    X_new, y_new = next_stock_batch(1, n_steps, df_test)\n",
    "   \n",
    "    # Predictions are made\n",
    "    y_pred = sess.run(basic_outputs, feed_dict={X: X_new})\n",
    "    "
   ]
  },
  {
   "cell_type": "code",
   "execution_count": 30,
   "metadata": {},
   "outputs": [
    {
     "name": "stdout",
     "output_type": "stream",
     "text": [
      "(1, 30, 1) (1, 30, 1)\n"
     ]
    },
    {
     "data": {
      "text/plain": [
       "<matplotlib.legend.Legend at 0x7fac4c3b2f98>"
      ]
     },
     "execution_count": 30,
     "metadata": {},
     "output_type": "execute_result"
    },
    {
     "data": {
      "image/png": "[encoded data removed]",
      "text/plain": [
       "<Figure size 792x288 with 2 Axes>"
      ]
     },
     "metadata": {
      "needs_background": "light"
     },
     "output_type": "display_data"
    }
   ],
   "source": [
    "print(y_pred.shape,y_new.shape)\n",
    "\n",
    "\n",
    "plt.figure(figsize=(11,4))\n",
    "plt.subplot(121)\n",
    "plt.plot(y_pred.reshape(n_steps),y_new.reshape(n_steps),'.')\n",
    "plt.xlabel(\"Target value in train\")\n",
    "plt.ylabel(\"Predicted value for train\")\n",
    "\n",
    "plt.subplot(122)\n",
    "plt.plot(y_pred.reshape(n_steps), label=\"prediction for train\")\n",
    "plt.plot(y_new.reshape(n_steps), label=\"target in train\")\n",
    "plt.xlabel(\" Time \")\n",
    "plt.ylabel(\"Stock return\")\n",
    "plt.legend(loc=\"upper left\")\n",
    "\n"
   ]
  },
  {
   "cell_type": "markdown",
   "metadata": {},
   "source": [
    "## Solving the MNIST classification problem using an RNN"
   ]
  },
  {
   "cell_type": "markdown",
   "metadata": {
    "collapsed": true
   },
   "source": [
    "The next two examples show how to solve the MNIST problem using an RNN and a \"deep\" RNN of only 3 layers. For the classification problem the idea here is to treat each image as a sequence of 28 rows of 28 pixels each. Therefore the number of steps for the RNN is 28. In each step it uses the current row of the image and the output of the RNN in the previous step to make its prediction. However, in terms of the solution quality, we are only interested in the final prediction of the network (what digit is represented in the image)."
   ]
  },
  {
   "cell_type": "markdown",
   "metadata": {},
   "source": [
    "Reading the MNIST dataset"
   ]
  },
  {
   "cell_type": "code",
   "execution_count": 31,
   "metadata": {},
   "outputs": [],
   "source": [
    "def Read_And_Normalize_Image_Dataset(db_name='mnist', max_train_samples = 10000,max_test_samples = 10000):\n",
    "\n",
    "    if db_name=='mnist':\n",
    "        (x_train, y_train), (x_test, y_test) = mnist.load_data()               \n",
    "    elif db_name=='fashion':\n",
    "        (x_train, y_train), (x_test, y_test) = fashion_mnist.load_data()        \n",
    "        \n",
    "    #print(x_train.shape,y_train.shape)\n",
    "    #print(x_test.shape,y_test.shape)\n",
    "\n",
    "        \n",
    "    x_train = x_train.astype('float32') / 255.\n",
    "    x_test = x_test.astype('float32') / 255.\n",
    "    \n",
    "    #x_train = np.expand_dims(x_train, axis=3)\n",
    "    #x_test = np.expand_dims(x_test, axis=3)\n",
    "    #x_train = x_train.reshape((len(x_train), 28*28))\n",
    "    #x_test = x_test.reshape((len(x_test), 28*28))\n",
    "\n",
    "    return (x_train, y_train), (x_test, y_test) \n"
   ]
  },
  {
   "cell_type": "markdown",
   "metadata": {},
   "source": [
    "The following functions serve to display RGB images\n"
   ]
  },
  {
   "cell_type": "code",
   "execution_count": 32,
   "metadata": {},
   "outputs": [],
   "source": [
    "def plot_image(image, vmin=None, vmax=None, greyscale=True):\n",
    "    plt.imshow(image, cmap=\"gray\" if greyscale else None, interpolation=\"nearest\", vmin=vmin, vmax=vmax)\n",
    "    plt.axis(\"off\")\n",
    "    plt.show()\n"
   ]
  },
  {
   "cell_type": "code",
   "execution_count": 33,
   "metadata": {},
   "outputs": [
    {
     "data": {
      "image/png": "[encoded data removed]",
      "text/plain": [
       "<Figure size 432x288 with 1 Axes>"
      ]
     },
     "metadata": {
      "needs_background": "light"
     },
     "output_type": "display_data"
    }
   ],
   "source": [
    "(X_train, y_train), (X_test, y_test) = Read_And_Normalize_Image_Dataset(\"mnist\")\n",
    "\n",
    "\n",
    "# This line is to test you have downloaded the right dataset\n",
    "plot_image(X_train[1,:])"
   ]
  },
  {
   "cell_type": "markdown",
   "metadata": {},
   "source": [
    "### Single-layer RNN"
   ]
  },
  {
   "cell_type": "markdown",
   "metadata": {},
   "source": [
    "The parameters and the architecture of the one-layer are defined. Pay attention to the size of the inputs and the type of loss function used. "
   ]
  },
  {
   "cell_type": "code",
   "execution_count": 34,
   "metadata": {},
   "outputs": [
    {
     "name": "stdout",
     "output_type": "stream",
     "text": [
      "Tensor(\"rnn/transpose_1:0\", shape=(?, 28, 150), dtype=float32) Tensor(\"rnn/while/Exit_3:0\", shape=(?, 150), dtype=float32)\n",
      "WARNING:tensorflow:From <ipython-input-34-c9e0aa936d05>:20: dense (from tensorflow.python.layers.core) is deprecated and will be removed in a future version.\n",
      "Instructions for updating:\n",
      "Use keras.layers.dense instead.\n"
     ]
    }
   ],
   "source": [
    "reset_graph()\n",
    "\n",
    "n_steps = 28\n",
    "n_inputs = 28\n",
    "n_neurons = 150\n",
    "n_outputs = 10\n",
    "\n",
    "\n",
    "learning_rate = 0.001\n",
    "\n",
    "\n",
    "X = tf.placeholder(tf.float32, [None, n_steps, n_inputs])\n",
    "y = tf.placeholder(tf.int32, [None])\n",
    "\n",
    "basic_cell = tf.contrib.rnn.BasicRNNCell(num_units=n_neurons)\n",
    "outputs, states = tf.nn.dynamic_rnn(basic_cell, X, dtype=tf.float32)\n",
    "print(outputs, states)\n",
    "\n",
    "# The last layer will be a dense layer\n",
    "logits = tf.layers.dense(states, n_outputs)\n",
    "\n",
    "# softmax cross-entropy is the loss function to optimize\n",
    "xentropy = tf.nn.sparse_softmax_cross_entropy_with_logits(labels=y,\n",
    "                                                          logits=logits)\n",
    "loss = tf.reduce_mean(xentropy)\n",
    "\n",
    "optimizer = tf.train.AdamOptimizer(learning_rate=learning_rate)\n",
    "training_op = optimizer.minimize(loss)\n",
    "\n",
    "# A classification is correct if the most probable class corresponds\n",
    "# with the true class\n",
    "correct = tf.nn.in_top_k(logits, y, 1)\n",
    "accuracy = tf.reduce_mean(tf.cast(correct, tf.float32))\n",
    "\n",
    "init = tf.global_variables_initializer()"
   ]
  },
  {
   "cell_type": "markdown",
   "metadata": {
    "collapsed": true
   },
   "source": [
    "The network is trained. "
   ]
  },
  {
   "cell_type": "code",
   "execution_count": 35,
   "metadata": {},
   "outputs": [
    {
     "name": "stdout",
     "output_type": "stream",
     "text": [
      "0 Train accuracy: 0.9533333 Test accuracy: 0.9373\n",
      "1 Train accuracy: 0.96 Test accuracy: 0.9409\n",
      "2 Train accuracy: 0.9533333 Test accuracy: 0.9541\n",
      "3 Train accuracy: 0.9533333 Test accuracy: 0.9675\n",
      "4 Train accuracy: 0.96 Test accuracy: 0.9621\n",
      "5 Train accuracy: 0.96666664 Test accuracy: 0.97\n",
      "6 Train accuracy: 0.98 Test accuracy: 0.9719\n",
      "7 Train accuracy: 0.9866667 Test accuracy: 0.9676\n",
      "8 Train accuracy: 0.97333336 Test accuracy: 0.9739\n",
      "9 Train accuracy: 0.98 Test accuracy: 0.9727\n",
      "10 Train accuracy: 0.97333336 Test accuracy: 0.9723\n",
      "11 Train accuracy: 0.98 Test accuracy: 0.9679\n",
      "12 Train accuracy: 0.98 Test accuracy: 0.9783\n",
      "13 Train accuracy: 0.96666664 Test accuracy: 0.9789\n",
      "14 Train accuracy: 0.99333334 Test accuracy: 0.9782\n"
     ]
    }
   ],
   "source": [
    "n_epochs = 15\n",
    "batch_size = 150\n",
    "\n",
    "with  tf.Session() as sess:\n",
    "    init.run()\n",
    "    for epoch in range(n_epochs):\n",
    "        for iteration in range(X_train.shape[0] // batch_size):\n",
    "            random_batch = np.random.randint(0, X_train.shape[0], size=batch_size)\n",
    "            X_batch, y_batch = X_train[random_batch, :], y_train[random_batch]\n",
    "            X_batch = X_batch.reshape((-1, n_steps, n_inputs))\n",
    "            sess.run(training_op, feed_dict={X: X_batch, y: y_batch})\n",
    "        acc_train = accuracy.eval(feed_dict={X: X_batch, y: y_batch})\n",
    "\n",
    "        acc_test = accuracy.eval(feed_dict={X: X_test, y: y_test})\n",
    "        print(epoch, \"Train accuracy:\", acc_train, \"Test accuracy:\", acc_test)\n",
    "\n"
   ]
  },
  {
   "cell_type": "code",
   "execution_count": null,
   "metadata": {},
   "outputs": [],
   "source": []
  },
  {
   "cell_type": "markdown",
   "metadata": {},
   "source": [
    "### Three-layer RNN \n",
    "\n",
    "See how the architecture of the RNN is created."
   ]
  },
  {
   "cell_type": "code",
   "execution_count": 36,
   "metadata": {},
   "outputs": [
    {
     "name": "stdout",
     "output_type": "stream",
     "text": [
      "WARNING:tensorflow:From <ipython-input-36-93d0baca1c97>:19: BasicLSTMCell.__init__ (from tensorflow.python.ops.rnn_cell_impl) is deprecated and will be removed in a future version.\n",
      "Instructions for updating:\n",
      "This class is equivalent as tf.keras.layers.LSTMCell, and will be replaced by that in Tensorflow 2.0.\n",
      "WARNING:tensorflow:From <ipython-input-36-93d0baca1c97>:25: MultiRNNCell.__init__ (from tensorflow.python.ops.rnn_cell_impl) is deprecated and will be removed in a future version.\n",
      "Instructions for updating:\n",
      "This class is equivalent as tf.keras.layers.StackedRNNCells, and will be replaced by that in Tensorflow 2.0.\n"
     ]
    },
    {
     "name": "stderr",
     "output_type": "stream",
     "text": [
      "/home/unai/.local/lib/python3.7/site-packages/tensorflow/python/ops/gradients_util.py:93: UserWarning: Converting sparse IndexedSlices to a dense Tensor of unknown shape. This may consume a large amount of memory.\n",
      "  \"Converting sparse IndexedSlices to a dense Tensor of unknown shape. \"\n"
     ]
    }
   ],
   "source": [
    "reset_graph()\n",
    "\n",
    "\n",
    "n_steps = 28\n",
    "n_inputs = 28\n",
    "n_neurons_1 = 50\n",
    "n_neurons = 30\n",
    "\n",
    "n_outputs = 10\n",
    "\n",
    "\n",
    "learning_rate = 0.001\n",
    "\n",
    "\n",
    "X = tf.placeholder(tf.float32, [None, n_steps, n_inputs])\n",
    "y = tf.placeholder(tf.int32, [None])\n",
    "\n",
    "# We define RNN cells of two different classes\n",
    "rnn_cell1 = tf.contrib.rnn.BasicLSTMCell(num_units=n_neurons_1)\n",
    "\n",
    "# The cells are stacked within the RNN\n",
    "stack_rnn = [rnn_cell1]\n",
    "for i in range(1, 3):\n",
    "    stack_rnn.append(tf.contrib.rnn.BasicLSTMCell(num_units=n_neurons))\n",
    "multi_layer_cell = tf.contrib.rnn.MultiRNNCell(stack_rnn, state_is_tuple = True)\n",
    "\n",
    "outputs, states = tf.nn.dynamic_rnn(multi_layer_cell, X, dtype=tf.float32)\n",
    "\n",
    "# We need to transpose the outputs of the network because we are only interested\n",
    "# in the output of the last row. After transpose  the time axis is first\n",
    "outputs = tf.transpose(outputs, [1, 0, 2])\n",
    "\n",
    "# tf.gather() is used for selecting the last frame.\n",
    "last = tf.gather(outputs, int(outputs.get_shape()[0]) - 1)\n",
    "\n",
    "# The last layer will be a dense layer connecting all the last outputs\n",
    "# with a layer of the ten possible outputs we are interested in\n",
    "logits = tf.layers.dense(last, n_outputs)\n",
    "\n",
    "# softmax cross-entropy is the loss function to optimize\n",
    "xentropy = tf.nn.sparse_softmax_cross_entropy_with_logits(labels=y,\n",
    "                                                          logits=logits)\n",
    "loss = tf.reduce_mean(xentropy)\n",
    "\n",
    "optimizer = tf.train.AdamOptimizer(learning_rate=learning_rate)\n",
    "training_op = optimizer.minimize(loss)\n",
    "\n",
    "# A classification is correct if the most probable class corresponds\n",
    "# with the true class\n",
    "correct = tf.nn.in_top_k(logits, y, 1)\n",
    "accuracy = tf.reduce_mean(tf.cast(correct, tf.float32))\n",
    "\n",
    "init = tf.global_variables_initializer()"
   ]
  },
  {
   "cell_type": "code",
   "execution_count": 37,
   "metadata": {},
   "outputs": [
    {
     "name": "stdout",
     "output_type": "stream",
     "text": [
      "0 Train accuracy: 0.9266667 Test accuracy: 0.9224\n",
      "1 Train accuracy: 0.94666666 Test accuracy: 0.9495\n",
      "2 Train accuracy: 0.98 Test accuracy: 0.9622\n",
      "3 Train accuracy: 0.96666664 Test accuracy: 0.9683\n",
      "4 Train accuracy: 0.97333336 Test accuracy: 0.9687\n",
      "5 Train accuracy: 0.97333336 Test accuracy: 0.9777\n",
      "6 Train accuracy: 0.98 Test accuracy: 0.9752\n",
      "7 Train accuracy: 1.0 Test accuracy: 0.9782\n",
      "8 Train accuracy: 0.9866667 Test accuracy: 0.9754\n",
      "9 Train accuracy: 0.9866667 Test accuracy: 0.9785\n",
      "10 Train accuracy: 0.9866667 Test accuracy: 0.9802\n",
      "11 Train accuracy: 0.98 Test accuracy: 0.9798\n",
      "12 Train accuracy: 0.9866667 Test accuracy: 0.9834\n",
      "13 Train accuracy: 0.9866667 Test accuracy: 0.9838\n",
      "14 Train accuracy: 0.99333334 Test accuracy: 0.9836\n"
     ]
    }
   ],
   "source": [
    "n_epochs = 15\n",
    "batch_size = 150\n",
    "\n",
    "with  tf.Session() as sess:\n",
    "    init.run()\n",
    "    for epoch in range(n_epochs):\n",
    "        for iteration in range(X_train.shape[0] // batch_size):\n",
    "            random_batch = np.random.randint(0, X_train.shape[0], size=batch_size)\n",
    "            X_batch, y_batch = X_train[random_batch, :], y_train[random_batch]\n",
    "            X_batch = X_batch.reshape((-1, n_steps, n_inputs))\n",
    "            sess.run(training_op, feed_dict={X: X_batch, y: y_batch})\n",
    "        acc_train = accuracy.eval(feed_dict={X: X_batch, y: y_batch})\n",
    "\n",
    "        acc_test = accuracy.eval(feed_dict={X: X_test, y: y_test})\n",
    "        print(epoch, \"Train accuracy:\", acc_train, \"Test accuracy:\", acc_test)\n",
    "\n"
   ]
  },
  {
   "cell_type": "code",
   "execution_count": null,
   "metadata": {},
   "outputs": [],
   "source": []
  },
  {
   "cell_type": "code",
   "execution_count": null,
   "metadata": {},
   "outputs": [],
   "source": []
  },
  {
   "cell_type": "markdown",
   "metadata": {},
   "source": [
    "## Stock prediction with RNNs in Keras\n",
    "\n",
    "In this example we build RNN architectures to predict the stock market in a period between 2003 and 2008. First, information about 56 stocks is downloaded. "
   ]
  },
  {
   "cell_type": "code",
   "execution_count": 43,
   "metadata": {},
   "outputs": [
    {
     "name": "stderr",
     "output_type": "stream",
     "text": [
      "Fetching quote history for 'AAPL'\n",
      "Fetching quote history for 'AIG'\n",
      "Fetching quote history for 'AMZN'\n",
      "Fetching quote history for 'AXP'\n",
      "Fetching quote history for 'BA'\n",
      "Fetching quote history for 'BAC'\n",
      "Fetching quote history for 'CAJ'\n",
      "Fetching quote history for 'CAT'\n",
      "Fetching quote history for 'CL'\n",
      "Fetching quote history for 'CMCSA'\n",
      "Fetching quote history for 'COP'\n",
      "Fetching quote history for 'CSCO'\n",
      "Fetching quote history for 'CVC'\n",
      "Fetching quote history for 'CVS'\n",
      "Fetching quote history for 'CVX'\n",
      "Fetching quote history for 'DD'\n",
      "Fetching quote history for 'DELL'\n",
      "Fetching quote history for 'F'\n",
      "Fetching quote history for 'GD'\n",
      "Fetching quote history for 'GE'\n",
      "Fetching quote history for 'GS'\n",
      "Fetching quote history for 'GSK'\n",
      "Fetching quote history for 'HD'\n",
      "Fetching quote history for 'HMC'\n",
      "Fetching quote history for 'HPQ'\n",
      "Fetching quote history for 'IBM'\n",
      "Fetching quote history for 'JPM'\n",
      "Fetching quote history for 'K'\n",
      "Fetching quote history for 'KMB'\n",
      "Fetching quote history for 'KO'\n",
      "Fetching quote history for 'MAR'\n",
      "Fetching quote history for 'MCD'\n",
      "Fetching quote history for 'MMM'\n",
      "Fetching quote history for 'MSFT'\n",
      "Fetching quote history for 'NAV'\n",
      "Fetching quote history for 'NOC'\n",
      "Fetching quote history for 'NVS'\n",
      "Fetching quote history for 'PEP'\n",
      "Fetching quote history for 'PFE'\n",
      "Fetching quote history for 'PG'\n",
      "Fetching quote history for 'R'\n",
      "Fetching quote history for 'RTN'\n",
      "Fetching quote history for 'SAP'\n",
      "Fetching quote history for 'SNE'\n",
      "Fetching quote history for 'SNY'\n",
      "Fetching quote history for 'TM'\n",
      "Fetching quote history for 'TOT'\n",
      "Fetching quote history for 'TWX'\n",
      "Fetching quote history for 'TXN'\n",
      "Fetching quote history for 'UN'\n",
      "Fetching quote history for 'VLO'\n",
      "Fetching quote history for 'WFC'\n",
      "Fetching quote history for 'WMT'\n",
      "Fetching quote history for 'XOM'\n",
      "Fetching quote history for 'XRX'\n",
      "Fetching quote history for 'YHOO'\n"
     ]
    }
   ],
   "source": [
    "# #############################################################################\n",
    "# Retrieve the data from Internet\n",
    "\n",
    "# The data is from 2003 - 2008. This is reasonably calm: (not too long ago so\n",
    "# that we get high-tech firms, and before the 2008 crash). This kind of\n",
    "# historical data can be obtained for from APIs like the quandl.com and\n",
    "# alphavantage.co ones.\n",
    "#start_date = datetime(2003, 1, 1).date()\n",
    "#end_date = datetime(2008, 1, 1).date()\n",
    "\n",
    "symbol_dict = {\n",
    "    'TOT': 'Total',\n",
    "    'XOM': 'Exxon',\n",
    "    'CVX': 'Chevron',\n",
    "    'COP': 'ConocoPhillips',\n",
    "    'VLO': 'Valero Energy',\n",
    "    'MSFT': 'Microsoft',\n",
    "    'IBM': 'IBM',\n",
    "    'TWX': 'Time Warner',\n",
    "    'CMCSA': 'Comcast',\n",
    "    'CVC': 'Cablevision',\n",
    "    'YHOO': 'Yahoo',\n",
    "    'DELL': 'Dell',\n",
    "    'HPQ': 'HP',\n",
    "    'AMZN': 'Amazon',\n",
    "    'TM': 'Toyota',\n",
    "    'CAJ': 'Canon',\n",
    "    'SNE': 'Sony',\n",
    "    'F': 'Ford',\n",
    "    'HMC': 'Honda',\n",
    "    'NAV': 'Navistar',\n",
    "    'NOC': 'Northrop Grumman',\n",
    "    'BA': 'Boeing',\n",
    "    'KO': 'Coca Cola',\n",
    "    'MMM': '3M',\n",
    "    'MCD': 'McDonald\\'s',\n",
    "    'PEP': 'Pepsi',\n",
    "    'K': 'Kellogg',\n",
    "    'UN': 'Unilever',\n",
    "    'MAR': 'Marriott',\n",
    "    'PG': 'Procter Gamble',\n",
    "    'CL': 'Colgate-Palmolive',\n",
    "    'GE': 'General Electrics',\n",
    "    'WFC': 'Wells Fargo',\n",
    "    'JPM': 'JPMorgan Chase',\n",
    "    'AIG': 'AIG',\n",
    "    'AXP': 'American express',\n",
    "    'BAC': 'Bank of America',\n",
    "    'GS': 'Goldman Sachs',\n",
    "    'AAPL': 'Apple',\n",
    "    'SAP': 'SAP',\n",
    "    'CSCO': 'Cisco',\n",
    "    'TXN': 'Texas Instruments',\n",
    "    'XRX': 'Xerox',\n",
    "    'WMT': 'Wal-Mart',\n",
    "    'HD': 'Home Depot',\n",
    "    'GSK': 'GlaxoSmithKline',\n",
    "    'PFE': 'Pfizer',\n",
    "    'SNY': 'Sanofi-Aventis',\n",
    "    'NVS': 'Novartis',\n",
    "    'KMB': 'Kimberly-Clark',\n",
    "    'R': 'Ryder',\n",
    "    'GD': 'General Dynamics',\n",
    "    'RTN': 'Raytheon',\n",
    "    'CVS': 'CVS',\n",
    "    'CAT': 'Caterpillar',\n",
    "    'DD': 'DuPont de Nemours'}\n",
    "\n",
    "\n",
    "symbols, names = np.array(sorted(symbol_dict.items())).T\n",
    "\n",
    "quotes = []\n",
    "\n",
    "for symbol in symbols:\n",
    "    print('Fetching quote history for %r' % symbol, file=sys.stderr)\n",
    "    url = ('https://raw.githubusercontent.com/scikit-learn/examples-data/'\n",
    "           'master/financial-data/{}.csv')\n",
    "    data = list(csv.DictReader(l.decode('utf8')\n",
    "                               for l in urlopen(url.format(symbol))))\n",
    "    quotes.append({'close': [float(rec['close']) for rec in data],\n",
    "                   'open': [float(rec['open']) for rec in data]})\n",
    "\n",
    "close_prices = np.vstack([q['close'] for q in quotes])\n",
    "open_prices = np.vstack([q['open'] for q in quotes])\n",
    "\n",
    "# The daily variations of the quotes are what carry most information\n",
    "variation = close_prices - open_prices\n"
   ]
  },
  {
   "cell_type": "markdown",
   "metadata": {},
   "source": [
    "We visualize data for two of the time series, AAPL and AIG indices"
   ]
  },
  {
   "cell_type": "code",
   "execution_count": 44,
   "metadata": {},
   "outputs": [
    {
     "data": {
      "text/plain": [
       "Text(0, 0.5, 'Variation')"
      ]
     },
     "execution_count": 44,
     "metadata": {},
     "output_type": "execute_result"
    },
    {
     "data": {
      "image/png": "[encoded data removed]",
      "text/plain": [
       "<Figure size 792x288 with 2 Axes>"
      ]
     },
     "metadata": {
      "needs_background": "light"
     },
     "output_type": "display_data"
    }
   ],
   "source": [
    "period = np.arange(400,650)\n",
    "plt.figure(figsize=(11,4))\n",
    "plt.subplot(121)\n",
    "plt.title(\"Variation for AAPL index\", fontsize=14)\n",
    "plt.plot(variation[0,period],'b')\n",
    "#plt.plot(variation[1,:],'r.')\n",
    "plt.xlabel(\"Time\")\n",
    "plt.ylabel(\"Value\")\n",
    "\n",
    "plt.subplot(122)\n",
    "plt.title(\"Variation for AIG index\", fontsize=14)\n",
    "plt.plot(variation[1,period],'r-')\n",
    "plt.xlabel(\"Time\")\n",
    "plt.ylabel(\"Variation\")\n"
   ]
  },
  {
   "cell_type": "code",
   "execution_count": 45,
   "metadata": {},
   "outputs": [
    {
     "data": {
      "text/plain": [
       "(56, 1258)"
      ]
     },
     "execution_count": 45,
     "metadata": {},
     "output_type": "execute_result"
    }
   ],
   "source": [
    "variation.shape\n"
   ]
  },
  {
   "cell_type": "markdown",
   "metadata": {},
   "source": [
    "Auxiliary function to create batches for a single time-series"
   ]
  },
  {
   "cell_type": "code",
   "execution_count": 46,
   "metadata": {},
   "outputs": [],
   "source": [
    "\n",
    "def Create_Data(data,look_back,number_samples):\n",
    "    n_seq = data.shape[-1]    \n",
    "    X = np.zeros((number_samples,look_back))\n",
    "    # We select random positions to get the sequences for learning\n",
    "    pos =  look_back + np.random.randint(n_seq-look_back,size=number_samples)\n",
    "    \n",
    "    # The target variable is the stock time series at that position\n",
    "    Y = data[pos]\n",
    "    for i in np.arange(number_samples):\n",
    "        X[i,:] = data[(pos[i]-look_back):pos[i]]\n",
    "        \n",
    "        \n",
    "    return X,Y\n",
    "    "
   ]
  },
  {
   "cell_type": "code",
   "execution_count": null,
   "metadata": {},
   "outputs": [],
   "source": []
  },
  {
   "cell_type": "markdown",
   "metadata": {},
   "source": [
    "In the first approach we will predict one time series using a sequence of lookup observations from the same time series, i.e., input_features=look_back and output_features=1"
   ]
  },
  {
   "cell_type": "markdown",
   "metadata": {},
   "source": [
    "The train and test datasets are created. Observe the way in which they are created. "
   ]
  },
  {
   "cell_type": "code",
   "execution_count": 47,
   "metadata": {},
   "outputs": [
    {
     "data": {
      "text/plain": [
       "(1000, 5, 1)"
      ]
     },
     "execution_count": 47,
     "metadata": {},
     "output_type": "execute_result"
    }
   ],
   "source": [
    "number_observations = variation.shape[-1]\n",
    "indices_for_train = np.arange(0,int(number_observations/2))\n",
    "indices_for_test = np.arange(int(number_observations/2),number_observations)\n",
    "\n",
    "look_back = 5\n",
    "nsamples = 1000\n",
    "\n",
    "trainX, trainY = Create_Data(variation[0,indices_for_train],look_back,nsamples)\n",
    "testX, testY = Create_Data(variation[0,indices_for_test],look_back,nsamples)\n",
    "\n",
    "\n",
    "trainX = np.reshape(trainX, (trainX.shape[0], trainX.shape[1], 1))\n",
    "testX = np.reshape(testX,   (testX.shape[0], testX.shape[1],    1))\n",
    "trainY = np.reshape(trainY, (trainY.shape[0],1))\n",
    "testY = np.reshape(testY, (testY.shape[0], 1))\n",
    "\n",
    "trainX.shape\n"
   ]
  },
  {
   "cell_type": "markdown",
   "metadata": {},
   "source": [
    "An Simple RNN model is created. "
   ]
  },
  {
   "cell_type": "code",
   "execution_count": 48,
   "metadata": {},
   "outputs": [
    {
     "name": "stdout",
     "output_type": "stream",
     "text": [
      "Model: \"sequential_1\"\n",
      "_________________________________________________________________\n",
      "Layer (type)                 Output Shape              Param #   \n",
      "=================================================================\n",
      "simple_rnn_1 (SimpleRNN)     (None, 25)                675       \n",
      "_________________________________________________________________\n",
      "dropout_1 (Dropout)          (None, 25)                0         \n",
      "_________________________________________________________________\n",
      "dense_1 (Dense)              (None, 1)                 26        \n",
      "=================================================================\n",
      "Total params: 701\n",
      "Trainable params: 701\n",
      "Non-trainable params: 0\n",
      "_________________________________________________________________\n",
      "None\n"
     ]
    }
   ],
   "source": [
    "number_cells = 25\n",
    "\n",
    "stock_model = Sequential ()\n",
    "stock_model.add(SimpleRNN(number_cells, input_shape =(look_back, 1) ))\n",
    "stock_model.add(Dropout(0.2))\n",
    "stock_model.add (Dense (activation = 'linear',units=1))\n",
    "stock_model.compile (loss =\"mean_squared_error\" , metrics=['mse'], optimizer = \"adam\")  \n",
    "print(stock_model.summary())\n"
   ]
  },
  {
   "cell_type": "markdown",
   "metadata": {},
   "source": [
    "The model is trained and run"
   ]
  },
  {
   "cell_type": "code",
   "execution_count": 49,
   "metadata": {},
   "outputs": [
    {
     "name": "stdout",
     "output_type": "stream",
     "text": [
      "WARNING:tensorflow:From /usr/local/lib/python3.7/dist-packages/keras/backend/tensorflow_backend.py:422: The name tf.global_variables is deprecated. Please use tf.compat.v1.global_variables instead.\n",
      "\n",
      "WARNING:tensorflow:From /usr/local/lib/python3.7/dist-packages/keras/backend/tensorflow_backend.py:431: The name tf.is_variable_initialized is deprecated. Please use tf.compat.v1.is_variable_initialized instead.\n",
      "\n",
      "WARNING:tensorflow:From /usr/local/lib/python3.7/dist-packages/keras/backend/tensorflow_backend.py:438: The name tf.variables_initializer is deprecated. Please use tf.compat.v1.variables_initializer instead.\n",
      "\n",
      "Train on 1000 samples, validate on 1000 samples\n",
      "Epoch 1/50\n",
      "1000/1000 [==============================] - 0s 487us/step - loss: 0.5615 - mse: 0.5615 - val_loss: 4.3803 - val_mse: 4.3803\n",
      "Epoch 2/50\n",
      "1000/1000 [==============================] - 0s 288us/step - loss: 0.5011 - mse: 0.5011 - val_loss: 4.3250 - val_mse: 4.3250\n",
      "Epoch 3/50\n",
      "1000/1000 [==============================] - 0s 274us/step - loss: 0.4871 - mse: 0.4871 - val_loss: 4.3141 - val_mse: 4.3141\n",
      "Epoch 4/50\n",
      "1000/1000 [==============================] - 0s 278us/step - loss: 0.4865 - mse: 0.4865 - val_loss: 4.3040 - val_mse: 4.3040\n",
      "Epoch 5/50\n",
      "1000/1000 [==============================] - 0s 285us/step - loss: 0.4745 - mse: 0.4745 - val_loss: 4.2853 - val_mse: 4.2853\n",
      "Epoch 6/50\n",
      "1000/1000 [==============================] - 0s 305us/step - loss: 0.4719 - mse: 0.4719 - val_loss: 4.2886 - val_mse: 4.2886\n",
      "Epoch 7/50\n",
      "1000/1000 [==============================] - 0s 277us/step - loss: 0.4523 - mse: 0.4523 - val_loss: 4.2925 - val_mse: 4.2925\n",
      "Epoch 8/50\n",
      "1000/1000 [==============================] - 0s 281us/step - loss: 0.4653 - mse: 0.4653 - val_loss: 4.2774 - val_mse: 4.2773\n",
      "Epoch 9/50\n",
      "1000/1000 [==============================] - 0s 282us/step - loss: 0.4563 - mse: 0.4563 - val_loss: 4.2880 - val_mse: 4.2880\n",
      "Epoch 10/50\n",
      "1000/1000 [==============================] - 0s 273us/step - loss: 0.4783 - mse: 0.4783 - val_loss: 4.2733 - val_mse: 4.2733\n",
      "Epoch 11/50\n",
      "1000/1000 [==============================] - 0s 289us/step - loss: 0.4541 - mse: 0.4541 - val_loss: 4.2796 - val_mse: 4.2796\n",
      "Epoch 12/50\n",
      "1000/1000 [==============================] - 0s 276us/step - loss: 0.4486 - mse: 0.4486 - val_loss: 4.2915 - val_mse: 4.2915\n",
      "Epoch 13/50\n",
      "1000/1000 [==============================] - 0s 310us/step - loss: 0.4443 - mse: 0.4443 - val_loss: 4.2748 - val_mse: 4.2748\n",
      "Epoch 14/50\n",
      "1000/1000 [==============================] - 0s 312us/step - loss: 0.4585 - mse: 0.4585 - val_loss: 4.2669 - val_mse: 4.2669\n",
      "Epoch 15/50\n",
      "1000/1000 [==============================] - 0s 276us/step - loss: 0.4578 - mse: 0.4578 - val_loss: 4.2670 - val_mse: 4.2670\n",
      "Epoch 16/50\n",
      "1000/1000 [==============================] - 0s 274us/step - loss: 0.4522 - mse: 0.4522 - val_loss: 4.2654 - val_mse: 4.2654\n",
      "Epoch 17/50\n",
      "1000/1000 [==============================] - 0s 272us/step - loss: 0.4640 - mse: 0.4640 - val_loss: 4.2512 - val_mse: 4.2512\n",
      "Epoch 18/50\n",
      "1000/1000 [==============================] - 0s 279us/step - loss: 0.4566 - mse: 0.4566 - val_loss: 4.2633 - val_mse: 4.2633\n",
      "Epoch 19/50\n",
      "1000/1000 [==============================] - 0s 275us/step - loss: 0.4537 - mse: 0.4537 - val_loss: 4.2708 - val_mse: 4.2708\n",
      "Epoch 20/50\n",
      "1000/1000 [==============================] - 0s 312us/step - loss: 0.4352 - mse: 0.4352 - val_loss: 4.2470 - val_mse: 4.2470\n",
      "Epoch 21/50\n",
      "1000/1000 [==============================] - 0s 281us/step - loss: 0.4457 - mse: 0.4457 - val_loss: 4.2582 - val_mse: 4.2582\n",
      "Epoch 22/50\n",
      "1000/1000 [==============================] - 0s 291us/step - loss: 0.4501 - mse: 0.4501 - val_loss: 4.2523 - val_mse: 4.2523\n",
      "Epoch 23/50\n",
      "1000/1000 [==============================] - 0s 320us/step - loss: 0.4480 - mse: 0.4480 - val_loss: 4.2582 - val_mse: 4.2582\n",
      "Epoch 24/50\n",
      "1000/1000 [==============================] - 0s 273us/step - loss: 0.4467 - mse: 0.4467 - val_loss: 4.2566 - val_mse: 4.2566\n",
      "Epoch 25/50\n",
      "1000/1000 [==============================] - 0s 275us/step - loss: 0.4478 - mse: 0.4478 - val_loss: 4.2536 - val_mse: 4.2536\n",
      "Epoch 26/50\n",
      "1000/1000 [==============================] - 0s 278us/step - loss: 0.4461 - mse: 0.4461 - val_loss: 4.2508 - val_mse: 4.2508\n",
      "Epoch 27/50\n",
      "1000/1000 [==============================] - 0s 274us/step - loss: 0.4355 - mse: 0.4355 - val_loss: 4.2401 - val_mse: 4.2401\n",
      "Epoch 28/50\n",
      "1000/1000 [==============================] - 0s 282us/step - loss: 0.4394 - mse: 0.4394 - val_loss: 4.2337 - val_mse: 4.2337\n",
      "Epoch 29/50\n",
      "1000/1000 [==============================] - 0s 316us/step - loss: 0.4391 - mse: 0.4391 - val_loss: 4.2298 - val_mse: 4.2298\n",
      "Epoch 30/50\n",
      "1000/1000 [==============================] - 0s 324us/step - loss: 0.4292 - mse: 0.4292 - val_loss: 4.2222 - val_mse: 4.2222\n",
      "Epoch 31/50\n",
      "1000/1000 [==============================] - 0s 336us/step - loss: 0.4420 - mse: 0.4420 - val_loss: 4.2243 - val_mse: 4.2243\n",
      "Epoch 32/50\n",
      "1000/1000 [==============================] - 0s 273us/step - loss: 0.4258 - mse: 0.4258 - val_loss: 4.2192 - val_mse: 4.2192\n",
      "Epoch 33/50\n",
      "1000/1000 [==============================] - 0s 322us/step - loss: 0.4352 - mse: 0.4352 - val_loss: 4.2241 - val_mse: 4.2241\n",
      "Epoch 34/50\n",
      "1000/1000 [==============================] - 0s 293us/step - loss: 0.4205 - mse: 0.4205 - val_loss: 4.2134 - val_mse: 4.2134\n",
      "Epoch 35/50\n",
      "1000/1000 [==============================] - 0s 265us/step - loss: 0.4165 - mse: 0.4165 - val_loss: 4.2125 - val_mse: 4.2125\n",
      "Epoch 36/50\n",
      "1000/1000 [==============================] - 0s 269us/step - loss: 0.4249 - mse: 0.4249 - val_loss: 4.2095 - val_mse: 4.2095\n",
      "Epoch 37/50\n",
      "1000/1000 [==============================] - 0s 267us/step - loss: 0.4296 - mse: 0.4296 - val_loss: 4.2184 - val_mse: 4.2184\n",
      "Epoch 38/50\n",
      "1000/1000 [==============================] - 0s 280us/step - loss: 0.4115 - mse: 0.4115 - val_loss: 4.2189 - val_mse: 4.2189\n",
      "Epoch 39/50\n",
      "1000/1000 [==============================] - 0s 264us/step - loss: 0.4148 - mse: 0.4148 - val_loss: 4.2179 - val_mse: 4.2179\n",
      "Epoch 40/50\n",
      "1000/1000 [==============================] - 0s 267us/step - loss: 0.4028 - mse: 0.4028 - val_loss: 4.2163 - val_mse: 4.2163\n",
      "Epoch 41/50\n",
      "1000/1000 [==============================] - 0s 271us/step - loss: 0.4111 - mse: 0.4111 - val_loss: 4.2173 - val_mse: 4.2173\n",
      "Epoch 42/50\n",
      "1000/1000 [==============================] - 0s 273us/step - loss: 0.4121 - mse: 0.4121 - val_loss: 4.2260 - val_mse: 4.2260\n",
      "Epoch 43/50\n",
      "1000/1000 [==============================] - 0s 267us/step - loss: 0.4074 - mse: 0.4074 - val_loss: 4.2290 - val_mse: 4.2290\n",
      "Epoch 44/50\n",
      "1000/1000 [==============================] - 0s 264us/step - loss: 0.4105 - mse: 0.4105 - val_loss: 4.2218 - val_mse: 4.2218\n",
      "Epoch 45/50\n",
      "1000/1000 [==============================] - 0s 265us/step - loss: 0.4005 - mse: 0.4005 - val_loss: 4.2236 - val_mse: 4.2236\n",
      "Epoch 46/50\n",
      "1000/1000 [==============================] - 0s 269us/step - loss: 0.3952 - mse: 0.3952 - val_loss: 4.2298 - val_mse: 4.2298\n",
      "Epoch 47/50\n",
      "1000/1000 [==============================] - 0s 267us/step - loss: 0.4206 - mse: 0.4206 - val_loss: 4.2362 - val_mse: 4.2362\n",
      "Epoch 48/50\n",
      "1000/1000 [==============================] - 0s 273us/step - loss: 0.3912 - mse: 0.3912 - val_loss: 4.2445 - val_mse: 4.2445\n",
      "Epoch 49/50\n",
      "1000/1000 [==============================] - 0s 274us/step - loss: 0.3980 - mse: 0.3980 - val_loss: 4.2411 - val_mse: 4.2411\n",
      "Epoch 50/50\n",
      "1000/1000 [==============================] - 0s 277us/step - loss: 0.3955 - mse: 0.3955 - val_loss: 4.2434 - val_mse: 4.2434\n",
      "1000/1000 [==============================] - 0s 110us/step\n",
      "1000/1000 [==============================] - 0s 111us/step\n",
      "[0.37228470635414124, 0.3722847104072571] [4.243356600761413, 4.243356227874756]\n"
     ]
    }
   ],
   "source": [
    "nepochs = 50\n",
    "batch_size = 16\n",
    "history = stock_model.fit(trainX, trainY, validation_data=(testX,testY), batch_size =batch_size, \n",
    "                epochs =nepochs, shuffle = False)\n",
    "\n",
    "\n",
    "stock_model_train_error = stock_model.evaluate(trainX, trainY, batch_size=batch_size)\n",
    "stock_model_test_error = stock_model.evaluate(testX, testY, batch_size=batch_size)\n",
    "print(stock_model_train_error,stock_model_test_error)\n"
   ]
  },
  {
   "cell_type": "code",
   "execution_count": 50,
   "metadata": {},
   "outputs": [
    {
     "data": {
      "image/png": "[encoded data removed]",
      "text/plain": [
       "<Figure size 432x288 with 1 Axes>"
      ]
     },
     "metadata": {
      "needs_background": "light"
     },
     "output_type": "display_data"
    },
    {
     "data": {
      "image/png": "[encoded data removed]",
      "text/plain": [
       "<Figure size 432x288 with 1 Axes>"
      ]
     },
     "metadata": {
      "needs_background": "light"
     },
     "output_type": "display_data"
    }
   ],
   "source": [
    "plt.title(\"Variation for AIG index\", fontsize=14)\n",
    "plt.plot(history.history[\"mse\"],'r-')\n",
    "plt.xlabel(\"Epoch\")\n",
    "plt.ylabel(\"MSE\")\n",
    "plt.show()\n",
    "plt.title(\"Variation for AIG index\", fontsize=14)\n",
    "plt.plot(history.history[\"val_mse\"],'r-')\n",
    "plt.xlabel(\"Epoch\")\n",
    "plt.ylabel(\"VAL_MSE\")\n",
    "plt.show()"
   ]
  },
  {
   "cell_type": "code",
   "execution_count": null,
   "metadata": {},
   "outputs": [],
   "source": []
  },
  {
   "cell_type": "markdown",
   "metadata": {},
   "source": [
    "## Exercise 2\n",
    "\n",
    "In the previous example we predicted the variation for the first stock variation[0,:] using only information about that stock. In the next exercise we would like to use information from all the stocks. \n",
    "\n",
    "Function Create_Data_Multiple, creates batches for solving this problem. \n",
    "\n",
    "Define a Keras model that contains a single LSTM with 50 cells and one fully connected hidden layer with 50 neurons. Between each layer, include a dropout, with 0.2 probability. Select an adecquate loss function for this problem.\n",
    "\n",
    "Finally, show the accuracy of the model both in the training set, and in the test set"
   ]
  },
  {
   "cell_type": "code",
   "execution_count": 52,
   "metadata": {},
   "outputs": [],
   "source": [
    "def Create_Data_Multiple(data,look_back,number_samples,index_to_predict):\n",
    "    n_seq = data.shape[-1]   \n",
    "    n_col = data.shape[0] \n",
    "    X = np.zeros((number_samples,look_back,n_col))\n",
    "    # We select random positions to get the sequences for learning\n",
    "    pos =  look_back + np.random.randint(n_seq-look_back,size=number_samples)\n",
    "    \n",
    "    # The target variable is the stock time series at that position\n",
    "    Y = data[index_to_predict,pos]\n",
    "    for i in np.arange(number_samples):\n",
    "        X[i,:,:] = data[:,(pos[i]-look_back):pos[i]].transpose()\n",
    "        \n",
    "    return X,Y"
   ]
  },
  {
   "cell_type": "code",
   "execution_count": null,
   "metadata": {},
   "outputs": [],
   "source": []
  },
  {
   "cell_type": "code",
   "execution_count": 53,
   "metadata": {},
   "outputs": [
    {
     "data": {
      "text/plain": [
       "(10000, 30, 56)"
      ]
     },
     "execution_count": 53,
     "metadata": {},
     "output_type": "execute_result"
    }
   ],
   "source": [
    "nsamples = 10000\n",
    "look_back = 30\n",
    "index_to_predict = 0\n",
    "indices_to_take = np.arange(0,56)\n",
    "reduced_variation = variation[indices_to_take,:]\n",
    "\n",
    "trainX, trainY = Create_Data_Multiple(reduced_variation[:,indices_for_train],\n",
    "                                      look_back,nsamples,index_to_predict)\n",
    "\n",
    "testX, testY = Create_Data_Multiple(reduced_variation[:,indices_for_test],\n",
    "                                      look_back,nsamples,index_to_predict)\n",
    "trainY = np.reshape(trainY, (trainY.shape[0],1))\n",
    "testY = np.reshape(testY, (testY.shape[0], 1))\n",
    "\n",
    "testX.shape"
   ]
  },
  {
   "cell_type": "code",
   "execution_count": null,
   "metadata": {},
   "outputs": [],
   "source": []
  },
  {
   "cell_type": "code",
   "execution_count": 54,
   "metadata": {},
   "outputs": [],
   "source": [
    "nepochs = 10\n",
    "batch_size = 16"
   ]
  },
  {
   "cell_type": "code",
   "execution_count": 55,
   "metadata": {},
   "outputs": [
    {
     "name": "stdout",
     "output_type": "stream",
     "text": [
      "Model: \"sequential_2\"\n",
      "_________________________________________________________________\n",
      "Layer (type)                 Output Shape              Param #   \n",
      "=================================================================\n",
      "simple_rnn_2 (SimpleRNN)     (None, 50)                5350      \n",
      "_________________________________________________________________\n",
      "dropout_2 (Dropout)          (None, 50)                0         \n",
      "_________________________________________________________________\n",
      "dense_2 (Dense)              (None, 50)                2550      \n",
      "_________________________________________________________________\n",
      "dense_3 (Dense)              (None, 1)                 51        \n",
      "=================================================================\n",
      "Total params: 7,951\n",
      "Trainable params: 7,951\n",
      "Non-trainable params: 0\n",
      "_________________________________________________________________\n",
      "None\n"
     ]
    }
   ],
   "source": [
    "number_cells = 50\n",
    "\n",
    "stock_model = Sequential ()\n",
    "stock_model.add(SimpleRNN(number_cells, input_shape =(look_back, 56) ))\n",
    "stock_model.add(Dropout(0.2))\n",
    "stock_model.add(Dense (activation = 'relu',units=50))\n",
    "stock_model.add(Dense (activation = 'linear',units=1))\n",
    "stock_model.compile (loss =\"mean_squared_error\" , metrics=['mse'], optimizer = \"adam\")  \n",
    "print(stock_model.summary())\n"
   ]
  },
  {
   "cell_type": "code",
   "execution_count": 56,
   "metadata": {},
   "outputs": [
    {
     "name": "stdout",
     "output_type": "stream",
     "text": [
      "Train on 10000 samples, validate on 10000 samples\n",
      "Epoch 1/50\n",
      "10000/10000 [==============================] - 9s 855us/step - loss: 0.3591 - mse: 0.3591 - val_loss: 4.5237 - val_mse: 4.5237\n",
      "Epoch 2/50\n",
      "10000/10000 [==============================] - 8s 838us/step - loss: 0.1369 - mse: 0.1369 - val_loss: 4.6640 - val_mse: 4.6640\n",
      "Epoch 3/50\n",
      "10000/10000 [==============================] - 8s 836us/step - loss: 0.0977 - mse: 0.0977 - val_loss: 4.6331 - val_mse: 4.6331\n",
      "Epoch 4/50\n",
      "10000/10000 [==============================] - 8s 846us/step - loss: 0.0796 - mse: 0.0796 - val_loss: 4.5922 - val_mse: 4.5922\n",
      "Epoch 5/50\n",
      "10000/10000 [==============================] - 9s 857us/step - loss: 0.0716 - mse: 0.0716 - val_loss: 4.5531 - val_mse: 4.5531\n",
      "Epoch 6/50\n",
      "10000/10000 [==============================] - 8s 827us/step - loss: 0.0639 - mse: 0.0639 - val_loss: 4.5876 - val_mse: 4.5876\n",
      "Epoch 7/50\n",
      "10000/10000 [==============================] - 8s 820us/step - loss: 0.0570 - mse: 0.0570 - val_loss: 4.6027 - val_mse: 4.6027\n",
      "Epoch 8/50\n",
      "10000/10000 [==============================] - 8s 823us/step - loss: 0.0537 - mse: 0.0537 - val_loss: 4.5968 - val_mse: 4.5968\n",
      "Epoch 9/50\n",
      "10000/10000 [==============================] - 9s 863us/step - loss: 0.0497 - mse: 0.0497 - val_loss: 4.5917 - val_mse: 4.5917\n",
      "Epoch 10/50\n",
      "10000/10000 [==============================] - 9s 856us/step - loss: 0.0468 - mse: 0.0468 - val_loss: 4.6067 - val_mse: 4.6067\n",
      "Epoch 11/50\n",
      "10000/10000 [==============================] - 8s 850us/step - loss: 0.0441 - mse: 0.0441 - val_loss: 4.5624 - val_mse: 4.5624\n",
      "Epoch 12/50\n",
      "10000/10000 [==============================] - 8s 840us/step - loss: 0.0455 - mse: 0.0455 - val_loss: 4.5919 - val_mse: 4.5919\n",
      "Epoch 13/50\n",
      "10000/10000 [==============================] - 9s 856us/step - loss: 0.0398 - mse: 0.0398 - val_loss: 4.6268 - val_mse: 4.6268\n",
      "Epoch 14/50\n",
      "10000/10000 [==============================] - 8s 834us/step - loss: 0.0383 - mse: 0.0383 - val_loss: 4.6099 - val_mse: 4.6099\n",
      "Epoch 15/50\n",
      "10000/10000 [==============================] - 8s 828us/step - loss: 0.0354 - mse: 0.0354 - val_loss: 4.5933 - val_mse: 4.5933\n",
      "Epoch 16/50\n",
      "10000/10000 [==============================] - 8s 839us/step - loss: 0.0349 - mse: 0.0349 - val_loss: 4.5581 - val_mse: 4.5582\n",
      "Epoch 17/50\n",
      "10000/10000 [==============================] - 8s 839us/step - loss: 0.0338 - mse: 0.0338 - val_loss: 4.5297 - val_mse: 4.5297\n",
      "Epoch 18/50\n",
      "10000/10000 [==============================] - 8s 829us/step - loss: 0.0330 - mse: 0.0330 - val_loss: 4.5788 - val_mse: 4.5788\n",
      "Epoch 19/50\n",
      "10000/10000 [==============================] - 8s 826us/step - loss: 0.0325 - mse: 0.0325 - val_loss: 4.5395 - val_mse: 4.5395\n",
      "Epoch 20/50\n",
      "10000/10000 [==============================] - 8s 822us/step - loss: 0.0310 - mse: 0.0310 - val_loss: 4.5596 - val_mse: 4.5596\n",
      "Epoch 21/50\n",
      "10000/10000 [==============================] - 8s 831us/step - loss: 0.0308 - mse: 0.0308 - val_loss: 4.5860 - val_mse: 4.5860\n",
      "Epoch 22/50\n",
      "10000/10000 [==============================] - 8s 822us/step - loss: 0.0291 - mse: 0.0291 - val_loss: 4.5828 - val_mse: 4.5828\n",
      "Epoch 23/50\n",
      "10000/10000 [==============================] - 8s 831us/step - loss: 0.0286 - mse: 0.0286 - val_loss: 4.5811 - val_mse: 4.5811\n",
      "Epoch 24/50\n",
      "10000/10000 [==============================] - 8s 824us/step - loss: 0.0281 - mse: 0.0281 - val_loss: 4.5848 - val_mse: 4.5848\n",
      "Epoch 25/50\n",
      "10000/10000 [==============================] - 9s 851us/step - loss: 0.0270 - mse: 0.0270 - val_loss: 4.5610 - val_mse: 4.5610\n",
      "Epoch 26/50\n",
      "10000/10000 [==============================] - 8s 820us/step - loss: 0.0274 - mse: 0.0274 - val_loss: 4.5977 - val_mse: 4.5977\n",
      "Epoch 27/50\n",
      "10000/10000 [==============================] - 8s 812us/step - loss: 0.0270 - mse: 0.0270 - val_loss: 4.5723 - val_mse: 4.5723\n",
      "Epoch 28/50\n",
      "10000/10000 [==============================] - 8s 845us/step - loss: 0.0261 - mse: 0.0261 - val_loss: 4.5848 - val_mse: 4.5848\n",
      "Epoch 29/50\n",
      "10000/10000 [==============================] - 8s 815us/step - loss: 0.0257 - mse: 0.0257 - val_loss: 4.5222 - val_mse: 4.5222\n",
      "Epoch 30/50\n",
      "10000/10000 [==============================] - 8s 818us/step - loss: 0.0243 - mse: 0.0243 - val_loss: 4.5474 - val_mse: 4.5474\n",
      "Epoch 31/50\n",
      "10000/10000 [==============================] - 8s 816us/step - loss: 0.0237 - mse: 0.0237 - val_loss: 4.5539 - val_mse: 4.5539\n",
      "Epoch 32/50\n",
      "10000/10000 [==============================] - 8s 823us/step - loss: 0.0243 - mse: 0.0243 - val_loss: 4.5535 - val_mse: 4.5535\n",
      "Epoch 33/50\n",
      "10000/10000 [==============================] - 8s 825us/step - loss: 0.0237 - mse: 0.0237 - val_loss: 4.5507 - val_mse: 4.5507\n",
      "Epoch 34/50\n",
      "10000/10000 [==============================] - 8s 827us/step - loss: 0.0226 - mse: 0.0226 - val_loss: 4.5598 - val_mse: 4.5598\n",
      "Epoch 35/50\n",
      "10000/10000 [==============================] - 8s 825us/step - loss: 0.0228 - mse: 0.0228 - val_loss: 4.5743 - val_mse: 4.5743\n",
      "Epoch 36/50\n",
      "10000/10000 [==============================] - 8s 823us/step - loss: 0.0218 - mse: 0.0218 - val_loss: 4.5593 - val_mse: 4.5593\n",
      "Epoch 37/50\n",
      "10000/10000 [==============================] - 8s 838us/step - loss: 0.0216 - mse: 0.0216 - val_loss: 4.5400 - val_mse: 4.5400\n",
      "Epoch 38/50\n",
      "10000/10000 [==============================] - 8s 818us/step - loss: 0.0210 - mse: 0.0210 - val_loss: 4.5618 - val_mse: 4.5618\n",
      "Epoch 39/50\n",
      "10000/10000 [==============================] - 8s 820us/step - loss: 0.0216 - mse: 0.0216 - val_loss: 4.5737 - val_mse: 4.5737\n",
      "Epoch 40/50\n",
      "10000/10000 [==============================] - 8s 822us/step - loss: 0.0213 - mse: 0.0213 - val_loss: 4.5369 - val_mse: 4.5369\n",
      "Epoch 41/50\n",
      "10000/10000 [==============================] - 9s 857us/step - loss: 0.0207 - mse: 0.0207 - val_loss: 4.5295 - val_mse: 4.5295\n",
      "Epoch 42/50\n",
      "10000/10000 [==============================] - 8s 838us/step - loss: 0.0207 - mse: 0.0207 - val_loss: 4.5753 - val_mse: 4.5753\n",
      "Epoch 43/50\n",
      "10000/10000 [==============================] - 8s 821us/step - loss: 0.0205 - mse: 0.0205 - val_loss: 4.5638 - val_mse: 4.5638\n",
      "Epoch 44/50\n",
      "10000/10000 [==============================] - 8s 821us/step - loss: 0.0185 - mse: 0.0185 - val_loss: 4.5348 - val_mse: 4.5348\n",
      "Epoch 45/50\n",
      "10000/10000 [==============================] - 8s 841us/step - loss: 0.0203 - mse: 0.0203 - val_loss: 4.5380 - val_mse: 4.5380\n",
      "Epoch 46/50\n",
      "10000/10000 [==============================] - 8s 812us/step - loss: 0.0193 - mse: 0.0193 - val_loss: 4.5459 - val_mse: 4.5459\n",
      "Epoch 47/50\n",
      "10000/10000 [==============================] - 8s 804us/step - loss: 0.0200 - mse: 0.0200 - val_loss: 4.5008 - val_mse: 4.5008\n",
      "Epoch 48/50\n",
      "10000/10000 [==============================] - 8s 812us/step - loss: 0.0198 - mse: 0.0198 - val_loss: 4.5817 - val_mse: 4.5816\n",
      "Epoch 49/50\n",
      "10000/10000 [==============================] - 8s 809us/step - loss: 0.0187 - mse: 0.0187 - val_loss: 4.5417 - val_mse: 4.5417\n",
      "Epoch 50/50\n",
      "10000/10000 [==============================] - 8s 808us/step - loss: 0.0188 - mse: 0.0188 - val_loss: 4.5721 - val_mse: 4.5721\n",
      "10000/10000 [==============================] - 3s 295us/step\n",
      "10000/10000 [==============================] - 3s 295us/step\n",
      "[0.005456795629113912, 0.005456793121993542] [4.572139082431793, 4.572135925292969]\n"
     ]
    }
   ],
   "source": [
    "nepochs = 50\n",
    "batch_size = 16\n",
    "history = stock_model.fit(trainX, trainY, validation_data=(testX,testY), batch_size =batch_size, \n",
    "                epochs =nepochs, shuffle = False)\n",
    "\n",
    "\n",
    "stock_model_train_error = stock_model.evaluate(trainX, trainY, batch_size=batch_size)\n",
    "stock_model_test_error = stock_model.evaluate(testX, testY, batch_size=batch_size)\n",
    "print(stock_model_train_error,stock_model_test_error)\n"
   ]
  },
  {
   "cell_type": "markdown",
   "metadata": {},
   "source": [
    "### Tensorflow implementation of a RNN\n",
    "\n",
    "In the following cell, we set common parameters of a RNN implementation. "
   ]
  },
  {
   "cell_type": "code",
   "execution_count": null,
   "metadata": {},
   "outputs": [],
   "source": [
    "seed = 1\n",
    "\n",
    "tf.set_random_seed(seed)\n",
    "np.random.seed(seed)\n",
    "random.seed(seed)\n",
    "\n",
    "num_epochs = 500\n",
    "total_series_length = 10000\n",
    "truncated_backprop_length = 20\n",
    "state_size = 4\n",
    "batch_size = 20\n",
    "num_batches = total_series_length//batch_size//truncated_backprop_length"
   ]
  },
  {
   "cell_type": "markdown",
   "metadata": {},
   "source": [
    "We are also going to redefine the time series we are working with, so that the values are independent of the place we take the batch from"
   ]
  },
  {
   "cell_type": "code",
   "execution_count": null,
   "metadata": {},
   "outputs": [],
   "source": [
    "def time_series(t):\n",
    "    return  np.sin(t) / 3 + 2 * np.sin(t*5)\n",
    "\n",
    "t_min, t_max = 0, 30\n",
    "resolution = 0.1\n",
    "\n",
    "# Receives the number of samples (batch_size) of size (n_steps) to extract\n",
    "# from the time series, and outputs such a sample\n",
    "def next_batch(btch_sz, n_steps):\n",
    "    t0 = np.random.rand(btch_sz, 1) * (t_max - t_min - n_steps * resolution)\n",
    "    ts = t0 + np.arange(0., n_steps + 1) * resolution\n",
    "    ys = time_series(ts)\n",
    "    return ys[:, :-1].reshape(-1, n_steps), ys[:, 1:].reshape(-1, n_steps)"
   ]
  },
  {
   "cell_type": "code",
   "execution_count": null,
   "metadata": {},
   "outputs": [],
   "source": [
    "X = tf.placeholder(tf.float32, [None, truncated_backprop_length])\n",
    "Y = tf.placeholder(tf.int32, [None, truncated_backprop_length])\n",
    "\n",
    "init_state = tf.placeholder(tf.float32, [None, state_size])\n",
    "\n",
    "W = tf.Variable(np.random.rand(state_size+1, state_size), dtype=tf.float32)\n",
    "b = tf.Variable(np.zeros((1,state_size)), dtype=tf.float32)\n",
    "\n",
    "W2 = tf.Variable(np.random.rand(state_size, 1),dtype=tf.float32)\n",
    "b2 = tf.Variable(np.zeros((1,1)), dtype=tf.float32)\n",
    "\n",
    "# Unpack columns\n",
    "inputs_series = tf.unstack(X, axis=1)\n",
    "g_truth_series = tf.unstack(Y, axis=1)\n",
    "\n",
    "print(len(inputs_series), X)\n",
    "saver = tf.train.Saver()"
   ]
  },
  {
   "cell_type": "markdown",
   "metadata": {},
   "source": [
    "Definition of the recurrent part of the network:"
   ]
  },
  {
   "cell_type": "code",
   "execution_count": null,
   "metadata": {},
   "outputs": [],
   "source": [
    "current_state = init_state\n",
    "states_series = []\n",
    "\n",
    "for current_input in inputs_series:\n",
    "    current_input = tf.reshape(current_input, [-1, 1])\n",
    "    input_and_state_concatenated = tf.concat([current_input, current_state], 1)  \n",
    "\n",
    "    next_state = tf.tanh(tf.matmul(input_and_state_concatenated, W) + b)  \n",
    "    states_series.append(next_state)\n",
    "    current_state = next_state\n",
    "\n",
    "predictions_series = [tf.matmul(state, W2) + b2 for state in states_series] "
   ]
  },
  {
   "cell_type": "code",
   "execution_count": null,
   "metadata": {},
   "outputs": [],
   "source": [
    "losses = [tf.losses.mean_squared_error(pred, tf.reshape(val, (-1,1))) for pred, val in zip(predictions_series, g_truth_series)]\n",
    "\n",
    "total_loss = tf.reduce_mean(losses)\n",
    "\n",
    "train_step = tf.train.AdagradOptimizer(0.001).minimize(total_loss)"
   ]
  },
  {
   "cell_type": "code",
   "execution_count": null,
   "metadata": {},
   "outputs": [],
   "source": [
    "with tf.Session() as sess:\n",
    "    sess.run(tf.initialize_all_variables())\n",
    "\n",
    "    for epoch_idx in range(num_epochs):\n",
    "        x,y = next_batch(batch_size, total_series_length)\n",
    "\n",
    "        _current_state = np.zeros((batch_size, state_size))\n",
    "\n",
    "\n",
    "        for batch_idx in range(num_batches):\n",
    "            start_idx = batch_idx * truncated_backprop_length\n",
    "            end_idx = start_idx + truncated_backprop_length\n",
    "\n",
    "            batchX = x[:,start_idx:end_idx]\n",
    "            batchY = y[:,start_idx:end_idx]\n",
    "\n",
    "            #print(batchY.shape)\n",
    "\n",
    "            _total_loss, _train_step, _current_state = sess.run([total_loss, train_step, current_state],feed_dict={X:batchX, Y:batchY, init_state:_current_state})\n",
    "\n",
    "\n",
    "        print(\"Epoch\",epoch_idx, \"Loss\", _total_loss)\n",
    "\n",
    "\n",
    "    saver.save(sess, \"./myRNN\")\n"
   ]
  },
  {
   "cell_type": "code",
   "execution_count": null,
   "metadata": {},
   "outputs": [],
   "source": []
  },
  {
   "cell_type": "code",
   "execution_count": null,
   "metadata": {},
   "outputs": [],
   "source": [
    "with tf.Session() as sess:\n",
    "\n",
    "    saver.restore(sess, \"./myRNN\")\n",
    "\n",
    "    x, y = next_batch(batch_size, truncated_backprop_length)\n",
    "\n",
    "    p = np.array(sess.run(predictions_series, feed_dict={X: x, init_state: np.zeros((batch_size, state_size))}))\n",
    "\n",
    "    print(p.shape, x.shape)\n",
    "\n",
    "    plt.plot(p[:,0], label=\"prediction\")\n",
    "    plt.plot(x[0,:], label=\"truth\")\n",
    "    plt.plot(y[0,:], label=\"truth+1\")\n",
    "\n",
    "    plt.legend()\n",
    "    plt.show()"
   ]
  },
  {
   "cell_type": "code",
   "execution_count": null,
   "metadata": {},
   "outputs": [],
   "source": []
  },
  {
   "cell_type": "code",
   "execution_count": null,
   "metadata": {},
   "outputs": [],
   "source": []
  },
  {
   "cell_type": "markdown",
   "metadata": {},
   "source": [
    "## Exercise 3\n",
    "### Solving the MNIST classification problem using an RNN.\n",
    "\n",
    "Below is an incomplete model of an application of an LSTM to solve the MNIST problem. Here, we want to solve the same problem that was treated before Exercise 2, but using Keras instead of tensorflow.\n",
    "\n",
    "For that, we define a model onsisting of a single LSTM with 50 neurons, and a single dense layer. Therefore, the model will only have one single hidden layer, with 50 neurons.\n",
    "\n",
    "After training the model, obtain its accuracy in the test set.\n"
   ]
  },
  {
   "cell_type": "code",
   "execution_count": null,
   "metadata": {},
   "outputs": [],
   "source": [
    "\n"
   ]
  },
  {
   "cell_type": "code",
   "execution_count": 59,
   "metadata": {},
   "outputs": [
    {
     "name": "stdout",
     "output_type": "stream",
     "text": [
      "Dimension of the samples in the training set:  (60000, 28, 28)\n",
      "Dimension of samples in the test set:  (10000, 28, 28)\n",
      "Dimension of the labels training set (one_hot):  (60000, 10)\n",
      "Dimension of the labels test set (one_hot):  (10000, 10)\n"
     ]
    }
   ],
   "source": [
    "(x_mnist_train, y_mnist_train), (x_mnist_test, y_mnist_test) \\\n",
    "                                = Read_And_Normalize_Image_Dataset(db_name='mnist', \\\n",
    "                                max_train_samples = 10000, max_test_samples = 10000)\n",
    "\n",
    "\n",
    "print(\"Dimension of the samples in the training set: \", x_mnist_train.shape)\n",
    "print(\"Dimension of samples in the test set: \", x_mnist_test.shape)\n",
    "\n",
    "number_mnist_classes = 10\n",
    "y_mnist_train_one_hot  = to_categorical(y_mnist_train)\n",
    "y_mnist_test_one_hot  = to_categorical(y_mnist_test)\n",
    "\n",
    "print(\"Dimension of the labels training set (one_hot): \", y_mnist_train_one_hot.shape)\n",
    "print(\"Dimension of the labels test set (one_hot): \", y_mnist_test_one_hot.shape)"
   ]
  },
  {
   "cell_type": "code",
   "execution_count": 73,
   "metadata": {},
   "outputs": [],
   "source": [
    "number_neurons = 50\n",
    "time_steps = 1\n",
    "n_inputs = 28\n",
    "number_classes = 10\n",
    "number_epochs = 10\n",
    "batch_size = 200\n",
    "nepochs = 5"
   ]
  },
  {
   "cell_type": "code",
   "execution_count": 74,
   "metadata": {},
   "outputs": [
    {
     "name": "stdout",
     "output_type": "stream",
     "text": [
      "Model: \"sequential_9\"\n",
      "_________________________________________________________________\n",
      "Layer (type)                 Output Shape              Param #   \n",
      "=================================================================\n",
      "simple_rnn_9 (SimpleRNN)     (None, 50)                3950      \n",
      "_________________________________________________________________\n",
      "dropout_9 (Dropout)          (None, 50)                0         \n",
      "_________________________________________________________________\n",
      "dense_16 (Dense)             (None, 50)                2550      \n",
      "_________________________________________________________________\n",
      "dense_17 (Dense)             (None, 10)                510       \n",
      "=================================================================\n",
      "Total params: 7,010\n",
      "Trainable params: 7,010\n",
      "Non-trainable params: 0\n",
      "_________________________________________________________________\n",
      "None\n"
     ]
    }
   ],
   "source": [
    "number_cells = 50\n",
    "\n",
    "mnist_model = Sequential ()\n",
    "mnist_model.add(SimpleRNN(number_cells, input_shape =(28, 28) ))\n",
    "mnist_model.add(Dropout(0.2))\n",
    "mnist_model.add(Dense (activation = 'relu',units=50))\n",
    "mnist_model.add(Dense (activation = 'softmax',units=10))\n",
    "mnist_model.compile(loss =\"categorical_crossentropy\" , metrics=['acc'], optimizer = \"adam\")  \n",
    "print(mnist_model.summary())"
   ]
  },
  {
   "cell_type": "code",
   "execution_count": 75,
   "metadata": {},
   "outputs": [
    {
     "name": "stdout",
     "output_type": "stream",
     "text": [
      "Train on 60000 samples, validate on 10000 samples\n",
      "Epoch 1/5\n",
      "60000/60000 [==============================] - 3s 52us/step - loss: 1.0688 - acc: 0.6355 - val_loss: 0.6523 - val_acc: 0.7711\n",
      "Epoch 2/5\n",
      "60000/60000 [==============================] - 3s 46us/step - loss: 0.5722 - acc: 0.8050 - val_loss: 0.4176 - val_acc: 0.8635\n",
      "Epoch 3/5\n",
      "60000/60000 [==============================] - 3s 46us/step - loss: 0.4062 - acc: 0.8738 - val_loss: 0.3043 - val_acc: 0.9089\n",
      "Epoch 4/5\n",
      "60000/60000 [==============================] - 3s 46us/step - loss: 0.3211 - acc: 0.9038 - val_loss: 0.2564 - val_acc: 0.9229\n",
      "Epoch 5/5\n",
      "60000/60000 [==============================] - 3s 46us/step - loss: 0.2721 - acc: 0.9199 - val_loss: 0.2267 - val_acc: 0.9304\n"
     ]
    }
   ],
   "source": [
    "history = mnist_model.fit(x_mnist_train, y_mnist_train_one_hot, validation_data=(x_mnist_test,y_mnist_test_one_hot), \n",
    "                          batch_size=batch_size, epochs=nepochs, shuffle = False)"
   ]
  },
  {
   "cell_type": "code",
   "execution_count": 86,
   "metadata": {},
   "outputs": [
    {
     "name": "stdout",
     "output_type": "stream",
     "text": [
      "The accuracy on test data was: 93.04 %\n"
     ]
    }
   ],
   "source": [
    "preds = np.argmax(mnist_model.predict(x_mnist_test), axis=1)\n",
    "print(\"The accuracy on test data was:\", str(np.sum(1*(y_mnist_test == preds))/preds.shape[0]*100), \"%\")"
   ]
  },
  {
   "cell_type": "markdown",
   "metadata": {},
   "source": [
    "## Exercise 4\n",
    "\n",
    "We have taken advantage of the RNN implementations available in both Keras and Tensorflow. Now, we are digging one step deeper into the implementation, by implementing RNN cells ourselves. Following the example, define different variants of the common RNN (e.g., LSTM or GRU). Take a look at https://medium.com/@erikhallstrm/hello-world-rnn-83cd7105b767.\n",
    "\n",
    "Try to improve the results obtained by the tensorflow RNN defined for the sinusoidal example"
   ]
  },
  {
   "cell_type": "code",
   "execution_count": null,
   "metadata": {},
   "outputs": [],
   "source": []
  },
  {
   "cell_type": "code",
   "execution_count": null,
   "metadata": {},
   "outputs": [],
   "source": []
  },
  {
   "cell_type": "code",
   "execution_count": null,
   "metadata": {},
   "outputs": [],
   "source": []
  }
 ],
 "metadata": {
  "kernelspec": {
   "display_name": "Python 3",
   "language": "python",
   "name": "python3"
  },
  "language_info": {
   "codemirror_mode": {
    "name": "ipython",
    "version": 3
   },
   "file_extension": ".py",
   "mimetype": "text/x-python",
   "name": "python",
   "nbconvert_exporter": "python",
   "pygments_lexer": "ipython3",
   "version": "3.7.3"
  }
 },
 "nbformat": 4,
 "nbformat_minor": 2
}
