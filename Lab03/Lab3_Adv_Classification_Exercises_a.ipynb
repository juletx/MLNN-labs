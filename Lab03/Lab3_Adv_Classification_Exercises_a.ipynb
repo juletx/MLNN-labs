{
 "cells": [
  {
   "cell_type": "markdown",
   "metadata": {
    "id": "OcLp33-K9gUS"
   },
   "source": [
    "# Topic 1. Introduction to Machine learning\n",
    "## Advanced Supervised Classification Methods and ML Pipelines \n"
   ]
  },
  {
   "cell_type": "markdown",
   "metadata": {
    "id": "FmAzFvTC9gUU"
   },
   "source": [
    "In this lab we will exercise different aspects related to the solution of supervised classification problem, including:\n",
    "\n",
    "1- Identification of tasks\n",
    "\n",
    "2- Application of pre-processing techniques using sklearn\n",
    "\n",
    "3- Application of supervised machine learning algorithms using sklearn\n",
    "\n",
    "4- Definition and use of pipelines\n",
    "\n"
   ]
  },
  {
   "cell_type": "markdown",
   "metadata": {
    "id": "2MFo7_ZX9gUX"
   },
   "source": [
    "### We import the required libraries and some databases"
   ]
  },
  {
   "cell_type": "code",
   "execution_count": 5,
   "metadata": {
    "colab": {
     "base_uri": "https://localhost:8080/",
     "height": 538
    },
    "executionInfo": {
     "elapsed": 11627,
     "status": "ok",
     "timestamp": 1601462480668,
     "user": {
      "displayName": "Julen Etxaniz Aragoneses",
      "photoUrl": "https://lh3.googleusercontent.com/a-/AOh14GilpYDAmorj7KFdjK26TlsyH_HhFWhLqmESeKoCGsI=s64",
      "userId": "06956422670240182492"
     },
     "user_tz": -120
    },
    "id": "s64E74a-9gUZ",
    "outputId": "86b45b68-ae94-47a0-8743-7b5e93838870"
   },
   "outputs": [
    {
     "name": "stdout",
     "output_type": "stream",
     "text": [
      "Collecting tpot\n",
      "\u001b[?25l  Downloading https://files.pythonhosted.org/packages/14/5e/cb87b0257033a7a396e533a634079ee151a239d180efe2a8b1d2e3584d23/TPOT-0.11.5-py3-none-any.whl (82kB)\n",
      "\u001b[K     |████████████████████████████████| 92kB 2.4MB/s \n",
      "\u001b[?25hCollecting update-checker>=0.16\n",
      "  Downloading https://files.pythonhosted.org/packages/0c/ba/8dd7fa5f0b1c6a8ac62f8f57f7e794160c1f86f31c6d0fb00f582372a3e4/update_checker-0.18.0-py3-none-any.whl\n",
      "Collecting stopit>=1.1.1\n",
      "  Downloading https://files.pythonhosted.org/packages/35/58/e8bb0b0fb05baf07bbac1450c447d753da65f9701f551dca79823ce15d50/stopit-1.1.2.tar.gz\n",
      "Requirement already satisfied: tqdm>=4.36.1 in /usr/local/lib/python3.6/dist-packages (from tpot) (4.41.1)\n",
      "Collecting deap>=1.2\n",
      "\u001b[?25l  Downloading https://files.pythonhosted.org/packages/0a/eb/2bd0a32e3ce757fb26264765abbaedd6d4d3640d90219a513aeabd08ee2b/deap-1.3.1-cp36-cp36m-manylinux2010_x86_64.whl (157kB)\n",
      "\u001b[K     |████████████████████████████████| 163kB 7.1MB/s \n",
      "\u001b[?25hRequirement already satisfied: pandas>=0.24.2 in /usr/local/lib/python3.6/dist-packages (from tpot) (1.1.2)\n",
      "Requirement already satisfied: scikit-learn>=0.22.0 in /usr/local/lib/python3.6/dist-packages (from tpot) (0.22.2.post1)\n",
      "Requirement already satisfied: joblib>=0.13.2 in /usr/local/lib/python3.6/dist-packages (from tpot) (0.16.0)\n",
      "Requirement already satisfied: numpy>=1.16.3 in /usr/local/lib/python3.6/dist-packages (from tpot) (1.18.5)\n",
      "Requirement already satisfied: scipy>=1.3.1 in /usr/local/lib/python3.6/dist-packages (from tpot) (1.4.1)\n",
      "Requirement already satisfied: requests>=2.3.0 in /usr/local/lib/python3.6/dist-packages (from update-checker>=0.16->tpot) (2.23.0)\n",
      "Requirement already satisfied: python-dateutil>=2.7.3 in /usr/local/lib/python3.6/dist-packages (from pandas>=0.24.2->tpot) (2.8.1)\n",
      "Requirement already satisfied: pytz>=2017.2 in /usr/local/lib/python3.6/dist-packages (from pandas>=0.24.2->tpot) (2018.9)\n",
      "Requirement already satisfied: urllib3!=1.25.0,!=1.25.1,<1.26,>=1.21.1 in /usr/local/lib/python3.6/dist-packages (from requests>=2.3.0->update-checker>=0.16->tpot) (1.24.3)\n",
      "Requirement already satisfied: idna<3,>=2.5 in /usr/local/lib/python3.6/dist-packages (from requests>=2.3.0->update-checker>=0.16->tpot) (2.10)\n",
      "Requirement already satisfied: certifi>=2017.4.17 in /usr/local/lib/python3.6/dist-packages (from requests>=2.3.0->update-checker>=0.16->tpot) (2020.6.20)\n",
      "Requirement already satisfied: chardet<4,>=3.0.2 in /usr/local/lib/python3.6/dist-packages (from requests>=2.3.0->update-checker>=0.16->tpot) (3.0.4)\n",
      "Requirement already satisfied: six>=1.5 in /usr/local/lib/python3.6/dist-packages (from python-dateutil>=2.7.3->pandas>=0.24.2->tpot) (1.15.0)\n",
      "Building wheels for collected packages: stopit\n",
      "  Building wheel for stopit (setup.py) ... \u001b[?25l\u001b[?25hdone\n",
      "  Created wheel for stopit: filename=stopit-1.1.2-cp36-none-any.whl size=11956 sha256=901459c17e15fa926811dd7f19929046cb371a18387a52555696108c64c21ffe\n",
      "  Stored in directory: /root/.cache/pip/wheels/3c/85/2b/2580190404636bfc63e8de3dff629c03bb795021e1983a6cc7\n",
      "Successfully built stopit\n",
      "Installing collected packages: update-checker, stopit, deap, tpot\n",
      "Successfully installed deap-1.3.1 stopit-1.1.2 tpot-0.11.5 update-checker-0.18.0\n"
     ]
    }
   ],
   "source": [
    "# General python libraries\n",
    "import numpy as np\n",
    "import math\n",
    "from matplotlib import pyplot as plt\n",
    "import pandas as pd\n",
    "from sklearn import tree\n",
    "from io import StringIO\n",
    "import copy\n",
    "\n",
    "# sklearn functions\n",
    "from sklearn.linear_model import LogisticRegression\n",
    "from sklearn.tree import DecisionTreeClassifier\n",
    "from sklearn.ensemble import RandomForestClassifier\n",
    "from sklearn import svm\n",
    "from sklearn.neighbors import KNeighborsClassifier\n",
    "from sklearn.decomposition import PCA\n",
    "from sklearn.linear_model import LinearRegression\n",
    "from sklearn.impute import SimpleImputer\n",
    "# from sklearn.preprocessing import Imputer\n",
    "\n",
    "\n",
    "from sklearn.model_selection import cross_val_score\n",
    "from sklearn.model_selection import cross_val_predict\n",
    "from sklearn.metrics import recall_score, confusion_matrix\n",
    "from sklearn import metrics\n",
    "from sklearn import preprocessing\n",
    "from sklearn.pipeline import Pipeline\n",
    "\n",
    "from sklearn.metrics import accuracy_score\n",
    "from sklearn.metrics import mean_squared_error\n",
    "\n",
    "# Databases\n",
    "import sklearn.datasets as data_load\n",
    "\n",
    "# TPOT Library for pipeline optimization\n",
    "!pip install tpot\n",
    "from tpot import TPOTClassifier"
   ]
  },
  {
   "cell_type": "markdown",
   "metadata": {
    "id": "xfEqomZn9gUj"
   },
   "source": [
    "### Sklearn contains the \"wine\" dataset which defines a multi-class classification task  \n",
    "\n",
    "Execute the following cell to load the dataset and print a description of it "
   ]
  },
  {
   "cell_type": "code",
   "execution_count": 6,
   "metadata": {
    "colab": {
     "base_uri": "https://localhost:8080/",
     "height": 1000
    },
    "executionInfo": {
     "elapsed": 1356,
     "status": "ok",
     "timestamp": 1601462484478,
     "user": {
      "displayName": "Julen Etxaniz Aragoneses",
      "photoUrl": "https://lh3.googleusercontent.com/a-/AOh14GilpYDAmorj7KFdjK26TlsyH_HhFWhLqmESeKoCGsI=s64",
      "userId": "06956422670240182492"
     },
     "user_tz": -120
    },
    "id": "EVolgYwg9gUk",
    "outputId": "335bb066-9916-4880-bacc-29d45ac5c211"
   },
   "outputs": [
    {
     "name": "stdout",
     "output_type": "stream",
     "text": [
      ".. _wine_dataset:\n",
      "\n",
      "Wine recognition dataset\n",
      "------------------------\n",
      "\n",
      "**Data Set Characteristics:**\n",
      "\n",
      "    :Number of Instances: 178 (50 in each of three classes)\n",
      "    :Number of Attributes: 13 numeric, predictive attributes and the class\n",
      "    :Attribute Information:\n",
      " \t\t- Alcohol\n",
      " \t\t- Malic acid\n",
      " \t\t- Ash\n",
      "\t\t- Alcalinity of ash  \n",
      " \t\t- Magnesium\n",
      "\t\t- Total phenols\n",
      " \t\t- Flavanoids\n",
      " \t\t- Nonflavanoid phenols\n",
      " \t\t- Proanthocyanins\n",
      "\t\t- Color intensity\n",
      " \t\t- Hue\n",
      " \t\t- OD280/OD315 of diluted wines\n",
      " \t\t- Proline\n",
      "\n",
      "    - class:\n",
      "            - class_0\n",
      "            - class_1\n",
      "            - class_2\n",
      "\t\t\n",
      "    :Summary Statistics:\n",
      "    \n",
      "    ============================= ==== ===== ======= =====\n",
      "                                   Min   Max   Mean     SD\n",
      "    ============================= ==== ===== ======= =====\n",
      "    Alcohol:                      11.0  14.8    13.0   0.8\n",
      "    Malic Acid:                   0.74  5.80    2.34  1.12\n",
      "    Ash:                          1.36  3.23    2.36  0.27\n",
      "    Alcalinity of Ash:            10.6  30.0    19.5   3.3\n",
      "    Magnesium:                    70.0 162.0    99.7  14.3\n",
      "    Total Phenols:                0.98  3.88    2.29  0.63\n",
      "    Flavanoids:                   0.34  5.08    2.03  1.00\n",
      "    Nonflavanoid Phenols:         0.13  0.66    0.36  0.12\n",
      "    Proanthocyanins:              0.41  3.58    1.59  0.57\n",
      "    Colour Intensity:              1.3  13.0     5.1   2.3\n",
      "    Hue:                          0.48  1.71    0.96  0.23\n",
      "    OD280/OD315 of diluted wines: 1.27  4.00    2.61  0.71\n",
      "    Proline:                       278  1680     746   315\n",
      "    ============================= ==== ===== ======= =====\n",
      "\n",
      "    :Missing Attribute Values: None\n",
      "    :Class Distribution: class_0 (59), class_1 (71), class_2 (48)\n",
      "    :Creator: R.A. Fisher\n",
      "    :Donor: Michael Marshall (MARSHALL%PLU@io.arc.nasa.gov)\n",
      "    :Date: July, 1988\n",
      "\n",
      "This is a copy of UCI ML Wine recognition datasets.\n",
      "https://archive.ics.uci.edu/ml/machine-learning-databases/wine/wine.data\n",
      "\n",
      "The data is the results of a chemical analysis of wines grown in the same\n",
      "region in Italy by three different cultivators. There are thirteen different\n",
      "measurements taken for different constituents found in the three types of\n",
      "wine.\n",
      "\n",
      "Original Owners: \n",
      "\n",
      "Forina, M. et al, PARVUS - \n",
      "An Extendible Package for Data Exploration, Classification and Correlation. \n",
      "Institute of Pharmaceutical and Food Analysis and Technologies,\n",
      "Via Brigata Salerno, 16147 Genoa, Italy.\n",
      "\n",
      "Citation:\n",
      "\n",
      "Lichman, M. (2013). UCI Machine Learning Repository\n",
      "[https://archive.ics.uci.edu/ml]. Irvine, CA: University of California,\n",
      "School of Information and Computer Science. \n",
      "\n",
      ".. topic:: References\n",
      "\n",
      "  (1) S. Aeberhard, D. Coomans and O. de Vel, \n",
      "  Comparison of Classifiers in High Dimensional Settings, \n",
      "  Tech. Rep. no. 92-02, (1992), Dept. of Computer Science and Dept. of  \n",
      "  Mathematics and Statistics, James Cook University of North Queensland. \n",
      "  (Also submitted to Technometrics). \n",
      "\n",
      "  The data was used with many others for comparing various \n",
      "  classifiers. The classes are separable, though only RDA \n",
      "  has achieved 100% correct classification. \n",
      "  (RDA : 100%, QDA 99.4%, LDA 98.9%, 1NN 96.1% (z-transformed data)) \n",
      "  (All results using the leave-one-out technique) \n",
      "\n",
      "  (2) S. Aeberhard, D. Coomans and O. de Vel, \n",
      "  \"THE CLASSIFICATION PERFORMANCE OF RDA\" \n",
      "  Tech. Rep. no. 92-01, (1992), Dept. of Computer Science and Dept. of \n",
      "  Mathematics and Statistics, James Cook University of North Queensland. \n",
      "  (Also submitted to Journal of Chemometrics).\n",
      "\n"
     ]
    }
   ],
   "source": [
    "# The dataset is loaded\n",
    "wine_data = data_load.load_wine()\n",
    "print(wine_data[\"DESCR\"])\n"
   ]
  },
  {
   "cell_type": "markdown",
   "metadata": {
    "id": "4Wz-1hnu9gUv"
   },
   "source": [
    "# Exercise 1:  Wine type classification\n",
    "\n",
    "\n",
    "1.1) Divide the dataset into two sets (wine_train_data and wine_test_data)  of similar size (respectively, wine_train_class and wine_test_class)\n",
    "\n",
    "1.2) Learn a random forest classifier with 100 trees (maximum depth of the trees 10) using the wine_train_data,wine_train_class datasets\n",
    "\n",
    "1.3) Knowing that random_forest_clf.estimators_ is a list of all the decision trees in the random forest, and using the function tree.plot_tree(decision_tree) that visualize decision trees:\n",
    "\n",
    "1.3.1) Visualize the decision trees 10 and 30 of the random forest\n",
    "\n",
    "1.3.2) Interpret the meaning of the four values shown in each node of the tree\n",
    "\n",
    "1.4) Predict the classes of the examples in the wine_test_data set\n",
    "\n",
    "1.5) Compute the accuracy of the RF prediction \n",
    "\n",
    "1.6) Compute the confusion matrix\n"
   ]
  },
  {
   "cell_type": "code",
   "execution_count": null,
   "metadata": {
    "id": "p8PY4LFK9gUw"
   },
   "outputs": [],
   "source": []
  },
  {
   "cell_type": "markdown",
   "metadata": {
    "id": "X_627DHp9gU4"
   },
   "source": []
  },
  {
   "cell_type": "markdown",
   "metadata": {
    "id": "q1DUfd2c9gU5"
   },
   "source": [
    "### Answer to 1.1)"
   ]
  },
  {
   "cell_type": "code",
   "execution_count": 7,
   "metadata": {
    "colab": {
     "base_uri": "https://localhost:8080/",
     "height": 353
    },
    "executionInfo": {
     "elapsed": 852,
     "status": "ok",
     "timestamp": 1601462492782,
     "user": {
      "displayName": "Julen Etxaniz Aragoneses",
      "photoUrl": "https://lh3.googleusercontent.com/a-/AOh14GilpYDAmorj7KFdjK26TlsyH_HhFWhLqmESeKoCGsI=s64",
      "userId": "06956422670240182492"
     },
     "user_tz": -120
    },
    "id": "SvR5CM_29gU7",
    "outputId": "59628630-7fb0-44f5-fb92-06a4f7273cd2"
   },
   "outputs": [
    {
     "name": "stdout",
     "output_type": "stream",
     "text": [
      "[[1.423e+01 1.710e+00 2.430e+00 ... 1.040e+00 3.920e+00 1.065e+03]\n",
      " [1.316e+01 2.360e+00 2.670e+00 ... 1.030e+00 3.170e+00 1.185e+03]\n",
      " [1.324e+01 2.590e+00 2.870e+00 ... 1.040e+00 2.930e+00 7.350e+02]\n",
      " ...\n",
      " [1.416e+01 2.510e+00 2.480e+00 ... 6.200e-01 1.710e+00 6.600e+02]\n",
      " [1.340e+01 3.910e+00 2.480e+00 ... 7.000e-01 1.560e+00 7.500e+02]\n",
      " [1.317e+01 2.590e+00 2.370e+00 ... 6.000e-01 1.620e+00 8.400e+02]]\n",
      "[0 0 0 0 0 0 0 0 0 0 0 0 0 0 0 0 0 0 0 0 0 0 0 0 0 0 0 0 0 0 1 1 1 1 1 1 1\n",
      " 1 1 1 1 1 1 1 1 1 1 1 1 1 1 1 1 1 1 1 1 1 1 1 1 1 1 1 1 2 2 2 2 2 2 2 2 2\n",
      " 2 2 2 2 2 2 2 2 2 2 2 2 2 2 2]\n",
      "[[1.320e+01 1.780e+00 2.140e+00 ... 1.050e+00 3.400e+00 1.050e+03]\n",
      " [1.437e+01 1.950e+00 2.500e+00 ... 8.600e-01 3.450e+00 1.480e+03]\n",
      " [1.420e+01 1.760e+00 2.450e+00 ... 1.050e+00 2.850e+00 1.450e+03]\n",
      " ...\n",
      " [1.371e+01 5.650e+00 2.450e+00 ... 6.400e-01 1.740e+00 7.400e+02]\n",
      " [1.327e+01 4.280e+00 2.260e+00 ... 5.900e-01 1.560e+00 8.350e+02]\n",
      " [1.413e+01 4.100e+00 2.740e+00 ... 6.100e-01 1.600e+00 5.600e+02]]\n",
      "[0 0 0 0 0 0 0 0 0 0 0 0 0 0 0 0 0 0 0 0 0 0 0 0 0 0 0 0 0 1 1 1 1 1 1 1 1\n",
      " 1 1 1 1 1 1 1 1 1 1 1 1 1 1 1 1 1 1 1 1 1 1 1 1 1 1 1 1 2 2 2 2 2 2 2 2 2\n",
      " 2 2 2 2 2 2 2 2 2 2 2 2 2 2 2]\n"
     ]
    }
   ],
   "source": [
    "# We could use even indices for train data\n",
    "wine_train_data = wine_data[\"data\"][0::2]\n",
    "wine_train_class = wine_data[\"target\"][0::2]\n",
    "\n",
    "# We use odd could indices for test data\n",
    "wine_test_data  = wine_data[\"data\"][1::2]\n",
    "wine_test_class = wine_data[\"target\"][1::2]\n",
    "\n",
    "print(wine_train_data)\n",
    "print(wine_train_class)\n",
    "print(wine_test_data)\n",
    "print(wine_test_class)"
   ]
  },
  {
   "cell_type": "markdown",
   "metadata": {
    "id": "qhzdwDX29gVB"
   },
   "source": [
    "### Answer to 1.2)"
   ]
  },
  {
   "cell_type": "code",
   "execution_count": 8,
   "metadata": {
    "colab": {
     "base_uri": "https://localhost:8080/",
     "height": 151
    },
    "executionInfo": {
     "elapsed": 1365,
     "status": "ok",
     "timestamp": 1601462495645,
     "user": {
      "displayName": "Julen Etxaniz Aragoneses",
      "photoUrl": "https://lh3.googleusercontent.com/a-/AOh14GilpYDAmorj7KFdjK26TlsyH_HhFWhLqmESeKoCGsI=s64",
      "userId": "06956422670240182492"
     },
     "user_tz": -120
    },
    "id": "4vFVXQ2O9gVD",
    "outputId": "8611eb73-a608-4e3f-96ac-c9e795627a28"
   },
   "outputs": [
    {
     "data": {
      "text/plain": [
       "RandomForestClassifier(bootstrap=True, ccp_alpha=0.0, class_weight=None,\n",
       "                       criterion='gini', max_depth=10, max_features='auto',\n",
       "                       max_leaf_nodes=None, max_samples=None,\n",
       "                       min_impurity_decrease=0.0, min_impurity_split=None,\n",
       "                       min_samples_leaf=1, min_samples_split=2,\n",
       "                       min_weight_fraction_leaf=0.0, n_estimators=100,\n",
       "                       n_jobs=None, oob_score=False, random_state=None,\n",
       "                       verbose=0, warm_start=False)"
      ]
     },
     "execution_count": 8,
     "metadata": {
      "tags": []
     },
     "output_type": "execute_result"
    }
   ],
   "source": [
    "random_forest_clf = RandomForestClassifier(n_estimators=100, max_depth=10)\n",
    "random_forest_clf.fit(wine_train_data, wine_train_class)"
   ]
  },
  {
   "cell_type": "markdown",
   "metadata": {
    "id": "JlIx_TIS9gVL"
   },
   "source": [
    "### Answer to 1.3)"
   ]
  },
  {
   "cell_type": "code",
   "execution_count": null,
   "metadata": {
    "colab": {
     "base_uri": "https://localhost:8080/",
     "height": 1000
    },
    "executionInfo": {
     "elapsed": 2484,
     "status": "ok",
     "timestamp": 1601402008876,
     "user": {
      "displayName": "Julen Etxaniz Aragoneses",
      "photoUrl": "https://lh3.googleusercontent.com/a-/AOh14GilpYDAmorj7KFdjK26TlsyH_HhFWhLqmESeKoCGsI=s64",
      "userId": "06956422670240182492"
     },
     "user_tz": -120
    },
    "id": "ZavMDYPI9gVM",
    "outputId": "da09c05f-79e6-4860-8492-6d6a745b2b3d"
   },
   "outputs": [
    {
     "data": {
      "text/plain": [
       "[Text(842.8125, 996.6, 'X[6] <= 2.485\\ngini = 0.643\\nsamples = 55\\nvalue = [32, 38, 19]'),\n",
       " Text(523.125, 815.4000000000001, 'X[3] <= 19.25\\ngini = 0.464\\nsamples = 33\\nvalue = [0, 33, 19]'),\n",
       " Text(232.5, 634.2, 'X[6] <= 0.935\\ngini = 0.117\\nsamples = 11\\nvalue = [0, 15, 1]'),\n",
       " Text(116.25, 453.0, 'gini = 0.0\\nsamples = 1\\nvalue = [0, 0, 1]'),\n",
       " Text(348.75, 453.0, 'gini = 0.0\\nsamples = 10\\nvalue = [0, 15, 0]'),\n",
       " Text(813.75, 634.2, 'X[1] <= 2.215\\ngini = 0.5\\nsamples = 22\\nvalue = [0, 18, 18]'),\n",
       " Text(581.25, 453.0, 'X[0] <= 13.915\\ngini = 0.208\\nsamples = 11\\nvalue = [0, 15, 2]'),\n",
       " Text(465.0, 271.79999999999995, 'X[9] <= 5.67\\ngini = 0.117\\nsamples = 10\\nvalue = [0, 15, 1]'),\n",
       " Text(348.75, 90.59999999999991, 'gini = 0.0\\nsamples = 9\\nvalue = [0, 15, 0]'),\n",
       " Text(581.25, 90.59999999999991, 'gini = 0.0\\nsamples = 1\\nvalue = [0, 0, 1]'),\n",
       " Text(697.5, 271.79999999999995, 'gini = 0.0\\nsamples = 1\\nvalue = [0, 0, 1]'),\n",
       " Text(1046.25, 453.0, 'X[7] <= 0.59\\ngini = 0.266\\nsamples = 11\\nvalue = [0, 3, 16]'),\n",
       " Text(930.0, 271.79999999999995, 'gini = 0.0\\nsamples = 9\\nvalue = [0, 0, 15]'),\n",
       " Text(1162.5, 271.79999999999995, 'X[4] <= 104.5\\ngini = 0.375\\nsamples = 2\\nvalue = [0, 3, 1]'),\n",
       " Text(1046.25, 90.59999999999991, 'gini = 0.0\\nsamples = 1\\nvalue = [0, 3, 0]'),\n",
       " Text(1278.75, 90.59999999999991, 'gini = 0.0\\nsamples = 1\\nvalue = [0, 0, 1]'),\n",
       " Text(1162.5, 815.4000000000001, 'X[12] <= 680.0\\ngini = 0.234\\nsamples = 22\\nvalue = [32, 5, 0]'),\n",
       " Text(1046.25, 634.2, 'gini = 0.0\\nsamples = 3\\nvalue = [0, 5, 0]'),\n",
       " Text(1278.75, 634.2, 'gini = 0.0\\nsamples = 19\\nvalue = [32, 0, 0]')]"
      ]
     },
     "execution_count": 23,
     "metadata": {
      "tags": []
     },
     "output_type": "execute_result"
    },
    {
     "data": {
      "image/png": "[encoded data removed]",
      "text/plain": [
       "<Figure size 1800x1440 with 1 Axes>"
      ]
     },
     "metadata": {
      "needs_background": "light",
      "tags": []
     },
     "output_type": "display_data"
    },
    {
     "data": {
      "image/png": "[encoded data removed]",
      "text/plain": [
       "<Figure size 1800x1440 with 1 Axes>"
      ]
     },
     "metadata": {
      "needs_background": "light",
      "tags": []
     },
     "output_type": "display_data"
    }
   ],
   "source": [
    "decision_tree_10 = random_forest_clf.estimators_[9]\n",
    "fig = plt.figure(figsize=(25,20))\n",
    "tree.plot_tree(decision_tree_10)\n",
    "# dot_data = tree.export_graphviz(decision_tree_10, \"tree10.txt\")  \n",
    "\n",
    "decision_tree_30 = random_forest_clf.estimators_[29]\n",
    "fig = plt.figure(figsize=(25,20))\n",
    "tree.plot_tree(decision_tree_30)\n",
    "# dot_data = tree.export_graphviz(decision_tree_30, \"tree30.txt\")  "
   ]
  },
  {
   "cell_type": "markdown",
   "metadata": {
    "id": "vx3pNXZS9gVU"
   },
   "source": [
    "### Answer to 1.4)"
   ]
  },
  {
   "cell_type": "code",
   "execution_count": null,
   "metadata": {
    "id": "ZDj_VooH9gVW"
   },
   "outputs": [],
   "source": [
    "test_prediction = random_forest_clf.predict(wine_test_data)"
   ]
  },
  {
   "cell_type": "markdown",
   "metadata": {
    "id": "lyj6AG589gVd"
   },
   "source": [
    "### Answer to 1.5)"
   ]
  },
  {
   "cell_type": "code",
   "execution_count": null,
   "metadata": {
    "colab": {
     "base_uri": "https://localhost:8080/",
     "height": 34
    },
    "executionInfo": {
     "elapsed": 1955,
     "status": "ok",
     "timestamp": 1601402335129,
     "user": {
      "displayName": "Julen Etxaniz Aragoneses",
      "photoUrl": "https://lh3.googleusercontent.com/a-/AOh14GilpYDAmorj7KFdjK26TlsyH_HhFWhLqmESeKoCGsI=s64",
      "userId": "06956422670240182492"
     },
     "user_tz": -120
    },
    "id": "zpCdV8I69gVe",
    "outputId": "0894ba15-30e7-4a70-8142-9544a90eeafa"
   },
   "outputs": [
    {
     "name": "stdout",
     "output_type": "stream",
     "text": [
      "The test accuracy obtained by the random forest is: 0.9775280898876404\n"
     ]
    }
   ],
   "source": [
    "test_accuracy = accuracy_score(wine_test_class, test_prediction)\n",
    "print('The test accuracy obtained by the random forest is:', test_accuracy)"
   ]
  },
  {
   "cell_type": "markdown",
   "metadata": {
    "id": "QMtkTOBH9gVk"
   },
   "source": [
    "### Answer to 1.6)"
   ]
  },
  {
   "cell_type": "code",
   "execution_count": null,
   "metadata": {
    "colab": {
     "base_uri": "https://localhost:8080/",
     "height": 84
    },
    "executionInfo": {
     "elapsed": 661,
     "status": "ok",
     "timestamp": 1601401716690,
     "user": {
      "displayName": "Julen Etxaniz Aragoneses",
      "photoUrl": "https://lh3.googleusercontent.com/a-/AOh14GilpYDAmorj7KFdjK26TlsyH_HhFWhLqmESeKoCGsI=s64",
      "userId": "06956422670240182492"
     },
     "user_tz": -120
    },
    "id": "oWGcHH169gVl",
    "outputId": "25e63891-2e67-45fa-e645-534aadc54199"
   },
   "outputs": [
    {
     "name": "stdout",
     "output_type": "stream",
     "text": [
      "The confusion  matrix obtained by the random forest is:\n",
      "[[29  0  0]\n",
      " [ 1 34  1]\n",
      " [ 0  0 24]]\n"
     ]
    }
   ],
   "source": [
    "test_conf_matrix = metrics.confusion_matrix(wine_test_class, test_prediction)\n",
    "print('The confusion  matrix obtained by the random forest is:')\n",
    "print(test_conf_matrix)"
   ]
  },
  {
   "cell_type": "code",
   "execution_count": null,
   "metadata": {
    "id": "sGoRYbJp9gVu"
   },
   "outputs": [],
   "source": []
  },
  {
   "cell_type": "markdown",
   "metadata": {
    "id": "7kG663Z99gV1"
   },
   "source": [
    "# Exercise 2: Feature selection \n",
    "\n",
    "\n",
    "2.1) Use the feature importance function of random forests to compute the importance of each feature\n",
    "as computed by the random forest learned in Exercise 1.2.\n",
    "\n",
    "2.2) Learn a new random forest using only the 8 most informative features\n",
    "\n",
    "Hint: You can use the function np.argsort() to sort the important features and identify the 8 most important\n",
    "\n",
    "2.3) Predict the classes of the examples in the wine_test_data set using the new random forest\n",
    "\n",
    "\n",
    "2.4) Compute the accuracy\n",
    "\n",
    "2.5) Compute the confusion matrix\n",
    "\n",
    "\n"
   ]
  },
  {
   "cell_type": "markdown",
   "metadata": {
    "id": "Eo5_PQBB9gV2"
   },
   "source": [
    "### Answer to 2.1)"
   ]
  },
  {
   "cell_type": "code",
   "execution_count": null,
   "metadata": {
    "colab": {
     "base_uri": "https://localhost:8080/",
     "height": 67
    },
    "executionInfo": {
     "elapsed": 871,
     "status": "ok",
     "timestamp": 1601401799085,
     "user": {
      "displayName": "Julen Etxaniz Aragoneses",
      "photoUrl": "https://lh3.googleusercontent.com/a-/AOh14GilpYDAmorj7KFdjK26TlsyH_HhFWhLqmESeKoCGsI=s64",
      "userId": "06956422670240182492"
     },
     "user_tz": -120
    },
    "id": "Q1PXfLat9gV4",
    "outputId": "e76a6170-5dfe-4161-c5c9-4f669508022a"
   },
   "outputs": [
    {
     "name": "stdout",
     "output_type": "stream",
     "text": [
      "[0.08308958 0.03842798 0.00904253 0.02406841 0.02062978 0.07107269\n",
      " 0.16198399 0.01843772 0.01944016 0.14613755 0.08995196 0.13985059\n",
      " 0.17786705]\n"
     ]
    }
   ],
   "source": [
    "importances = random_forest_clf.feature_importances_\n",
    "print(importances)"
   ]
  },
  {
   "cell_type": "markdown",
   "metadata": {
    "id": "j0ze8lV39gWB"
   },
   "source": [
    "### Answer to 2.2)"
   ]
  },
  {
   "cell_type": "code",
   "execution_count": null,
   "metadata": {
    "colab": {
     "base_uri": "https://localhost:8080/",
     "height": 168
    },
    "executionInfo": {
     "elapsed": 1508,
     "status": "ok",
     "timestamp": 1601401802688,
     "user": {
      "displayName": "Julen Etxaniz Aragoneses",
      "photoUrl": "https://lh3.googleusercontent.com/a-/AOh14GilpYDAmorj7KFdjK26TlsyH_HhFWhLqmESeKoCGsI=s64",
      "userId": "06956422670240182492"
     },
     "user_tz": -120
    },
    "id": "pjuqWmlR9gWC",
    "outputId": "5e5ea80e-0c45-4b2f-a82e-e2cfbebb53bf"
   },
   "outputs": [
    {
     "name": "stdout",
     "output_type": "stream",
     "text": [
      "[12  6  9 11 10  0  5  1]\n"
     ]
    },
    {
     "data": {
      "text/plain": [
       "RandomForestClassifier(bootstrap=True, ccp_alpha=0.0, class_weight=None,\n",
       "                       criterion='gini', max_depth=None, max_features='auto',\n",
       "                       max_leaf_nodes=None, max_samples=None,\n",
       "                       min_impurity_decrease=0.0, min_impurity_split=None,\n",
       "                       min_samples_leaf=1, min_samples_split=2,\n",
       "                       min_weight_fraction_leaf=0.0, n_estimators=100,\n",
       "                       n_jobs=None, oob_score=False, random_state=None,\n",
       "                       verbose=0, warm_start=False)"
      ]
     },
     "execution_count": 14,
     "metadata": {
      "tags": []
     },
     "output_type": "execute_result"
    }
   ],
   "source": [
    "sorted_features = np.argsort(-importances)\n",
    "selected_features = sorted_features[:8]\n",
    "print(selected_features)\n",
    "\n",
    "\n",
    "red_random_forest_clf = RandomForestClassifier()\n",
    "red_random_forest_clf.fit(wine_train_data[:, selected_features], wine_train_class)"
   ]
  },
  {
   "cell_type": "markdown",
   "metadata": {
    "id": "hmlvuNyB9gWX"
   },
   "source": [
    "### Answer to 2.3)"
   ]
  },
  {
   "cell_type": "code",
   "execution_count": null,
   "metadata": {
    "id": "UljNBQiJ9gWZ"
   },
   "outputs": [],
   "source": [
    "red_test_prediction = red_random_forest_clf.predict(wine_test_data[:, selected_features])"
   ]
  },
  {
   "cell_type": "markdown",
   "metadata": {
    "id": "7DTv7i7C9gWg"
   },
   "source": [
    "### Answer to 2.4)"
   ]
  },
  {
   "cell_type": "code",
   "execution_count": null,
   "metadata": {
    "colab": {
     "base_uri": "https://localhost:8080/",
     "height": 34
    },
    "executionInfo": {
     "elapsed": 1356,
     "status": "ok",
     "timestamp": 1601401833103,
     "user": {
      "displayName": "Julen Etxaniz Aragoneses",
      "photoUrl": "https://lh3.googleusercontent.com/a-/AOh14GilpYDAmorj7KFdjK26TlsyH_HhFWhLqmESeKoCGsI=s64",
      "userId": "06956422670240182492"
     },
     "user_tz": -120
    },
    "id": "drAyTRZ19gWh",
    "outputId": "03cc19fd-8699-4645-aaa0-5ab47f6a5517"
   },
   "outputs": [
    {
     "name": "stdout",
     "output_type": "stream",
     "text": [
      "The test accuracy obtained by the random forest on the reduced set of features is: 0.9662921348314607\n"
     ]
    }
   ],
   "source": [
    "red_test_accuracy = accuracy_score(red_test_prediction, wine_test_class)\n",
    "print('The test accuracy obtained by the random forest on the reduced set of features is:',red_test_accuracy)"
   ]
  },
  {
   "cell_type": "markdown",
   "metadata": {
    "id": "AlA_U3sR9gWo"
   },
   "source": [
    "### Answer to 2.5)"
   ]
  },
  {
   "cell_type": "code",
   "execution_count": null,
   "metadata": {
    "colab": {
     "base_uri": "https://localhost:8080/",
     "height": 84
    },
    "executionInfo": {
     "elapsed": 1088,
     "status": "ok",
     "timestamp": 1601401837862,
     "user": {
      "displayName": "Julen Etxaniz Aragoneses",
      "photoUrl": "https://lh3.googleusercontent.com/a-/AOh14GilpYDAmorj7KFdjK26TlsyH_HhFWhLqmESeKoCGsI=s64",
      "userId": "06956422670240182492"
     },
     "user_tz": -120
    },
    "id": "HMa1ge_19gWo",
    "outputId": "ef82905b-c142-4d4e-be5c-f2fdaa71c175"
   },
   "outputs": [
    {
     "name": "stdout",
     "output_type": "stream",
     "text": [
      "The confusion  matrix obtained by the random forest is:\n",
      "[[29  0  0]\n",
      " [ 1 33  2]\n",
      " [ 0  0 24]]\n"
     ]
    }
   ],
   "source": [
    "red_test_conf_matrix = metrics.confusion_matrix(wine_test_class, red_test_prediction)\n",
    "print('The confusion  matrix obtained by the random forest is:')\n",
    "print(red_test_conf_matrix)"
   ]
  },
  {
   "cell_type": "code",
   "execution_count": null,
   "metadata": {
    "id": "fFj11bnU9gWx"
   },
   "outputs": [],
   "source": []
  },
  {
   "cell_type": "code",
   "execution_count": null,
   "metadata": {
    "id": "SGSCjjSm9gW4"
   },
   "outputs": [],
   "source": []
  },
  {
   "cell_type": "markdown",
   "metadata": {
    "id": "cHKLQlSe9gW_"
   },
   "source": [
    "# Exercise 3:  Feature engineering \n",
    "\n",
    "\n",
    "3.1) Use the PCA dimensionality reduction method to transform the wine_train_data and wine_test_data sets to new datasets with only 3 (engineered) features\n",
    "\n",
    "3.2) Learn a support vector machine (svm) using the new datasets\n",
    "\n",
    "3.3) Predict the classes of the examples in the transformed wine_test_data set using the svm\n",
    "\n",
    "3.4) Compute the accuracy and compared with the one obtained in the previous exercise\n",
    "\n",
    "3.5) Compute the confusion matrix"
   ]
  },
  {
   "cell_type": "code",
   "execution_count": null,
   "metadata": {
    "id": "6nowYVfs9gXA"
   },
   "outputs": [],
   "source": []
  },
  {
   "cell_type": "markdown",
   "metadata": {
    "id": "wg3Aq9-G9gXG"
   },
   "source": [
    "### Answer to 3.1)"
   ]
  },
  {
   "cell_type": "code",
   "execution_count": null,
   "metadata": {
    "id": "jXrXaK149gXH"
   },
   "outputs": [],
   "source": [
    "n_components = 3\n",
    "pca = PCA(n_components)\n",
    "pca.fit(wine_train_data)\n",
    "\n",
    "dim3_wine_train_data = pca.transform(wine_train_data)\n",
    "dim3_wine_test_data = pca.transform(wine_test_data)"
   ]
  },
  {
   "cell_type": "markdown",
   "metadata": {
    "id": "MuXRu6xd9gXO"
   },
   "source": [
    "### Answer to 3.2)"
   ]
  },
  {
   "cell_type": "code",
   "execution_count": null,
   "metadata": {
    "colab": {
     "base_uri": "https://localhost:8080/",
     "height": 118
    },
    "executionInfo": {
     "elapsed": 1086,
     "status": "ok",
     "timestamp": 1601402595034,
     "user": {
      "displayName": "Julen Etxaniz Aragoneses",
      "photoUrl": "https://lh3.googleusercontent.com/a-/AOh14GilpYDAmorj7KFdjK26TlsyH_HhFWhLqmESeKoCGsI=s64",
      "userId": "06956422670240182492"
     },
     "user_tz": -120
    },
    "id": "YUI1im1G9gXP",
    "outputId": "5a27dcc3-245f-4840-9a1e-59f57e6a5e55"
   },
   "outputs": [
    {
     "name": "stderr",
     "output_type": "stream",
     "text": [
      "/usr/local/lib/python3.6/dist-packages/sklearn/svm/_base.py:947: ConvergenceWarning: Liblinear failed to converge, increase the number of iterations.\n",
      "  \"the number of iterations.\", ConvergenceWarning)\n"
     ]
    },
    {
     "data": {
      "text/plain": [
       "LinearSVC(C=1.0, class_weight=None, dual=True, fit_intercept=True,\n",
       "          intercept_scaling=1, loss='squared_hinge', max_iter=1000,\n",
       "          multi_class='ovr', penalty='l2', random_state=None, tol=0.0001,\n",
       "          verbose=0)"
      ]
     },
     "execution_count": 50,
     "metadata": {
      "tags": []
     },
     "output_type": "execute_result"
    }
   ],
   "source": [
    "from sklearn.svm import LinearSVC\n",
    "linear_svc = LinearSVC()\n",
    "linear_svc.fit(dim3_wine_train_data, wine_train_class)\n"
   ]
  },
  {
   "cell_type": "markdown",
   "metadata": {
    "id": "CgdDJQw-9gXW"
   },
   "source": [
    "### Answer to 3.3)\n"
   ]
  },
  {
   "cell_type": "code",
   "execution_count": null,
   "metadata": {
    "id": "gKNfk3Rg9gXX"
   },
   "outputs": [],
   "source": [
    "dim3_test_prediction = linear_svc.predict(dim3_wine_test_data)"
   ]
  },
  {
   "cell_type": "markdown",
   "metadata": {
    "id": "n6RgR3EM9gXg"
   },
   "source": [
    "### Answer to 3.4)"
   ]
  },
  {
   "cell_type": "code",
   "execution_count": null,
   "metadata": {
    "colab": {
     "base_uri": "https://localhost:8080/",
     "height": 34
    },
    "executionInfo": {
     "elapsed": 1000,
     "status": "ok",
     "timestamp": 1601402600925,
     "user": {
      "displayName": "Julen Etxaniz Aragoneses",
      "photoUrl": "https://lh3.googleusercontent.com/a-/AOh14GilpYDAmorj7KFdjK26TlsyH_HhFWhLqmESeKoCGsI=s64",
      "userId": "06956422670240182492"
     },
     "user_tz": -120
    },
    "id": "ulgYEXFJ9gXg",
    "outputId": "cccd7967-7708-447c-9916-ee629797fe98"
   },
   "outputs": [
    {
     "name": "stdout",
     "output_type": "stream",
     "text": [
      "The test accuracy obtained by the svm  on the 3 engineered features is: 0.5168539325842697\n"
     ]
    }
   ],
   "source": [
    "dim3_test_accuracy = accuracy_score(wine_test_class, dim3_test_prediction)\n",
    "print('The test accuracy obtained by the svm  on the 3 engineered features is:', dim3_test_accuracy)"
   ]
  },
  {
   "cell_type": "markdown",
   "metadata": {
    "id": "8LMlVZxH9gXl"
   },
   "source": [
    "### Answer to 3.5)"
   ]
  },
  {
   "cell_type": "code",
   "execution_count": null,
   "metadata": {
    "colab": {
     "base_uri": "https://localhost:8080/",
     "height": 84
    },
    "executionInfo": {
     "elapsed": 1034,
     "status": "ok",
     "timestamp": 1601402658286,
     "user": {
      "displayName": "Julen Etxaniz Aragoneses",
      "photoUrl": "https://lh3.googleusercontent.com/a-/AOh14GilpYDAmorj7KFdjK26TlsyH_HhFWhLqmESeKoCGsI=s64",
      "userId": "06956422670240182492"
     },
     "user_tz": -120
    },
    "id": "vI8Fjrje9gXl",
    "outputId": "e0726fb4-88b1-4286-f4f6-ddc9c19be7a4"
   },
   "outputs": [
    {
     "name": "stdout",
     "output_type": "stream",
     "text": [
      "The confusion  matrix obtained by the svm is:\n",
      "[[ 2  3 24]\n",
      " [ 1 34  1]\n",
      " [ 0 14 10]]\n"
     ]
    }
   ],
   "source": [
    "dim3_test_conf_matrix = metrics.confusion_matrix(wine_test_class, dim3_test_prediction)\n",
    "print('The confusion  matrix obtained by the svm is:')\n",
    "print(dim3_test_conf_matrix)"
   ]
  },
  {
   "cell_type": "code",
   "execution_count": null,
   "metadata": {
    "id": "-A8XEGku9gXp"
   },
   "outputs": [],
   "source": []
  },
  {
   "cell_type": "markdown",
   "metadata": {
    "id": "cFTUtVsd9gXs"
   },
   "source": [
    "# Exercise 4: Amount of alcohol prediction\n",
    "\n",
    "We define a different machine learning task using the same dataset. We would like to predict the amount of alcohol in the wine given the other attributes of the dataset and the class\n",
    "\n",
    "\n",
    "4.1) Create new train and test datasets for the new task  (hint: you could create new four sets \n",
    "(wine_train_data1 and wine_test_data1)  and  (wine_train_target and wine_test_target) from the original four datasets that you had created in the first exercise.\n",
    "\n",
    "\n",
    "4.2) Learn a linear regression model from the wine_train_data1,wine_train_target datasets.\n",
    "\n",
    "\n",
    "4.3) Predict the amount of alcohol using the wine_test_data1\n",
    "\n",
    "\n",
    "4.4) Plot the original alcohol values versus the predicted ones using matplotlib \n",
    "\n",
    "\n",
    "4.5) Compute the mean squared error of the prediction\n"
   ]
  },
  {
   "cell_type": "code",
   "execution_count": null,
   "metadata": {
    "id": "_keHwJ_h9gXt"
   },
   "outputs": [],
   "source": []
  },
  {
   "cell_type": "markdown",
   "metadata": {
    "id": "Dt1-esTB9gXw"
   },
   "source": [
    "### Answer to 4.1)"
   ]
  },
  {
   "cell_type": "code",
   "execution_count": 9,
   "metadata": {
    "executionInfo": {
     "elapsed": 1286,
     "status": "ok",
     "timestamp": 1601462502399,
     "user": {
      "displayName": "Julen Etxaniz Aragoneses",
      "photoUrl": "https://lh3.googleusercontent.com/a-/AOh14GilpYDAmorj7KFdjK26TlsyH_HhFWhLqmESeKoCGsI=s64",
      "userId": "06956422670240182492"
     },
     "user_tz": -120
    },
    "id": "I4HtJ3u19gXx"
   },
   "outputs": [],
   "source": [
    "wine_train_data1 =  np.hstack((wine_train_data[:,1:], wine_train_class.reshape([-1,1])))\n",
    "wine_test_data1 =  np.hstack((wine_test_data[:,1:], wine_test_class.reshape([-1,1])))\n",
    "\n",
    "wine_train_target = wine_train_data[:,0]\n",
    "wine_test_target = wine_test_data[:,0]"
   ]
  },
  {
   "cell_type": "markdown",
   "metadata": {
    "id": "_BC07pVW9gX1"
   },
   "source": [
    "### Answer to 4.2)"
   ]
  },
  {
   "cell_type": "code",
   "execution_count": 10,
   "metadata": {
    "colab": {
     "base_uri": "https://localhost:8080/",
     "height": 34
    },
    "executionInfo": {
     "elapsed": 971,
     "status": "ok",
     "timestamp": 1601462506891,
     "user": {
      "displayName": "Julen Etxaniz Aragoneses",
      "photoUrl": "https://lh3.googleusercontent.com/a-/AOh14GilpYDAmorj7KFdjK26TlsyH_HhFWhLqmESeKoCGsI=s64",
      "userId": "06956422670240182492"
     },
     "user_tz": -120
    },
    "id": "tt4ZREOZ9gX2",
    "outputId": "664a4dfe-2e5f-4131-824c-bea08bb6585f"
   },
   "outputs": [
    {
     "data": {
      "text/plain": [
       "LinearRegression(copy_X=True, fit_intercept=True, n_jobs=None, normalize=False)"
      ]
     },
     "execution_count": 10,
     "metadata": {
      "tags": []
     },
     "output_type": "execute_result"
    }
   ],
   "source": [
    "lr_clf = LinearRegression()\n",
    "lr_clf.fit(wine_train_data1,wine_train_target)\n"
   ]
  },
  {
   "cell_type": "markdown",
   "metadata": {
    "id": "J3Fl8ORr9gX5"
   },
   "source": [
    "### Answer to 4.3)"
   ]
  },
  {
   "cell_type": "code",
   "execution_count": 11,
   "metadata": {
    "executionInfo": {
     "elapsed": 925,
     "status": "ok",
     "timestamp": 1601462509059,
     "user": {
      "displayName": "Julen Etxaniz Aragoneses",
      "photoUrl": "https://lh3.googleusercontent.com/a-/AOh14GilpYDAmorj7KFdjK26TlsyH_HhFWhLqmESeKoCGsI=s64",
      "userId": "06956422670240182492"
     },
     "user_tz": -120
    },
    "id": "m0Jo-paU9gX6"
   },
   "outputs": [],
   "source": [
    "target_prediction = lr_clf.predict(wine_train_data1)"
   ]
  },
  {
   "cell_type": "markdown",
   "metadata": {
    "id": "DspcsOuP9gX9"
   },
   "source": [
    "### Answer to 4.4)"
   ]
  },
  {
   "cell_type": "code",
   "execution_count": 23,
   "metadata": {
    "colab": {
     "base_uri": "https://localhost:8080/",
     "height": 262
    },
    "executionInfo": {
     "elapsed": 1437,
     "status": "ok",
     "timestamp": 1601463362752,
     "user": {
      "displayName": "Julen Etxaniz Aragoneses",
      "photoUrl": "https://lh3.googleusercontent.com/a-/AOh14GilpYDAmorj7KFdjK26TlsyH_HhFWhLqmESeKoCGsI=s64",
      "userId": "06956422670240182492"
     },
     "user_tz": -120
    },
    "id": "YIkM7im79gX-",
    "outputId": "3c14f154-68c1-4c7f-bea8-f2f77115ddaa"
   },
   "outputs": [
    {
     "data": {
      "image/png": "[encoded data removed]",
      "text/plain": [
       "<Figure size 432x288 with 1 Axes>"
      ]
     },
     "metadata": {
      "tags": []
     },
     "output_type": "display_data"
    }
   ],
   "source": [
    "from matplotlib import pylab as plt\n",
    "plt.plot(wine_test_target, target_prediction, \"o\")\n",
    "plt.xlabel('Ground truth alcohol values')\n",
    "plt.ylabel('Predicted')\n",
    "plt.xticks(())\n",
    "plt.yticks(())\n",
    "plt.show()"
   ]
  },
  {
   "cell_type": "markdown",
   "metadata": {
    "id": "xp7tQHgM9gYG"
   },
   "source": [
    "### Answer to 4.5)"
   ]
  },
  {
   "cell_type": "code",
   "execution_count": 20,
   "metadata": {
    "colab": {
     "base_uri": "https://localhost:8080/",
     "height": 34
    },
    "executionInfo": {
     "elapsed": 704,
     "status": "ok",
     "timestamp": 1601463288283,
     "user": {
      "displayName": "Julen Etxaniz Aragoneses",
      "photoUrl": "https://lh3.googleusercontent.com/a-/AOh14GilpYDAmorj7KFdjK26TlsyH_HhFWhLqmESeKoCGsI=s64",
      "userId": "06956422670240182492"
     },
     "user_tz": -120
    },
    "id": "NB54TSxu9gYH",
    "outputId": "ce31f961-6913-4bfe-863a-0cf5ab16156b"
   },
   "outputs": [
    {
     "name": "stdout",
     "output_type": "stream",
     "text": [
      "The test mse is: 0.34697550795579696\n"
     ]
    }
   ],
   "source": [
    "alcohol_mse = mean_squared_error(wine_test_target, target_prediction)\n",
    "print('The test mse is:', alcohol_mse)"
   ]
  },
  {
   "cell_type": "code",
   "execution_count": 24,
   "metadata": {
    "executionInfo": {
     "elapsed": 1083,
     "status": "ok",
     "timestamp": 1601463447823,
     "user": {
      "displayName": "Julen Etxaniz Aragoneses",
      "photoUrl": "https://lh3.googleusercontent.com/a-/AOh14GilpYDAmorj7KFdjK26TlsyH_HhFWhLqmESeKoCGsI=s64",
      "userId": "06956422670240182492"
     },
     "user_tz": -120
    },
    "id": "BkfcX08o9gYN"
   },
   "outputs": [],
   "source": []
  },
  {
   "cell_type": "markdown",
   "metadata": {
    "id": "KkA8JN0M9gYR"
   },
   "source": [
    "##  Execute the following cell to obtain a variant of the wine dataset that includes missing data in the columns [1,2,5]"
   ]
  },
  {
   "cell_type": "code",
   "execution_count": 12,
   "metadata": {
    "colab": {
     "base_uri": "https://localhost:8080/",
     "height": 151
    },
    "executionInfo": {
     "elapsed": 768,
     "status": "ok",
     "timestamp": 1601462515316,
     "user": {
      "displayName": "Julen Etxaniz Aragoneses",
      "photoUrl": "https://lh3.googleusercontent.com/a-/AOh14GilpYDAmorj7KFdjK26TlsyH_HhFWhLqmESeKoCGsI=s64",
      "userId": "06956422670240182492"
     },
     "user_tz": -120
    },
    "id": "eChc5XaP9gYS",
    "outputId": "4d431be5-eabd-4963-af26-baddead39b42"
   },
   "outputs": [
    {
     "name": "stdout",
     "output_type": "stream",
     "text": [
      "We print the test data to check if nan values have been added\n",
      "[[   1.78    2.14   11.2  ...    3.4  1050.      0.  ]\n",
      " [   1.95    2.5    16.8  ...    3.45 1480.      0.  ]\n",
      " [   1.76     nan     nan ...    2.85 1450.      0.  ]\n",
      " ...\n",
      " [   5.65    2.45   20.5  ...    1.74  740.      2.  ]\n",
      " [   4.28    2.26   20.   ...    1.56  835.      2.  ]\n",
      " [   4.1      nan     nan ...    1.6   560.      2.  ]]\n"
     ]
    }
   ],
   "source": [
    "def Add_Missing_Values(original_data,columns,proportion_NAN):\n",
    "    new_data = copy.copy(original_data)\n",
    "    n_rows = original_data.shape[0]\n",
    "    number_NAN_rows = int(n_rows*proportion_NAN)\n",
    "    for c in columns:\n",
    "        random_perm = np.random.permutation(n_rows)\n",
    "        selected_NAN_rows = random_perm[:number_NAN_rows]\n",
    "        new_data[selected_NAN_rows,c] = math.nan\n",
    "    return new_data\n",
    "\n",
    "\n",
    "columns = [1,2,5]\n",
    "proportion_NAN = 0.15\n",
    "\n",
    "incomplete_wine_train_data1 = Add_Missing_Values(wine_train_data1,columns,proportion_NAN)\n",
    "incomplete_wine_test_data1  = Add_Missing_Values(wine_test_data1,columns,proportion_NAN)\n",
    "\n",
    "print(\"We print the test data to check if nan values have been added\")\n",
    "print(incomplete_wine_test_data1)"
   ]
  },
  {
   "cell_type": "markdown",
   "metadata": {
    "collapsed": true,
    "id": "XOJY4K9p9gYV"
   },
   "source": [
    "# Exercise 5: Pipeline for missing data\n",
    "\n",
    "We would like to solve the same task that in the previous exercise (predict the amount of alcohol in the wine) but in this case, the dataset contains missing data and we would like to use pipelines\n",
    "\n",
    "\n",
    "5.1) Create a pipeline for the amount of alcohol prediction problem that incorporates an inputation method and a linear regressor.\n",
    "\n",
    "5.2) Learn the pipeline using the train dataset with missing data (incomplete_wine_train_data1)\n",
    "\n",
    "\n",
    "5.3) Evaluate the performance of the pipeline on the test dataset with missing data (incomplete_wine_test_data1).\n",
    "\n",
    "\n",
    "5.4) Create and learn a new pipeline adding a scaler method.\n",
    "\n",
    "\n",
    "5.5) Compare the performance of the new pipeline with the previous one "
   ]
  },
  {
   "cell_type": "markdown",
   "metadata": {
    "collapsed": true,
    "id": "ltnn3Bp49gYV"
   },
   "source": [
    "### Answer to 5.1)"
   ]
  },
  {
   "cell_type": "code",
   "execution_count": 33,
   "metadata": {
    "executionInfo": {
     "elapsed": 855,
     "status": "ok",
     "timestamp": 1601464566347,
     "user": {
      "displayName": "Julen Etxaniz Aragoneses",
      "photoUrl": "https://lh3.googleusercontent.com/a-/AOh14GilpYDAmorj7KFdjK26TlsyH_HhFWhLqmESeKoCGsI=s64",
      "userId": "06956422670240182492"
     },
     "user_tz": -120
    },
    "id": "2cZ2VrUA9gYW"
   },
   "outputs": [],
   "source": [
    "imp_mean = SimpleImputer(missing_values=math.nan, strategy=\"mean\")\n",
    "lr_clf = LinearRegression()\n",
    "\n",
    "wine_pipeline = Pipeline([(\"imputer\", imp_mean), (\"classifier\", lr_clf)])"
   ]
  },
  {
   "cell_type": "markdown",
   "metadata": {
    "id": "SisKnGvh9gYZ"
   },
   "source": [
    "### Answer to 5.2)"
   ]
  },
  {
   "cell_type": "code",
   "execution_count": 34,
   "metadata": {
    "colab": {
     "base_uri": "https://localhost:8080/",
     "height": 168
    },
    "executionInfo": {
     "elapsed": 1293,
     "status": "ok",
     "timestamp": 1601464574299,
     "user": {
      "displayName": "Julen Etxaniz Aragoneses",
      "photoUrl": "https://lh3.googleusercontent.com/a-/AOh14GilpYDAmorj7KFdjK26TlsyH_HhFWhLqmESeKoCGsI=s64",
      "userId": "06956422670240182492"
     },
     "user_tz": -120
    },
    "id": "WNxj442y9gYa",
    "outputId": "2d4b57c3-afb9-4953-b04e-256d3314e755"
   },
   "outputs": [
    {
     "data": {
      "text/plain": [
       "Pipeline(memory=None,\n",
       "         steps=[('imputer',\n",
       "                 SimpleImputer(add_indicator=False, copy=True, fill_value=None,\n",
       "                               missing_values=nan, strategy='mean',\n",
       "                               verbose=0)),\n",
       "                ('classifier',\n",
       "                 LinearRegression(copy_X=True, fit_intercept=True, n_jobs=None,\n",
       "                                  normalize=False))],\n",
       "         verbose=False)"
      ]
     },
     "execution_count": 34,
     "metadata": {
      "tags": []
     },
     "output_type": "execute_result"
    }
   ],
   "source": [
    "wine_pipeline.fit(incomplete_wine_train_data1, wine_train_target)"
   ]
  },
  {
   "cell_type": "markdown",
   "metadata": {
    "id": "wx6DEPsS9gYg"
   },
   "source": [
    "### Answer to 5.3)"
   ]
  },
  {
   "cell_type": "code",
   "execution_count": 41,
   "metadata": {
    "executionInfo": {
     "elapsed": 1084,
     "status": "ok",
     "timestamp": 1601465213900,
     "user": {
      "displayName": "Julen Etxaniz Aragoneses",
      "photoUrl": "https://lh3.googleusercontent.com/a-/AOh14GilpYDAmorj7KFdjK26TlsyH_HhFWhLqmESeKoCGsI=s64",
      "userId": "06956422670240182492"
     },
     "user_tz": -120
    },
    "id": "HMSYuIdA9gYh"
   },
   "outputs": [],
   "source": [
    "prediction_test_pipeline = wine_pipeline.predict(incomplete_wine_test_data1)"
   ]
  },
  {
   "cell_type": "markdown",
   "metadata": {
    "id": "YAXSiJeQ9gYq"
   },
   "source": [
    "### Answer to 5.4)"
   ]
  },
  {
   "cell_type": "code",
   "execution_count": 40,
   "metadata": {
    "executionInfo": {
     "elapsed": 1483,
     "status": "ok",
     "timestamp": 1601465197169,
     "user": {
      "displayName": "Julen Etxaniz Aragoneses",
      "photoUrl": "https://lh3.googleusercontent.com/a-/AOh14GilpYDAmorj7KFdjK26TlsyH_HhFWhLqmESeKoCGsI=s64",
      "userId": "06956422670240182492"
     },
     "user_tz": -120
    },
    "id": "8SlDTisJ9gYr"
   },
   "outputs": [],
   "source": [
    "scaler = preprocessing.StandardScaler()\n",
    "imp_mean = SimpleImputer(missing_values=math.nan, strategy=\"mean\")\n",
    "lr_clf = LinearRegression()\n",
    "\n",
    "large_wine_pipeline = Pipeline([(\"imp_mean\", imp_mean), (\"scaler\", scaler), (\"lr_clf\", lr_clf)])\n",
    "large_wine_pipeline.fit(incomplete_wine_train_data1, wine_train_target)\n",
    "prediction_test_large_pipeline = large_wine_pipeline.predict(incomplete_wine_test_data1)"
   ]
  },
  {
   "cell_type": "markdown",
   "metadata": {
    "id": "0nfShQLR9gYz"
   },
   "source": [
    "### Answer to 5.5)"
   ]
  },
  {
   "cell_type": "code",
   "execution_count": 42,
   "metadata": {
    "colab": {
     "base_uri": "https://localhost:8080/",
     "height": 50
    },
    "executionInfo": {
     "elapsed": 883,
     "status": "ok",
     "timestamp": 1601465272289,
     "user": {
      "displayName": "Julen Etxaniz Aragoneses",
      "photoUrl": "https://lh3.googleusercontent.com/a-/AOh14GilpYDAmorj7KFdjK26TlsyH_HhFWhLqmESeKoCGsI=s64",
      "userId": "06956422670240182492"
     },
     "user_tz": -120
    },
    "id": "lKKSjyA-9gY0",
    "outputId": "4eeb9e3d-7f8f-4ae0-d07c-440bb51fb2e0"
   },
   "outputs": [
    {
     "name": "stdout",
     "output_type": "stream",
     "text": [
      "The test mse of the first pipeline prediction is: 0.3818604297004025\n",
      "The test mse of the large pipeline prediction is: 0.38186042970040085\n"
     ]
    }
   ],
   "source": [
    "pipeline1_alcohol_mse = mean_squared_error(wine_test_target, prediction_test_pipeline)\n",
    "print('The test mse of the first pipeline prediction is:', pipeline1_alcohol_mse)\n",
    "\n",
    "large_pipeline1_alcohol_mse = mean_squared_error(wine_test_target, prediction_test_large_pipeline)\n",
    "print('The test mse of the large pipeline prediction is:', large_pipeline1_alcohol_mse)\n"
   ]
  },
  {
   "cell_type": "markdown",
   "metadata": {
    "collapsed": true,
    "id": "e1fvPHFs9gY4"
   },
   "source": [
    "# Exercise 6: Using TPOT to find optimized pipelines \n",
    "\n",
    "The goal of the exercise is to use TPOT to find a pipeline that solves the wine classification problem of Exercise 1. \n",
    "\n",
    "6.1) Modify the definition of the TPOT object given in the following cell to guarantee that no more than 60 pipelines are evaluated during the evolution\n",
    "\n",
    "6.2) Modify the tpot.fit  step given in the following cell to learn a pipeline of the Wine classification problem (the one from Exercise 1). \n",
    "\n",
    "6.3) Use the pipeline learned by tpot to predict on the test data. \n",
    "\n",
    "6.4) Compute the accuracy of the prediction\n",
    "\n",
    "6.5) Create a new cell where tpot is used to  learn a pipeline of the Wine problem, but removing the \"Malic Acid\" and \"Ash\" features. Make the prediction on the new test data.  \n",
    "\n",
    "\n",
    "6.6) How do the performance of the two pipelines found by tpot, the one learned using all the features and the one with the two features removed,  compare to each other?"
   ]
  },
  {
   "cell_type": "markdown",
   "metadata": {
    "id": "c3RvnBys9gY9"
   },
   "source": [
    "### Answer to 6.1)"
   ]
  },
  {
   "cell_type": "code",
   "execution_count": 46,
   "metadata": {
    "executionInfo": {
     "elapsed": 1443,
     "status": "ok",
     "timestamp": 1601465914592,
     "user": {
      "displayName": "Julen Etxaniz Aragoneses",
      "photoUrl": "https://lh3.googleusercontent.com/a-/AOh14GilpYDAmorj7KFdjK26TlsyH_HhFWhLqmESeKoCGsI=s64",
      "userId": "06956422670240182492"
     },
     "user_tz": -120
    },
    "id": "cX2KsphA9gY-"
   },
   "outputs": [],
   "source": [
    "tpot = TPOTClassifier(generations=6, population_size=10, verbosity=2, random_state=16)\n"
   ]
  },
  {
   "cell_type": "markdown",
   "metadata": {
    "id": "xPwOHmRQ9gZC"
   },
   "source": [
    "### Answer to 6.2)"
   ]
  },
  {
   "cell_type": "code",
   "execution_count": 48,
   "metadata": {
    "colab": {
     "base_uri": "https://localhost:8080/",
     "height": 390,
     "referenced_widgets": [
      "90858cd05e1e4c76abed7063cc5c5af7",
      "f9a77b8b84e24fd6901b1bf0c7b7c92f",
      "f8d776283a224950ae9ade9ac917754e",
      "c28cdd9113af40c5a38c8c1e81758bc7",
      "e40c60aacc4d42899dc62e4578f39aea",
      "328a121c32d145e9be7b8f1febb8ec10",
      "74e6e4e19d264cecb65253b12f6110ff",
      "767ae04f3be34be4bcf3a22d5de72226"
     ]
    },
    "executionInfo": {
     "elapsed": 41850,
     "status": "ok",
     "timestamp": 1601466072614,
     "user": {
      "displayName": "Julen Etxaniz Aragoneses",
      "photoUrl": "https://lh3.googleusercontent.com/a-/AOh14GilpYDAmorj7KFdjK26TlsyH_HhFWhLqmESeKoCGsI=s64",
      "userId": "06956422670240182492"
     },
     "user_tz": -120
    },
    "id": "YZjQBK219gZC",
    "outputId": "d3645773-5b3b-4926-a3a3-53a3f7722046"
   },
   "outputs": [
    {
     "data": {
      "application/vnd.jupyter.widget-view+json": {
       "model_id": "90858cd05e1e4c76abed7063cc5c5af7",
       "version_major": 2,
       "version_minor": 0
      },
      "text/plain": [
       "HBox(children=(FloatProgress(value=0.0, description='Optimization Progress', max=70.0, style=ProgressStyle(des…"
      ]
     },
     "metadata": {
      "tags": []
     },
     "output_type": "display_data"
    },
    {
     "name": "stdout",
     "output_type": "stream",
     "text": [
      "\n",
      "Generation 1 - Current best internal CV score: 0.9111111111111111\n",
      "Generation 2 - Current best internal CV score: 0.9660130718954247\n",
      "Generation 3 - Current best internal CV score: 0.9777777777777779\n",
      "Generation 4 - Current best internal CV score: 0.9882352941176471\n",
      "Generation 5 - Current best internal CV score: 1.0\n",
      "Generation 6 - Current best internal CV score: 1.0\n",
      "Best pipeline: GradientBoostingClassifier(MinMaxScaler(input_matrix), learning_rate=0.5, max_depth=4, max_features=0.15000000000000002, min_samples_leaf=4, min_samples_split=8, n_estimators=100, subsample=0.9000000000000001)\n"
     ]
    },
    {
     "data": {
      "text/plain": [
       "[('minmaxscaler', MinMaxScaler(copy=True, feature_range=(0, 1))),\n",
       " ('gradientboostingclassifier',\n",
       "  GradientBoostingClassifier(ccp_alpha=0.0, criterion='friedman_mse', init=None,\n",
       "                             learning_rate=0.5, loss='deviance', max_depth=4,\n",
       "                             max_features=0.15000000000000002,\n",
       "                             max_leaf_nodes=None, min_impurity_decrease=0.0,\n",
       "                             min_impurity_split=None, min_samples_leaf=4,\n",
       "                             min_samples_split=8, min_weight_fraction_leaf=0.0,\n",
       "                             n_estimators=100, n_iter_no_change=None,\n",
       "                             presort='deprecated', random_state=16,\n",
       "                             subsample=0.9000000000000001, tol=0.0001,\n",
       "                             validation_fraction=0.1, verbose=0,\n",
       "                             warm_start=False))]"
      ]
     },
     "execution_count": 48,
     "metadata": {
      "tags": []
     },
     "output_type": "execute_result"
    }
   ],
   "source": [
    "tpot.fit(features=wine_train_data, target=wine_train_class)\n",
    "tpot.fitted_pipeline_.steps"
   ]
  },
  {
   "cell_type": "markdown",
   "metadata": {
    "id": "xOorLr_m9gZG"
   },
   "source": [
    "### Answer to 6.3)"
   ]
  },
  {
   "cell_type": "code",
   "execution_count": 49,
   "metadata": {
    "executionInfo": {
     "elapsed": 1054,
     "status": "ok",
     "timestamp": 1601466085869,
     "user": {
      "displayName": "Julen Etxaniz Aragoneses",
      "photoUrl": "https://lh3.googleusercontent.com/a-/AOh14GilpYDAmorj7KFdjK26TlsyH_HhFWhLqmESeKoCGsI=s64",
      "userId": "06956422670240182492"
     },
     "user_tz": -120
    },
    "id": "LDOLiRYH9gZH"
   },
   "outputs": [],
   "source": [
    "tpot_test_predictions = tpot.predict(wine_test_data)"
   ]
  },
  {
   "cell_type": "markdown",
   "metadata": {
    "id": "p-SceaXf9gZK"
   },
   "source": [
    "### Answer to 6.4)"
   ]
  },
  {
   "cell_type": "code",
   "execution_count": 50,
   "metadata": {
    "colab": {
     "base_uri": "https://localhost:8080/",
     "height": 34
    },
    "executionInfo": {
     "elapsed": 1158,
     "status": "ok",
     "timestamp": 1601466088322,
     "user": {
      "displayName": "Julen Etxaniz Aragoneses",
      "photoUrl": "https://lh3.googleusercontent.com/a-/AOh14GilpYDAmorj7KFdjK26TlsyH_HhFWhLqmESeKoCGsI=s64",
      "userId": "06956422670240182492"
     },
     "user_tz": -120
    },
    "id": "-R9WRJve9gZM",
    "outputId": "c57b6ce3-483d-411b-bb73-30d10a61ae56"
   },
   "outputs": [
    {
     "name": "stdout",
     "output_type": "stream",
     "text": [
      "The test accuracy obtained by tpot classification problem is: 0.9887640449438202\n"
     ]
    }
   ],
   "source": [
    "tpot_test_accuracy = accuracy_score(wine_test_class, tpot_test_predictions)\n",
    "print('The test accuracy obtained by tpot classification problem is:',tpot_test_accuracy)"
   ]
  },
  {
   "cell_type": "code",
   "execution_count": null,
   "metadata": {
    "id": "JPK5tF_E9gZP"
   },
   "outputs": [],
   "source": []
  },
  {
   "cell_type": "markdown",
   "metadata": {
    "id": "XAAxFKnU9gZU"
   },
   "source": [
    "### Answer to 6.5)"
   ]
  },
  {
   "cell_type": "code",
   "execution_count": 51,
   "metadata": {
    "colab": {
     "base_uri": "https://localhost:8080/",
     "height": 205,
     "referenced_widgets": [
      "bac1789160184bc5a1ca45f691399460",
      "7869315b714649b8860109bbd7012402",
      "0d0df8874cdc4750822ad182eca93862",
      "7b74e8c1869742d3a37ebbdd71c1cfdc",
      "14384cf5980d42f0857da4925d5bba83",
      "9b7b9197592d46db900309b981a1c787",
      "43565bfb6a5f420b98459efa091cf8de",
      "56b6169624d44c65b6ce7f11d9057825"
     ]
    },
    "executionInfo": {
     "elapsed": 41902,
     "status": "ok",
     "timestamp": 1601466745794,
     "user": {
      "displayName": "Julen Etxaniz Aragoneses",
      "photoUrl": "https://lh3.googleusercontent.com/a-/AOh14GilpYDAmorj7KFdjK26TlsyH_HhFWhLqmESeKoCGsI=s64",
      "userId": "06956422670240182492"
     },
     "user_tz": -120
    },
    "id": "RtrWjYMl9gZV",
    "outputId": "318c10d0-64cc-49f1-ae50-8aeba45d869a"
   },
   "outputs": [
    {
     "name": "stderr",
     "output_type": "stream",
     "text": [
      "/usr/local/lib/python3.6/dist-packages/numpy/lib/arraysetops.py:565: FutureWarning: elementwise comparison failed; returning scalar instead, but in the future will perform elementwise comparison\n",
      "  mask &= (ar1 != a)\n"
     ]
    },
    {
     "data": {
      "application/vnd.jupyter.widget-view+json": {
       "model_id": "bac1789160184bc5a1ca45f691399460",
       "version_major": 2,
       "version_minor": 0
      },
      "text/plain": [
       "HBox(children=(FloatProgress(value=0.0, description='Optimization Progress', max=70.0, style=ProgressStyle(des…"
      ]
     },
     "metadata": {
      "tags": []
     },
     "output_type": "display_data"
    },
    {
     "name": "stdout",
     "output_type": "stream",
     "text": [
      "\n",
      "Generation 1 - Current best internal CV score: 0.9111111111111111\n",
      "Generation 2 - Current best internal CV score: 0.9660130718954247\n",
      "Generation 3 - Current best internal CV score: 0.9777777777777779\n",
      "Generation 4 - Current best internal CV score: 0.9882352941176471\n",
      "Generation 5 - Current best internal CV score: 1.0\n",
      "Generation 6 - Current best internal CV score: 1.0\n",
      "Best pipeline: GradientBoostingClassifier(MinMaxScaler(input_matrix), learning_rate=0.5, max_depth=4, max_features=0.15000000000000002, min_samples_leaf=4, min_samples_split=8, n_estimators=100, subsample=0.9000000000000001)\n"
     ]
    }
   ],
   "source": [
    "all_features = range(13)\n",
    "excluded_features = [\"Malic Acid\", \"Ash\"]\n",
    "\n",
    "# The selected features are all the original ones excluding the two features\n",
    "selected_features = np.setdiff1d(all_features, excluded_features)\n",
    "\n",
    "# Reduced train and datasets\n",
    "wine_train_data_reduced = wine_train_data[:, selected_features]\n",
    "wine_test_data_reduced = wine_test_data[:, selected_features]\n",
    "\n",
    "# A new tpot object is defined\n",
    "reduced_tpot = TPOTClassifier(generations=6, population_size=10, verbosity=2, random_state=16)\n",
    "\n",
    "# The tpot object is trained using the reduced datasets \n",
    "reduced_tpot.fit(wine_train_data_reduced, wine_train_class)\n",
    "reduced_tpot.fitted_pipeline_.steps\n",
    "\n",
    "# Predictions on the reduced test set are made\n",
    "reduced_tpot_test_predictions = reduced_tpot.predict(wine_test_data_reduced)\n",
    "\n"
   ]
  },
  {
   "cell_type": "markdown",
   "metadata": {
    "id": "QJZdlKsI9gZa"
   },
   "source": [
    "### Answer to 6.6)"
   ]
  },
  {
   "cell_type": "code",
   "execution_count": 52,
   "metadata": {
    "colab": {
     "base_uri": "https://localhost:8080/",
     "height": 34
    },
    "executionInfo": {
     "elapsed": 912,
     "status": "ok",
     "timestamp": 1601466810246,
     "user": {
      "displayName": "Julen Etxaniz Aragoneses",
      "photoUrl": "https://lh3.googleusercontent.com/a-/AOh14GilpYDAmorj7KFdjK26TlsyH_HhFWhLqmESeKoCGsI=s64",
      "userId": "06956422670240182492"
     },
     "user_tz": -120
    },
    "id": "offRiZsW9gZa",
    "outputId": "30e010ea-4991-4fd5-f87b-572d7230e4a1"
   },
   "outputs": [
    {
     "name": "stdout",
     "output_type": "stream",
     "text": [
      "The test accuracy obtained by tpot using the reduced features is: 0.9775280898876404\n"
     ]
    }
   ],
   "source": [
    "reduced_tpot_test_accuracy = accuracy_score(wine_train_class, reduced_tpot_test_predictions)\n",
    "print('The test accuracy obtained by tpot using the reduced features is:',\n",
    "      reduced_tpot_test_accuracy)"
   ]
  },
  {
   "cell_type": "code",
   "execution_count": null,
   "metadata": {
    "id": "jlfg9zgd9gZg"
   },
   "outputs": [],
   "source": []
  }
 ],
 "metadata": {
  "colab": {
   "collapsed_sections": [
    "vx3pNXZS9gVU",
    "lyj6AG589gVd",
    "QMtkTOBH9gVk",
    "Eo5_PQBB9gV2",
    "j0ze8lV39gWB",
    "hmlvuNyB9gWX",
    "7DTv7i7C9gWg",
    "AlA_U3sR9gWo",
    "wg3Aq9-G9gXG",
    "MuXRu6xd9gXO",
    "CgdDJQw-9gXW",
    "n6RgR3EM9gXg",
    "8LMlVZxH9gXl",
    "QJZdlKsI9gZa"
   ],
   "name": "Lab3_Adv_Classification_Exercises_a.ipynb",
   "provenance": []
  },
  "kernelspec": {
   "display_name": "Python 3",
   "language": "python",
   "name": "python3"
  },
  "language_info": {
   "codemirror_mode": {
    "name": "ipython",
    "version": 3
   },
   "file_extension": ".py",
   "mimetype": "text/x-python",
   "name": "python",
   "nbconvert_exporter": "python",
   "pygments_lexer": "ipython3",
   "version": "3.6.9"
  },
  "widgets": {
   "application/vnd.jupyter.widget-state+json": {
    "0d0df8874cdc4750822ad182eca93862": {
     "model_module": "@jupyter-widgets/controls",
     "model_name": "FloatProgressModel",
     "state": {
      "_dom_classes": [],
      "_model_module": "@jupyter-widgets/controls",
      "_model_module_version": "1.5.0",
      "_model_name": "FloatProgressModel",
      "_view_count": null,
      "_view_module": "@jupyter-widgets/controls",
      "_view_module_version": "1.5.0",
      "_view_name": "ProgressView",
      "bar_style": "",
      "description": "Optimization Progress: 100%",
      "description_tooltip": null,
      "layout": "IPY_MODEL_9b7b9197592d46db900309b981a1c787",
      "max": 70,
      "min": 0,
      "orientation": "horizontal",
      "style": "IPY_MODEL_14384cf5980d42f0857da4925d5bba83",
      "value": 70
     }
    },
    "14384cf5980d42f0857da4925d5bba83": {
     "model_module": "@jupyter-widgets/controls",
     "model_name": "ProgressStyleModel",
     "state": {
      "_model_module": "@jupyter-widgets/controls",
      "_model_module_version": "1.5.0",
      "_model_name": "ProgressStyleModel",
      "_view_count": null,
      "_view_module": "@jupyter-widgets/base",
      "_view_module_version": "1.2.0",
      "_view_name": "StyleView",
      "bar_color": null,
      "description_width": "initial"
     }
    },
    "328a121c32d145e9be7b8f1febb8ec10": {
     "model_module": "@jupyter-widgets/base",
     "model_name": "LayoutModel",
     "state": {
      "_model_module": "@jupyter-widgets/base",
      "_model_module_version": "1.2.0",
      "_model_name": "LayoutModel",
      "_view_count": null,
      "_view_module": "@jupyter-widgets/base",
      "_view_module_version": "1.2.0",
      "_view_name": "LayoutView",
      "align_content": null,
      "align_items": null,
      "align_self": null,
      "border": null,
      "bottom": null,
      "display": null,
      "flex": null,
      "flex_flow": null,
      "grid_area": null,
      "grid_auto_columns": null,
      "grid_auto_flow": null,
      "grid_auto_rows": null,
      "grid_column": null,
      "grid_gap": null,
      "grid_row": null,
      "grid_template_areas": null,
      "grid_template_columns": null,
      "grid_template_rows": null,
      "height": null,
      "justify_content": null,
      "justify_items": null,
      "left": null,
      "margin": null,
      "max_height": null,
      "max_width": null,
      "min_height": null,
      "min_width": null,
      "object_fit": null,
      "object_position": null,
      "order": null,
      "overflow": null,
      "overflow_x": null,
      "overflow_y": null,
      "padding": null,
      "right": null,
      "top": null,
      "visibility": null,
      "width": null
     }
    },
    "43565bfb6a5f420b98459efa091cf8de": {
     "model_module": "@jupyter-widgets/controls",
     "model_name": "DescriptionStyleModel",
     "state": {
      "_model_module": "@jupyter-widgets/controls",
      "_model_module_version": "1.5.0",
      "_model_name": "DescriptionStyleModel",
      "_view_count": null,
      "_view_module": "@jupyter-widgets/base",
      "_view_module_version": "1.2.0",
      "_view_name": "StyleView",
      "description_width": ""
     }
    },
    "56b6169624d44c65b6ce7f11d9057825": {
     "model_module": "@jupyter-widgets/base",
     "model_name": "LayoutModel",
     "state": {
      "_model_module": "@jupyter-widgets/base",
      "_model_module_version": "1.2.0",
      "_model_name": "LayoutModel",
      "_view_count": null,
      "_view_module": "@jupyter-widgets/base",
      "_view_module_version": "1.2.0",
      "_view_name": "LayoutView",
      "align_content": null,
      "align_items": null,
      "align_self": null,
      "border": null,
      "bottom": null,
      "display": null,
      "flex": null,
      "flex_flow": null,
      "grid_area": null,
      "grid_auto_columns": null,
      "grid_auto_flow": null,
      "grid_auto_rows": null,
      "grid_column": null,
      "grid_gap": null,
      "grid_row": null,
      "grid_template_areas": null,
      "grid_template_columns": null,
      "grid_template_rows": null,
      "height": null,
      "justify_content": null,
      "justify_items": null,
      "left": null,
      "margin": null,
      "max_height": null,
      "max_width": null,
      "min_height": null,
      "min_width": null,
      "object_fit": null,
      "object_position": null,
      "order": null,
      "overflow": null,
      "overflow_x": null,
      "overflow_y": null,
      "padding": null,
      "right": null,
      "top": null,
      "visibility": null,
      "width": null
     }
    },
    "74e6e4e19d264cecb65253b12f6110ff": {
     "model_module": "@jupyter-widgets/controls",
     "model_name": "DescriptionStyleModel",
     "state": {
      "_model_module": "@jupyter-widgets/controls",
      "_model_module_version": "1.5.0",
      "_model_name": "DescriptionStyleModel",
      "_view_count": null,
      "_view_module": "@jupyter-widgets/base",
      "_view_module_version": "1.2.0",
      "_view_name": "StyleView",
      "description_width": ""
     }
    },
    "767ae04f3be34be4bcf3a22d5de72226": {
     "model_module": "@jupyter-widgets/base",
     "model_name": "LayoutModel",
     "state": {
      "_model_module": "@jupyter-widgets/base",
      "_model_module_version": "1.2.0",
      "_model_name": "LayoutModel",
      "_view_count": null,
      "_view_module": "@jupyter-widgets/base",
      "_view_module_version": "1.2.0",
      "_view_name": "LayoutView",
      "align_content": null,
      "align_items": null,
      "align_self": null,
      "border": null,
      "bottom": null,
      "display": null,
      "flex": null,
      "flex_flow": null,
      "grid_area": null,
      "grid_auto_columns": null,
      "grid_auto_flow": null,
      "grid_auto_rows": null,
      "grid_column": null,
      "grid_gap": null,
      "grid_row": null,
      "grid_template_areas": null,
      "grid_template_columns": null,
      "grid_template_rows": null,
      "height": null,
      "justify_content": null,
      "justify_items": null,
      "left": null,
      "margin": null,
      "max_height": null,
      "max_width": null,
      "min_height": null,
      "min_width": null,
      "object_fit": null,
      "object_position": null,
      "order": null,
      "overflow": null,
      "overflow_x": null,
      "overflow_y": null,
      "padding": null,
      "right": null,
      "top": null,
      "visibility": null,
      "width": null
     }
    },
    "7869315b714649b8860109bbd7012402": {
     "model_module": "@jupyter-widgets/base",
     "model_name": "LayoutModel",
     "state": {
      "_model_module": "@jupyter-widgets/base",
      "_model_module_version": "1.2.0",
      "_model_name": "LayoutModel",
      "_view_count": null,
      "_view_module": "@jupyter-widgets/base",
      "_view_module_version": "1.2.0",
      "_view_name": "LayoutView",
      "align_content": null,
      "align_items": null,
      "align_self": null,
      "border": null,
      "bottom": null,
      "display": null,
      "flex": null,
      "flex_flow": null,
      "grid_area": null,
      "grid_auto_columns": null,
      "grid_auto_flow": null,
      "grid_auto_rows": null,
      "grid_column": null,
      "grid_gap": null,
      "grid_row": null,
      "grid_template_areas": null,
      "grid_template_columns": null,
      "grid_template_rows": null,
      "height": null,
      "justify_content": null,
      "justify_items": null,
      "left": null,
      "margin": null,
      "max_height": null,
      "max_width": null,
      "min_height": null,
      "min_width": null,
      "object_fit": null,
      "object_position": null,
      "order": null,
      "overflow": null,
      "overflow_x": null,
      "overflow_y": null,
      "padding": null,
      "right": null,
      "top": null,
      "visibility": null,
      "width": null
     }
    },
    "7b74e8c1869742d3a37ebbdd71c1cfdc": {
     "model_module": "@jupyter-widgets/controls",
     "model_name": "HTMLModel",
     "state": {
      "_dom_classes": [],
      "_model_module": "@jupyter-widgets/controls",
      "_model_module_version": "1.5.0",
      "_model_name": "HTMLModel",
      "_view_count": null,
      "_view_module": "@jupyter-widgets/controls",
      "_view_module_version": "1.5.0",
      "_view_name": "HTMLView",
      "description": "",
      "description_tooltip": null,
      "layout": "IPY_MODEL_56b6169624d44c65b6ce7f11d9057825",
      "placeholder": "​",
      "style": "IPY_MODEL_43565bfb6a5f420b98459efa091cf8de",
      "value": " 70/70 [00:40&lt;00:00,  1.06pipeline/s]"
     }
    },
    "90858cd05e1e4c76abed7063cc5c5af7": {
     "model_module": "@jupyter-widgets/controls",
     "model_name": "HBoxModel",
     "state": {
      "_dom_classes": [],
      "_model_module": "@jupyter-widgets/controls",
      "_model_module_version": "1.5.0",
      "_model_name": "HBoxModel",
      "_view_count": null,
      "_view_module": "@jupyter-widgets/controls",
      "_view_module_version": "1.5.0",
      "_view_name": "HBoxView",
      "box_style": "",
      "children": [
       "IPY_MODEL_f8d776283a224950ae9ade9ac917754e",
       "IPY_MODEL_c28cdd9113af40c5a38c8c1e81758bc7"
      ],
      "layout": "IPY_MODEL_f9a77b8b84e24fd6901b1bf0c7b7c92f"
     }
    },
    "9b7b9197592d46db900309b981a1c787": {
     "model_module": "@jupyter-widgets/base",
     "model_name": "LayoutModel",
     "state": {
      "_model_module": "@jupyter-widgets/base",
      "_model_module_version": "1.2.0",
      "_model_name": "LayoutModel",
      "_view_count": null,
      "_view_module": "@jupyter-widgets/base",
      "_view_module_version": "1.2.0",
      "_view_name": "LayoutView",
      "align_content": null,
      "align_items": null,
      "align_self": null,
      "border": null,
      "bottom": null,
      "display": null,
      "flex": null,
      "flex_flow": null,
      "grid_area": null,
      "grid_auto_columns": null,
      "grid_auto_flow": null,
      "grid_auto_rows": null,
      "grid_column": null,
      "grid_gap": null,
      "grid_row": null,
      "grid_template_areas": null,
      "grid_template_columns": null,
      "grid_template_rows": null,
      "height": null,
      "justify_content": null,
      "justify_items": null,
      "left": null,
      "margin": null,
      "max_height": null,
      "max_width": null,
      "min_height": null,
      "min_width": null,
      "object_fit": null,
      "object_position": null,
      "order": null,
      "overflow": null,
      "overflow_x": null,
      "overflow_y": null,
      "padding": null,
      "right": null,
      "top": null,
      "visibility": null,
      "width": null
     }
    },
    "bac1789160184bc5a1ca45f691399460": {
     "model_module": "@jupyter-widgets/controls",
     "model_name": "HBoxModel",
     "state": {
      "_dom_classes": [],
      "_model_module": "@jupyter-widgets/controls",
      "_model_module_version": "1.5.0",
      "_model_name": "HBoxModel",
      "_view_count": null,
      "_view_module": "@jupyter-widgets/controls",
      "_view_module_version": "1.5.0",
      "_view_name": "HBoxView",
      "box_style": "",
      "children": [
       "IPY_MODEL_0d0df8874cdc4750822ad182eca93862",
       "IPY_MODEL_7b74e8c1869742d3a37ebbdd71c1cfdc"
      ],
      "layout": "IPY_MODEL_7869315b714649b8860109bbd7012402"
     }
    },
    "c28cdd9113af40c5a38c8c1e81758bc7": {
     "model_module": "@jupyter-widgets/controls",
     "model_name": "HTMLModel",
     "state": {
      "_dom_classes": [],
      "_model_module": "@jupyter-widgets/controls",
      "_model_module_version": "1.5.0",
      "_model_name": "HTMLModel",
      "_view_count": null,
      "_view_module": "@jupyter-widgets/controls",
      "_view_module_version": "1.5.0",
      "_view_name": "HTMLView",
      "description": "",
      "description_tooltip": null,
      "layout": "IPY_MODEL_767ae04f3be34be4bcf3a22d5de72226",
      "placeholder": "​",
      "style": "IPY_MODEL_74e6e4e19d264cecb65253b12f6110ff",
      "value": " 70/70 [00:40&lt;00:00,  1.08pipeline/s]"
     }
    },
    "e40c60aacc4d42899dc62e4578f39aea": {
     "model_module": "@jupyter-widgets/controls",
     "model_name": "ProgressStyleModel",
     "state": {
      "_model_module": "@jupyter-widgets/controls",
      "_model_module_version": "1.5.0",
      "_model_name": "ProgressStyleModel",
      "_view_count": null,
      "_view_module": "@jupyter-widgets/base",
      "_view_module_version": "1.2.0",
      "_view_name": "StyleView",
      "bar_color": null,
      "description_width": "initial"
     }
    },
    "f8d776283a224950ae9ade9ac917754e": {
     "model_module": "@jupyter-widgets/controls",
     "model_name": "FloatProgressModel",
     "state": {
      "_dom_classes": [],
      "_model_module": "@jupyter-widgets/controls",
      "_model_module_version": "1.5.0",
      "_model_name": "FloatProgressModel",
      "_view_count": null,
      "_view_module": "@jupyter-widgets/controls",
      "_view_module_version": "1.5.0",
      "_view_name": "ProgressView",
      "bar_style": "",
      "description": "Optimization Progress: 100%",
      "description_tooltip": null,
      "layout": "IPY_MODEL_328a121c32d145e9be7b8f1febb8ec10",
      "max": 70,
      "min": 0,
      "orientation": "horizontal",
      "style": "IPY_MODEL_e40c60aacc4d42899dc62e4578f39aea",
      "value": 70
     }
    },
    "f9a77b8b84e24fd6901b1bf0c7b7c92f": {
     "model_module": "@jupyter-widgets/base",
     "model_name": "LayoutModel",
     "state": {
      "_model_module": "@jupyter-widgets/base",
      "_model_module_version": "1.2.0",
      "_model_name": "LayoutModel",
      "_view_count": null,
      "_view_module": "@jupyter-widgets/base",
      "_view_module_version": "1.2.0",
      "_view_name": "LayoutView",
      "align_content": null,
      "align_items": null,
      "align_self": null,
      "border": null,
      "bottom": null,
      "display": null,
      "flex": null,
      "flex_flow": null,
      "grid_area": null,
      "grid_auto_columns": null,
      "grid_auto_flow": null,
      "grid_auto_rows": null,
      "grid_column": null,
      "grid_gap": null,
      "grid_row": null,
      "grid_template_areas": null,
      "grid_template_columns": null,
      "grid_template_rows": null,
      "height": null,
      "justify_content": null,
      "justify_items": null,
      "left": null,
      "margin": null,
      "max_height": null,
      "max_width": null,
      "min_height": null,
      "min_width": null,
      "object_fit": null,
      "object_position": null,
      "order": null,
      "overflow": null,
      "overflow_x": null,
      "overflow_y": null,
      "padding": null,
      "right": null,
      "top": null,
      "visibility": null,
      "width": null
     }
    }
   }
  }
 },
 "nbformat": 4,
 "nbformat_minor": 1
}
