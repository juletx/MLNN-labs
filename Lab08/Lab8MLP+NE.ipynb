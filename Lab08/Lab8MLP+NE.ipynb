{
 "cells": [
  {
   "cell_type": "markdown",
   "metadata": {},
   "source": [
    "# Topic 2: Multi-Layer Perceptron + Neuroevolution\n",
    "\n",
    "\n",
    "\n",
    "In this notebook, we are going to introduce a basic implementation of a multi-layer perceptron. After that, we are going to catch a glimpse of a couple of neuroevolutionary examples: Algorithms which are devoted to optimizing a critical aspect of deep neural networks, their structure.\n"
   ]
  },
  {
   "cell_type": "code",
   "execution_count": 1,
   "metadata": {},
   "outputs": [
    {
     "name": "stderr",
     "output_type": "stream",
     "text": [
      "/usr/local/lib/python3.6/dist-packages/tensorflow/python/framework/dtypes.py:516: FutureWarning: Passing (type, 1) or '1type' as a synonym of type is deprecated; in a future version of numpy, it will be understood as (type, (1,)) / '(1,)type'.\n",
      "  _np_qint8 = np.dtype([(\"qint8\", np.int8, 1)])\n",
      "/usr/local/lib/python3.6/dist-packages/tensorflow/python/framework/dtypes.py:517: FutureWarning: Passing (type, 1) or '1type' as a synonym of type is deprecated; in a future version of numpy, it will be understood as (type, (1,)) / '(1,)type'.\n",
      "  _np_quint8 = np.dtype([(\"quint8\", np.uint8, 1)])\n",
      "/usr/local/lib/python3.6/dist-packages/tensorflow/python/framework/dtypes.py:518: FutureWarning: Passing (type, 1) or '1type' as a synonym of type is deprecated; in a future version of numpy, it will be understood as (type, (1,)) / '(1,)type'.\n",
      "  _np_qint16 = np.dtype([(\"qint16\", np.int16, 1)])\n",
      "/usr/local/lib/python3.6/dist-packages/tensorflow/python/framework/dtypes.py:519: FutureWarning: Passing (type, 1) or '1type' as a synonym of type is deprecated; in a future version of numpy, it will be understood as (type, (1,)) / '(1,)type'.\n",
      "  _np_quint16 = np.dtype([(\"quint16\", np.uint16, 1)])\n",
      "/usr/local/lib/python3.6/dist-packages/tensorflow/python/framework/dtypes.py:520: FutureWarning: Passing (type, 1) or '1type' as a synonym of type is deprecated; in a future version of numpy, it will be understood as (type, (1,)) / '(1,)type'.\n",
      "  _np_qint32 = np.dtype([(\"qint32\", np.int32, 1)])\n",
      "/usr/local/lib/python3.6/dist-packages/tensorflow/python/framework/dtypes.py:525: FutureWarning: Passing (type, 1) or '1type' as a synonym of type is deprecated; in a future version of numpy, it will be understood as (type, (1,)) / '(1,)type'.\n",
      "  np_resource = np.dtype([(\"resource\", np.ubyte, 1)])\n",
      "/usr/local/lib/python3.6/dist-packages/tensorboard/compat/tensorflow_stub/dtypes.py:541: FutureWarning: Passing (type, 1) or '1type' as a synonym of type is deprecated; in a future version of numpy, it will be understood as (type, (1,)) / '(1,)type'.\n",
      "  _np_qint8 = np.dtype([(\"qint8\", np.int8, 1)])\n",
      "/usr/local/lib/python3.6/dist-packages/tensorboard/compat/tensorflow_stub/dtypes.py:542: FutureWarning: Passing (type, 1) or '1type' as a synonym of type is deprecated; in a future version of numpy, it will be understood as (type, (1,)) / '(1,)type'.\n",
      "  _np_quint8 = np.dtype([(\"quint8\", np.uint8, 1)])\n",
      "/usr/local/lib/python3.6/dist-packages/tensorboard/compat/tensorflow_stub/dtypes.py:543: FutureWarning: Passing (type, 1) or '1type' as a synonym of type is deprecated; in a future version of numpy, it will be understood as (type, (1,)) / '(1,)type'.\n",
      "  _np_qint16 = np.dtype([(\"qint16\", np.int16, 1)])\n",
      "/usr/local/lib/python3.6/dist-packages/tensorboard/compat/tensorflow_stub/dtypes.py:544: FutureWarning: Passing (type, 1) or '1type' as a synonym of type is deprecated; in a future version of numpy, it will be understood as (type, (1,)) / '(1,)type'.\n",
      "  _np_quint16 = np.dtype([(\"quint16\", np.uint16, 1)])\n",
      "/usr/local/lib/python3.6/dist-packages/tensorboard/compat/tensorflow_stub/dtypes.py:545: FutureWarning: Passing (type, 1) or '1type' as a synonym of type is deprecated; in a future version of numpy, it will be understood as (type, (1,)) / '(1,)type'.\n",
      "  _np_qint32 = np.dtype([(\"qint32\", np.int32, 1)])\n",
      "/usr/local/lib/python3.6/dist-packages/tensorboard/compat/tensorflow_stub/dtypes.py:550: FutureWarning: Passing (type, 1) or '1type' as a synonym of type is deprecated; in a future version of numpy, it will be understood as (type, (1,)) / '(1,)type'.\n",
      "  np_resource = np.dtype([(\"resource\", np.ubyte, 1)])\n"
     ]
    }
   ],
   "source": [
    "# We start by importing the python libraries required to solve the problems\n",
    "\n",
    "%matplotlib inline\n",
    "import matplotlib\n",
    "import matplotlib.pyplot as plt\n",
    "import matplotlib.patches as mpatches\n",
    "import numpy as np\n",
    "import scipy as sp\n",
    "import pandas as pd\n",
    "import seaborn as sns\n",
    "\n",
    "# From sklearn we will use the implementations of the Multi-layer perceptron, and the Boltzmann Machines\n",
    "from sklearn import cluster\n",
    "#from sklearn.datasets import fetch_mldata\n",
    "from sklearn.datasets import fetch_openml\n",
    "from sklearn.neural_network import MLPClassifier\n",
    "from sklearn.preprocessing import binarize\n",
    "from sklearn.neural_network import BernoulliRBM\n",
    "from tensorflow.keras.datasets import mnist, fashion_mnist\n",
    "\n",
    "\n",
    "# We will also use different metrics\n",
    "from sklearn.model_selection import cross_val_score\n",
    "from sklearn.model_selection import cross_val_predict\n",
    "from sklearn.metrics import recall_score\n",
    "from sklearn import metrics\n",
    "from sklearn.preprocessing import OneHotEncoder\n",
    "\n",
    "from IPython.display import display\n",
    "from IPython.display import Image\n",
    "\n",
    "import tensorflow as tf"
   ]
  },
  {
   "cell_type": "markdown",
   "metadata": {},
   "source": [
    "We are retaking the example of the last lab to understand why we need to put multiple (activated) layers of weights on top of each other to perform certain tasks. We firstly define the liear model that we had in the last exercise of the last lab:"
   ]
  },
  {
   "cell_type": "code",
   "execution_count": 2,
   "metadata": {},
   "outputs": [],
   "source": [
    "def linear_model(data):\n",
    "    tf.reset_default_graph()\n",
    "    \n",
    "    # Two variables (x1 and x2), and one prediction (class)\n",
    "    x1 = tf.placeholder(\"float\", name=\"x1\")\n",
    "    x2 = tf.placeholder(\"float\", name=\"x2\")\n",
    "    y = tf.placeholder(\"float\", name=\"y\")\n",
    "    \n",
    "    # One weight per variable and a final bias\n",
    "    w1 = tf.Variable(0.0, name=\"weight1\")\n",
    "    w2 = tf.Variable(0.0, name=\"weight2\")\n",
    "    b = tf.Variable(0.0, name=\"bias\")\n",
    "\n",
    "    # Linear model\n",
    "    predicted = tf.add(tf.add(tf.multiply(x1, w1), tf.multiply(x2, w2)), b)\n",
    "\n",
    "    # Loss function\n",
    "    loss = tf.nn.sigmoid_cross_entropy_with_logits(labels=y, logits=predicted, name=\"loss\")\n",
    "\n",
    "    # Optimizer & initialization\n",
    "    optimizer = tf.train.AdamOptimizer(learning_rate=.001).minimize(loss)\n",
    "    init = tf.global_variables_initializer()\n",
    "\n",
    "    # Number of iterations for the learning algorithm\n",
    "    training_epochs = 20000\n",
    "    train_n_samples = data.shape[0]\n",
    "    display_step = 4000\n",
    "\n",
    "    mini_batch_size = 100\n",
    "    n_batch = train_n_samples // mini_batch_size + (train_n_samples % mini_batch_size != 0)\n",
    "    \n",
    "    for i in range(data.shape[0]):\n",
    "        plt.plot(data[i,0], data[i,1],'o', c=cmap[np.int(data[i,2])])\n",
    "    with tf.Session() as sess:\n",
    "        sess.run(init)\n",
    "        for epoch in range(training_epochs):\n",
    "            i_batch = (epoch % n_batch)*mini_batch_size\n",
    "            batch = data[i_batch:i_batch+mini_batch_size, 0], data[i_batch:i_batch+mini_batch_size, 1], data[i_batch:i_batch+mini_batch_size, 2]\n",
    "            sess.run(optimizer, feed_dict={x1: batch[0], x2: batch[1], y: batch[2]})\n",
    "            if (epoch+1) % display_step == 0:\n",
    "                malda, c = -sess.run(w1)/sess.run(w2), -sess.run(b)/sess.run(w2)\n",
    "                plt.plot([0, 4], [c,c+malda*4], label=\"Epoch \" + str(epoch+1))\n",
    "                cost = sess.run(loss, feed_dict={x1: data[:, 0], x2: data[:, 1], y: data[:, 2]})\n",
    "                print(\"Epoch:\", str(epoch+1), \"Error:\", np.mean(cost))\n",
    "        linear_params = [sess.run(w1), sess.run(w2), sess.run(b)]\n",
    "    plt.legend()\n",
    "    return linear_params"
   ]
  },
  {
   "cell_type": "markdown",
   "metadata": {},
   "source": [
    "We reconstruct the DB of four clusters of points."
   ]
  },
  {
   "cell_type": "code",
   "execution_count": 3,
   "metadata": {
    "scrolled": true
   },
   "outputs": [
    {
     "data": {
      "text/plain": [
       "<matplotlib.legend.Legend at 0x7f88bde114a8>"
      ]
     },
     "execution_count": 3,
     "metadata": {},
     "output_type": "execute_result"
    },
    {
     "data": {
      "image/png": "[encoded data removed]",
      "text/plain": [
       "<Figure size 432x288 with 1 Axes>"
      ]
     },
     "metadata": {
      "needs_background": "light"
     },
     "output_type": "display_data"
    }
   ],
   "source": [
    "dlen = 200\n",
    "\n",
    "# C1, C2, C3, and C4 contain points that when interpreted as coordinates in a 2-D grid\n",
    "# correspond with very different areas in the\n",
    "\n",
    "c1 = np.random.rand(dlen,2)\n",
    "c1[:, 1] = c1[:, 0] + .42*np.random.rand(dlen)\n",
    "\n",
    "c2 = np.random.rand(dlen,2)+1\n",
    "c2[:, 1] = -c2[:, 0] + .62*np.random.rand(dlen)\n",
    "\n",
    "c3 = np.random.rand(dlen,2)+2\n",
    "c3[:, 1] = 0.5*c3[:, 0] + np.random.rand(dlen)\n",
    "\n",
    "c4 = np.random.rand(dlen,2)+3.5\n",
    "c4[:, 1] = -0.1*c4[:, 0] + 0.5*np.random.rand(dlen)\n",
    "\n",
    "\n",
    "data = np.concatenate((c1, c2, c3, c4))  # We put all four clusters of points together\n",
    "\n",
    "classes = np.array([0]*200+[1]*200+[2]*200+[3]*200).reshape((-1,1))\n",
    "data_class = np.concatenate((data,classes), axis=1)  # We add the classes\n",
    "cmap = [\"y\", \"c\", \"r\", \"m\"]\n",
    "fig = plt.figure()\n",
    "for c in np.unique(data_class[:, -1]).astype(\"int\"):\n",
    "    plt.plot(data_class[data_class[:, -1]==c,0], data_class[data_class[:, -1]==c,1], \"o\", label=\"Class \" + str(c), c=cmap[c])\n",
    "plt.xlabel(\"x1\")\n",
    "plt.ylabel(\"x2\")\n",
    "plt.legend(title=\"Classes\")\n"
   ]
  },
  {
   "cell_type": "markdown",
   "metadata": {},
   "source": [
    "As you can see in this visualization (and we saw the other day), there is no way to separate the classes using a single line. However, two lines do:"
   ]
  },
  {
   "cell_type": "code",
   "execution_count": 4,
   "metadata": {},
   "outputs": [
    {
     "data": {
      "text/plain": [
       "<matplotlib.legend.Legend at 0x7f88bdcfd4a8>"
      ]
     },
     "execution_count": 4,
     "metadata": {},
     "output_type": "execute_result"
    },
    {
     "data": {
      "image/png": "[encoded data removed]",
      "text/plain": [
       "<Figure size 432x288 with 1 Axes>"
      ]
     },
     "metadata": {
      "needs_background": "light"
     },
     "output_type": "display_data"
    }
   ],
   "source": [
    "plt.plot([0, 4], [3.5,-3], label=\"Model 1\")\n",
    "plt.plot([0, 4], [-0.5,1], label=\"Model 2\")\n",
    "for c in np.unique(data_class[:, -1]).astype(\"int\"):\n",
    "    plt.plot(data_class[data_class[:, -1]==c,0], data_class[data_class[:, -1]==c,1], \"o\", label=\"Class \" + str(c), c=cmap[c])\n",
    "plt.legend()\n"
   ]
  },
  {
   "cell_type": "markdown",
   "metadata": {},
   "source": [
    "To obtain these two lines, we need to do two adequate questions. To obtain the parameters of a model that is able to separate the data as the blue lines does, we can try to solve the following problem:"
   ]
  },
  {
   "cell_type": "code",
   "execution_count": 5,
   "metadata": {},
   "outputs": [],
   "source": [
    "binary_classes1 = np.array([0]*400+[1]*400).reshape((-1,1))\n",
    "data_binary1 = np.concatenate((data,binary_classes1), axis=1)"
   ]
  },
  {
   "cell_type": "code",
   "execution_count": 6,
   "metadata": {},
   "outputs": [
    {
     "data": {
      "text/plain": [
       "<matplotlib.legend.Legend at 0x7f88bdcdcb00>"
      ]
     },
     "execution_count": 6,
     "metadata": {},
     "output_type": "execute_result"
    },
    {
     "data": {
      "image/png": "[encoded data removed]",
      "text/plain": [
       "<Figure size 432x288 with 1 Axes>"
      ]
     },
     "metadata": {
      "needs_background": "light"
     },
     "output_type": "display_data"
    }
   ],
   "source": [
    "for c in np.unique(data_binary1[:, -1]).astype(\"int\"):\n",
    "    plt.plot(data_binary1[data_binary1[:, -1]==c,0], data_binary1[data_binary1[:, -1]==c,1], \"o\", label=\"Class \" + str(c), c=cmap[c])\n",
    "plt.legend()"
   ]
  },
  {
   "cell_type": "code",
   "execution_count": 7,
   "metadata": {},
   "outputs": [
    {
     "name": "stdout",
     "output_type": "stream",
     "text": [
      "WARNING:tensorflow:From /usr/local/lib/python3.6/dist-packages/tensorflow/python/ops/nn_impl.py:180: add_dispatch_support.<locals>.wrapper (from tensorflow.python.ops.array_ops) is deprecated and will be removed in a future version.\n",
      "Instructions for updating:\n",
      "Use tf.where in 2.0, which has the same broadcast rule as np.where\n",
      "Epoch: 4000 Error: 0.30417073\n",
      "Epoch: 8000 Error: 0.16492754\n",
      "Epoch: 12000 Error: 0.093698576\n",
      "Epoch: 16000 Error: 0.056189038\n",
      "Epoch: 20000 Error: 0.03555459\n",
      "Model parameters: [2.7632453, 1.7281953, -5.9104543]\n"
     ]
    },
    {
     "data": {
      "image/png": "[encoded data removed]",
      "text/plain": [
       "<Figure size 432x288 with 1 Axes>"
      ]
     },
     "metadata": {
      "needs_background": "light"
     },
     "output_type": "display_data"
    }
   ],
   "source": [
    "params1 = linear_model(data_binary1)\n",
    "print(\"Model parameters:\", params1)"
   ]
  },
  {
   "cell_type": "markdown",
   "metadata": {},
   "source": [
    "Next, we can define the complementary problem:"
   ]
  },
  {
   "cell_type": "code",
   "execution_count": 8,
   "metadata": {},
   "outputs": [],
   "source": [
    "binary_classes2 = np.array([0]*200+[1]*200+[0]*200+[1]*200).reshape((-1,1))\n",
    "data_binary2 = np.concatenate((data,binary_classes2), axis=1)"
   ]
  },
  {
   "cell_type": "code",
   "execution_count": 9,
   "metadata": {},
   "outputs": [
    {
     "data": {
      "text/plain": [
       "<matplotlib.legend.Legend at 0x7f88bdcd7c18>"
      ]
     },
     "execution_count": 9,
     "metadata": {},
     "output_type": "execute_result"
    },
    {
     "data": {
      "image/png": "[encoded data removed]",
      "text/plain": [
       "<Figure size 432x288 with 1 Axes>"
      ]
     },
     "metadata": {
      "needs_background": "light"
     },
     "output_type": "display_data"
    }
   ],
   "source": [
    "for c in np.unique(data_binary2[:, -1]).astype(\"int\"):\n",
    "    plt.plot(data_binary2[data_binary2[:, -1]==c,0], data_binary2[data_binary2[:, -1]==c,1], \"o\", label=\"Class \" + str(c), c=cmap[c])\n",
    "plt.legend()"
   ]
  },
  {
   "cell_type": "code",
   "execution_count": 10,
   "metadata": {},
   "outputs": [
    {
     "name": "stdout",
     "output_type": "stream",
     "text": [
      "Epoch: 4000 Error: 0.10391626\n",
      "Epoch: 8000 Error: 0.027286472\n",
      "Epoch: 12000 Error: 0.007908997\n",
      "Epoch: 16000 Error: 0.0024304893\n",
      "Epoch: 20000 Error: 0.0007868733\n",
      "Model parameters: [3.2047644, -9.503693, -3.2438478]\n"
     ]
    },
    {
     "data": {
      "image/png": "[encoded data removed]",
      "text/plain": [
       "<Figure size 432x288 with 1 Axes>"
      ]
     },
     "metadata": {
      "needs_background": "light"
     },
     "output_type": "display_data"
    }
   ],
   "source": [
    "params2 = linear_model(data_binary2)\n",
    "print(\"Model parameters:\", params2)"
   ]
  },
  {
   "cell_type": "markdown",
   "metadata": {},
   "source": [
    "Now, if we draw both lines at the same time"
   ]
  },
  {
   "cell_type": "code",
   "execution_count": 11,
   "metadata": {},
   "outputs": [
    {
     "data": {
      "text/plain": [
       "<matplotlib.legend.Legend at 0x7f88bce0f828>"
      ]
     },
     "execution_count": 11,
     "metadata": {},
     "output_type": "execute_result"
    },
    {
     "data": {
      "image/png": "[encoded data removed]",
      "text/plain": [
       "<Figure size 432x288 with 1 Axes>"
      ]
     },
     "metadata": {
      "needs_background": "light"
     },
     "output_type": "display_data"
    }
   ],
   "source": [
    "for c in np.unique(data_class[:, -1]).astype(\"int\"):\n",
    "    plt.plot(data_class[data_class[:, -1]==c,0], data_class[data_class[:, -1]==c,1], \"o\", label=\"Class \" + str(c), c=cmap[c])\n",
    "plt.plot([0, 4], [-params1[2]/params1[1],-params1[2]/params1[1]-params1[0]/params1[1]*4], label=\"Model learned for binary classification 1\")\n",
    "plt.plot([0, 4], [-params2[2]/params2[1],-params2[2]/params2[1]-params2[0]/params2[1]*4], label=\"Model learned for binary classification 2\")\n",
    "\n",
    "plt.legend()"
   ]
  },
  {
   "cell_type": "markdown",
   "metadata": {},
   "source": [
    "Now we can define a function like this one:"
   ]
  },
  {
   "cell_type": "code",
   "execution_count": 12,
   "metadata": {},
   "outputs": [],
   "source": [
    "def four_class_decision(example, model1_params, model2_params):\n",
    "    prediction1 = model1_params[0]*example[0] + model1_params[1]*example[1] + model1_params[2]\n",
    "    prediction2 = model2_params[0]*example[0] + model2_params[1]*example[1] + model2_params[2]\n",
    "    prediction = int(prediction1>0) * 2 + int(prediction2>0)\n",
    "    return prediction"
   ]
  },
  {
   "cell_type": "markdown",
   "metadata": {},
   "source": [
    "And we observe that the predictions are accurate."
   ]
  },
  {
   "cell_type": "code",
   "execution_count": 13,
   "metadata": {},
   "outputs": [],
   "source": [
    "prediction = [four_class_decision(example, params1, params2) for example in data_class[:, :2]]"
   ]
  },
  {
   "cell_type": "code",
   "execution_count": 14,
   "metadata": {},
   "outputs": [
    {
     "name": "stdout",
     "output_type": "stream",
     "text": [
      "[0, 0, 0, 0, 0, 0, 0, 0, 0, 0, 0, 0, 0, 0, 0, 0, 0, 0, 0, 0, 0, 0, 0, 0, 0, 0, 0, 0, 0, 0, 0, 0, 0, 0, 0, 0, 0, 0, 0, 0, 0, 0, 0, 0, 0, 0, 0, 0, 0, 0, 0, 0, 0, 0, 0, 0, 0, 0, 0, 0, 0, 0, 0, 0, 0, 0, 0, 0, 0, 0, 0, 0, 0, 0, 0, 0, 0, 0, 0, 0, 0, 0, 0, 0, 0, 0, 0, 0, 0, 0, 0, 0, 0, 0, 0, 0, 0, 0, 0, 0, 0, 0, 0, 0, 0, 0, 0, 0, 0, 0, 0, 0, 0, 0, 0, 0, 0, 0, 0, 0, 0, 0, 0, 0, 0, 0, 0, 0, 0, 0, 0, 0, 0, 0, 0, 0, 0, 0, 0, 0, 0, 0, 0, 0, 0, 0, 0, 0, 0, 0, 0, 0, 0, 0, 0, 0, 0, 0, 0, 0, 0, 0, 0, 0, 0, 0, 0, 0, 0, 0, 0, 0, 0, 0, 0, 0, 0, 0, 0, 0, 0, 0, 0, 0, 0, 0, 0, 0, 0, 0, 0, 0, 0, 0, 0, 0, 0, 0, 0, 0, 1, 1, 1, 1, 1, 1, 1, 1, 1, 1, 1, 1, 1, 1, 1, 1, 1, 1, 1, 1, 1, 1, 1, 1, 1, 1, 1, 1, 1, 1, 1, 1, 1, 1, 1, 1, 1, 1, 1, 1, 1, 1, 1, 1, 1, 1, 1, 1, 1, 1, 1, 1, 1, 1, 1, 1, 1, 1, 1, 1, 1, 1, 1, 1, 1, 1, 1, 1, 1, 1, 1, 1, 1, 1, 1, 1, 1, 1, 1, 1, 1, 1, 1, 1, 1, 1, 1, 1, 1, 1, 1, 1, 1, 1, 1, 1, 1, 1, 1, 1, 1, 1, 1, 1, 1, 1, 1, 1, 1, 1, 1, 1, 1, 1, 1, 1, 1, 1, 1, 1, 1, 1, 1, 1, 1, 1, 1, 1, 1, 1, 1, 1, 1, 1, 1, 1, 1, 1, 1, 1, 1, 1, 1, 1, 1, 1, 1, 1, 1, 1, 1, 1, 1, 1, 1, 1, 1, 1, 1, 1, 1, 1, 1, 1, 1, 1, 1, 1, 1, 1, 1, 1, 1, 1, 1, 1, 1, 1, 1, 1, 1, 1, 1, 1, 1, 1, 1, 1, 1, 1, 1, 1, 1, 1, 1, 1, 1, 1, 1, 1, 2, 2, 2, 2, 2, 2, 2, 2, 2, 2, 2, 2, 2, 2, 2, 2, 2, 2, 2, 2, 2, 2, 2, 2, 2, 2, 2, 2, 2, 2, 2, 2, 2, 2, 2, 2, 2, 2, 2, 2, 2, 2, 2, 2, 2, 2, 2, 2, 2, 2, 2, 2, 2, 2, 2, 2, 2, 2, 2, 2, 2, 2, 2, 2, 2, 2, 2, 2, 2, 2, 2, 2, 2, 2, 2, 2, 2, 2, 2, 2, 2, 2, 2, 2, 2, 2, 2, 2, 2, 2, 2, 2, 2, 2, 2, 2, 2, 2, 2, 2, 2, 2, 2, 2, 2, 2, 2, 2, 2, 2, 2, 2, 2, 2, 2, 2, 2, 2, 2, 2, 2, 2, 2, 2, 2, 2, 2, 2, 2, 2, 2, 2, 2, 2, 2, 2, 2, 2, 2, 2, 2, 2, 2, 2, 2, 2, 2, 2, 2, 2, 2, 2, 2, 2, 2, 2, 2, 2, 2, 2, 2, 2, 2, 2, 2, 2, 2, 2, 2, 2, 2, 2, 2, 2, 2, 2, 2, 2, 2, 2, 2, 2, 2, 2, 2, 2, 2, 2, 2, 2, 2, 2, 2, 2, 2, 2, 2, 2, 2, 2, 3, 3, 3, 3, 3, 3, 3, 3, 3, 3, 3, 3, 3, 3, 3, 3, 3, 3, 3, 3, 3, 3, 3, 3, 3, 3, 3, 3, 3, 3, 3, 3, 3, 3, 3, 3, 3, 3, 3, 3, 3, 3, 3, 3, 3, 3, 3, 3, 3, 3, 3, 3, 3, 3, 3, 3, 3, 3, 3, 3, 3, 3, 3, 3, 3, 3, 3, 3, 3, 3, 3, 3, 3, 3, 3, 3, 3, 3, 3, 3, 3, 3, 3, 3, 3, 3, 3, 3, 3, 3, 3, 3, 3, 3, 3, 3, 3, 3, 3, 3, 3, 3, 3, 3, 3, 3, 3, 3, 3, 3, 3, 3, 3, 3, 3, 3, 3, 3, 3, 3, 3, 3, 3, 3, 3, 3, 3, 3, 3, 3, 3, 3, 3, 3, 3, 3, 3, 3, 3, 3, 3, 3, 3, 3, 3, 3, 3, 3, 3, 3, 3, 3, 3, 3, 3, 3, 3, 3, 3, 3, 3, 3, 3, 3, 3, 3, 3, 3, 3, 3, 3, 3, 3, 3, 3, 3, 3, 3, 3, 3, 3, 3, 3, 3, 3, 3, 3, 3, 3, 3, 3, 3, 3, 3, 3, 3, 3, 3, 3, 3]\n"
     ]
    }
   ],
   "source": [
    "print(prediction)"
   ]
  },
  {
   "cell_type": "code",
   "execution_count": 15,
   "metadata": {},
   "outputs": [
    {
     "data": {
      "text/plain": [
       "True"
      ]
     },
     "execution_count": 15,
     "metadata": {},
     "output_type": "execute_result"
    }
   ],
   "source": [
    "(prediction == data_class[:, 2]).all()"
   ]
  },
  {
   "cell_type": "markdown",
   "metadata": {},
   "source": [
    "Because the function is critical to the correct prediction of the classes, it can be said that it is part of the model.\n",
    "\n",
    "Now that we know that two linear models can correctly classify the dataset, we can define a model that comprises all the operations, and this way we do not have to define two complementary problems (with two separate loss functions) as support for the general model."
   ]
  },
  {
   "cell_type": "code",
   "execution_count": 16,
   "metadata": {},
   "outputs": [],
   "source": [
    "def double_linear_model(data):\n",
    "    tf.reset_default_graph()\n",
    "\n",
    "    x1 = tf.placeholder(\"float\", name=\"x1\")\n",
    "    x2 = tf.placeholder(\"float\", name=\"x2\")\n",
    "    y = tf.placeholder(\"float\", name=\"y\")\n",
    "\n",
    "    w11 = tf.Variable(0.0, name=\"weight1_model1\")\n",
    "    w21 = tf.Variable(0.0, name=\"weight2_model1\")\n",
    "    b1 = tf.Variable(0.0, name=\"bias_model1\")\n",
    "    \n",
    "    w12 = tf.Variable(0.0, name=\"weight1_model2\")\n",
    "    w22 = tf.Variable(0.0, name=\"weight2_model2\")\n",
    "    b2 = tf.Variable(0.0, name=\"bias_model2\")\n",
    "\n",
    "    model1 = tf.sigmoid(tf.add(tf.add(tf.multiply(x1, w11), tf.multiply(x2, w21)), b1))\n",
    "    model2 = tf.sigmoid(tf.add(tf.add(tf.multiply(x1, w12), tf.multiply(x2, w22)), b2))\n",
    "    \n",
    "    combined = tf.multiply(model1, 2.) + model2\n",
    "\n",
    "    loss = tf.losses.mean_squared_error(y, combined)\n",
    "\n",
    "    optimizer = tf.train.AdamOptimizer(learning_rate=.001).minimize(loss)\n",
    "\n",
    "    init = tf.global_variables_initializer()\n",
    "\n",
    "    training_epochs = 40000\n",
    "    train_n_samples = data.shape[0]\n",
    "    display_step = 10000\n",
    "\n",
    "    mini_batch_size = 100\n",
    "    n_batch = train_n_samples // mini_batch_size + (train_n_samples % mini_batch_size != 0)\n",
    "    \n",
    "    for i in range(data.shape[0]):\n",
    "        plt.plot(data[i,0], data[i,1],'o', c=cmap[np.int(data[i,2])])\n",
    "    with tf.Session() as sess:\n",
    "        sess.run(init)\n",
    "        for epoch in range(training_epochs):\n",
    "            i_batch = (epoch % n_batch)*mini_batch_size\n",
    "            batch = data[i_batch:i_batch+mini_batch_size, 0], data[i_batch:i_batch+mini_batch_size, 1], data[i_batch:i_batch+mini_batch_size, 2]\n",
    "            sess.run(optimizer, feed_dict={x1: batch[0], x2: batch[1], y: batch[2]})\n",
    "            if (epoch+1) % display_step == 0:\n",
    "                malda1, c1 = -sess.run(w11)/sess.run(w21), -sess.run(b1)/sess.run(w21)\n",
    "                malda2, c2 = -sess.run(w12)/sess.run(w22), -sess.run(b2)/sess.run(w22)\n",
    "                plt.plot([0, 4], [c1,c1+malda1*4], label=\"Model1, Epoch \" + str(epoch+1))\n",
    "                plt.plot([0, 4], [c2,c2+malda2*4], label=\"Model2, Epoch \" + str(epoch+1))\n",
    "                cost = sess.run(loss, feed_dict={x1: data[:, 0], x2: data[:, 1], y: data[:, 2]})\n",
    "                print(\"Epoch:\", str(epoch+1), \"Error:\", np.mean(cost))\n",
    "        params = [sess.run(w11), sess.run(w21), sess.run(b1), sess.run(w12), sess.run(w22), sess.run(b2)]\n",
    "    plt.legend()\n",
    "    plt.ylim((-3.2,3.2))\n",
    "    plt.xlim((-0.2,4.2))\n",
    "    return params"
   ]
  },
  {
   "cell_type": "code",
   "execution_count": 17,
   "metadata": {},
   "outputs": [
    {
     "name": "stdout",
     "output_type": "stream",
     "text": [
      "Epoch: 10000 Error: 0.09227024\n",
      "Epoch: 20000 Error: 0.07457228\n",
      "Epoch: 30000 Error: 0.06594573\n"
     ]
    },
    {
     "ename": "KeyboardInterrupt",
     "evalue": "",
     "output_type": "error",
     "traceback": [
      "\u001b[0;31m---------------------------------------------------------------------------\u001b[0m",
      "\u001b[0;31mKeyboardInterrupt\u001b[0m                         Traceback (most recent call last)",
      "\u001b[0;32m<ipython-input-17-2b1f8f34adc6>\u001b[0m in \u001b[0;36m<module>\u001b[0;34m\u001b[0m\n\u001b[0;32m----> 1\u001b[0;31m \u001b[0mparams\u001b[0m \u001b[0;34m=\u001b[0m \u001b[0mdouble_linear_model\u001b[0m\u001b[0;34m(\u001b[0m\u001b[0mdata_class\u001b[0m\u001b[0;34m)\u001b[0m\u001b[0;34m\u001b[0m\u001b[0;34m\u001b[0m\u001b[0m\n\u001b[0m",
      "\u001b[0;32m<ipython-input-16-156c34100dd3>\u001b[0m in \u001b[0;36mdouble_linear_model\u001b[0;34m(data)\u001b[0m\n\u001b[1;32m     39\u001b[0m             \u001b[0mi_batch\u001b[0m \u001b[0;34m=\u001b[0m \u001b[0;34m(\u001b[0m\u001b[0mepoch\u001b[0m \u001b[0;34m%\u001b[0m \u001b[0mn_batch\u001b[0m\u001b[0;34m)\u001b[0m\u001b[0;34m*\u001b[0m\u001b[0mmini_batch_size\u001b[0m\u001b[0;34m\u001b[0m\u001b[0;34m\u001b[0m\u001b[0m\n\u001b[1;32m     40\u001b[0m             \u001b[0mbatch\u001b[0m \u001b[0;34m=\u001b[0m \u001b[0mdata\u001b[0m\u001b[0;34m[\u001b[0m\u001b[0mi_batch\u001b[0m\u001b[0;34m:\u001b[0m\u001b[0mi_batch\u001b[0m\u001b[0;34m+\u001b[0m\u001b[0mmini_batch_size\u001b[0m\u001b[0;34m,\u001b[0m \u001b[0;36m0\u001b[0m\u001b[0;34m]\u001b[0m\u001b[0;34m,\u001b[0m \u001b[0mdata\u001b[0m\u001b[0;34m[\u001b[0m\u001b[0mi_batch\u001b[0m\u001b[0;34m:\u001b[0m\u001b[0mi_batch\u001b[0m\u001b[0;34m+\u001b[0m\u001b[0mmini_batch_size\u001b[0m\u001b[0;34m,\u001b[0m \u001b[0;36m1\u001b[0m\u001b[0;34m]\u001b[0m\u001b[0;34m,\u001b[0m \u001b[0mdata\u001b[0m\u001b[0;34m[\u001b[0m\u001b[0mi_batch\u001b[0m\u001b[0;34m:\u001b[0m\u001b[0mi_batch\u001b[0m\u001b[0;34m+\u001b[0m\u001b[0mmini_batch_size\u001b[0m\u001b[0;34m,\u001b[0m \u001b[0;36m2\u001b[0m\u001b[0;34m]\u001b[0m\u001b[0;34m\u001b[0m\u001b[0;34m\u001b[0m\u001b[0m\n\u001b[0;32m---> 41\u001b[0;31m             \u001b[0msess\u001b[0m\u001b[0;34m.\u001b[0m\u001b[0mrun\u001b[0m\u001b[0;34m(\u001b[0m\u001b[0moptimizer\u001b[0m\u001b[0;34m,\u001b[0m \u001b[0mfeed_dict\u001b[0m\u001b[0;34m=\u001b[0m\u001b[0;34m{\u001b[0m\u001b[0mx1\u001b[0m\u001b[0;34m:\u001b[0m \u001b[0mbatch\u001b[0m\u001b[0;34m[\u001b[0m\u001b[0;36m0\u001b[0m\u001b[0;34m]\u001b[0m\u001b[0;34m,\u001b[0m \u001b[0mx2\u001b[0m\u001b[0;34m:\u001b[0m \u001b[0mbatch\u001b[0m\u001b[0;34m[\u001b[0m\u001b[0;36m1\u001b[0m\u001b[0;34m]\u001b[0m\u001b[0;34m,\u001b[0m \u001b[0my\u001b[0m\u001b[0;34m:\u001b[0m \u001b[0mbatch\u001b[0m\u001b[0;34m[\u001b[0m\u001b[0;36m2\u001b[0m\u001b[0;34m]\u001b[0m\u001b[0;34m}\u001b[0m\u001b[0;34m)\u001b[0m\u001b[0;34m\u001b[0m\u001b[0;34m\u001b[0m\u001b[0m\n\u001b[0m\u001b[1;32m     42\u001b[0m             \u001b[0;32mif\u001b[0m \u001b[0;34m(\u001b[0m\u001b[0mepoch\u001b[0m\u001b[0;34m+\u001b[0m\u001b[0;36m1\u001b[0m\u001b[0;34m)\u001b[0m \u001b[0;34m%\u001b[0m \u001b[0mdisplay_step\u001b[0m \u001b[0;34m==\u001b[0m \u001b[0;36m0\u001b[0m\u001b[0;34m:\u001b[0m\u001b[0;34m\u001b[0m\u001b[0;34m\u001b[0m\u001b[0m\n\u001b[1;32m     43\u001b[0m                 \u001b[0mmalda1\u001b[0m\u001b[0;34m,\u001b[0m \u001b[0mc1\u001b[0m \u001b[0;34m=\u001b[0m \u001b[0;34m-\u001b[0m\u001b[0msess\u001b[0m\u001b[0;34m.\u001b[0m\u001b[0mrun\u001b[0m\u001b[0;34m(\u001b[0m\u001b[0mw11\u001b[0m\u001b[0;34m)\u001b[0m\u001b[0;34m/\u001b[0m\u001b[0msess\u001b[0m\u001b[0;34m.\u001b[0m\u001b[0mrun\u001b[0m\u001b[0;34m(\u001b[0m\u001b[0mw21\u001b[0m\u001b[0;34m)\u001b[0m\u001b[0;34m,\u001b[0m \u001b[0;34m-\u001b[0m\u001b[0msess\u001b[0m\u001b[0;34m.\u001b[0m\u001b[0mrun\u001b[0m\u001b[0;34m(\u001b[0m\u001b[0mb1\u001b[0m\u001b[0;34m)\u001b[0m\u001b[0;34m/\u001b[0m\u001b[0msess\u001b[0m\u001b[0;34m.\u001b[0m\u001b[0mrun\u001b[0m\u001b[0;34m(\u001b[0m\u001b[0mw21\u001b[0m\u001b[0;34m)\u001b[0m\u001b[0;34m\u001b[0m\u001b[0;34m\u001b[0m\u001b[0m\n",
      "\u001b[0;32m/usr/local/lib/python3.6/dist-packages/tensorflow/python/client/session.py\u001b[0m in \u001b[0;36mrun\u001b[0;34m(self, fetches, feed_dict, options, run_metadata)\u001b[0m\n\u001b[1;32m    948\u001b[0m     \u001b[0;32mtry\u001b[0m\u001b[0;34m:\u001b[0m\u001b[0;34m\u001b[0m\u001b[0;34m\u001b[0m\u001b[0m\n\u001b[1;32m    949\u001b[0m       result = self._run(None, fetches, feed_dict, options_ptr,\n\u001b[0;32m--> 950\u001b[0;31m                          run_metadata_ptr)\n\u001b[0m\u001b[1;32m    951\u001b[0m       \u001b[0;32mif\u001b[0m \u001b[0mrun_metadata\u001b[0m\u001b[0;34m:\u001b[0m\u001b[0;34m\u001b[0m\u001b[0;34m\u001b[0m\u001b[0m\n\u001b[1;32m    952\u001b[0m         \u001b[0mproto_data\u001b[0m \u001b[0;34m=\u001b[0m \u001b[0mtf_session\u001b[0m\u001b[0;34m.\u001b[0m\u001b[0mTF_GetBuffer\u001b[0m\u001b[0;34m(\u001b[0m\u001b[0mrun_metadata_ptr\u001b[0m\u001b[0;34m)\u001b[0m\u001b[0;34m\u001b[0m\u001b[0;34m\u001b[0m\u001b[0m\n",
      "\u001b[0;32m/usr/local/lib/python3.6/dist-packages/tensorflow/python/client/session.py\u001b[0m in \u001b[0;36m_run\u001b[0;34m(self, handle, fetches, feed_dict, options, run_metadata)\u001b[0m\n\u001b[1;32m   1171\u001b[0m     \u001b[0;32mif\u001b[0m \u001b[0mfinal_fetches\u001b[0m \u001b[0;32mor\u001b[0m \u001b[0mfinal_targets\u001b[0m \u001b[0;32mor\u001b[0m \u001b[0;34m(\u001b[0m\u001b[0mhandle\u001b[0m \u001b[0;32mand\u001b[0m \u001b[0mfeed_dict_tensor\u001b[0m\u001b[0;34m)\u001b[0m\u001b[0;34m:\u001b[0m\u001b[0;34m\u001b[0m\u001b[0;34m\u001b[0m\u001b[0m\n\u001b[1;32m   1172\u001b[0m       results = self._do_run(handle, final_targets, final_fetches,\n\u001b[0;32m-> 1173\u001b[0;31m                              feed_dict_tensor, options, run_metadata)\n\u001b[0m\u001b[1;32m   1174\u001b[0m     \u001b[0;32melse\u001b[0m\u001b[0;34m:\u001b[0m\u001b[0;34m\u001b[0m\u001b[0;34m\u001b[0m\u001b[0m\n\u001b[1;32m   1175\u001b[0m       \u001b[0mresults\u001b[0m \u001b[0;34m=\u001b[0m \u001b[0;34m[\u001b[0m\u001b[0;34m]\u001b[0m\u001b[0;34m\u001b[0m\u001b[0;34m\u001b[0m\u001b[0m\n",
      "\u001b[0;32m/usr/local/lib/python3.6/dist-packages/tensorflow/python/client/session.py\u001b[0m in \u001b[0;36m_do_run\u001b[0;34m(self, handle, target_list, fetch_list, feed_dict, options, run_metadata)\u001b[0m\n\u001b[1;32m   1348\u001b[0m     \u001b[0;32mif\u001b[0m \u001b[0mhandle\u001b[0m \u001b[0;32mis\u001b[0m \u001b[0;32mNone\u001b[0m\u001b[0;34m:\u001b[0m\u001b[0;34m\u001b[0m\u001b[0;34m\u001b[0m\u001b[0m\n\u001b[1;32m   1349\u001b[0m       return self._do_call(_run_fn, feeds, fetches, targets, options,\n\u001b[0;32m-> 1350\u001b[0;31m                            run_metadata)\n\u001b[0m\u001b[1;32m   1351\u001b[0m     \u001b[0;32melse\u001b[0m\u001b[0;34m:\u001b[0m\u001b[0;34m\u001b[0m\u001b[0;34m\u001b[0m\u001b[0m\n\u001b[1;32m   1352\u001b[0m       \u001b[0;32mreturn\u001b[0m \u001b[0mself\u001b[0m\u001b[0;34m.\u001b[0m\u001b[0m_do_call\u001b[0m\u001b[0;34m(\u001b[0m\u001b[0m_prun_fn\u001b[0m\u001b[0;34m,\u001b[0m \u001b[0mhandle\u001b[0m\u001b[0;34m,\u001b[0m \u001b[0mfeeds\u001b[0m\u001b[0;34m,\u001b[0m \u001b[0mfetches\u001b[0m\u001b[0;34m)\u001b[0m\u001b[0;34m\u001b[0m\u001b[0;34m\u001b[0m\u001b[0m\n",
      "\u001b[0;32m/usr/local/lib/python3.6/dist-packages/tensorflow/python/client/session.py\u001b[0m in \u001b[0;36m_do_call\u001b[0;34m(self, fn, *args)\u001b[0m\n\u001b[1;32m   1354\u001b[0m   \u001b[0;32mdef\u001b[0m \u001b[0m_do_call\u001b[0m\u001b[0;34m(\u001b[0m\u001b[0mself\u001b[0m\u001b[0;34m,\u001b[0m \u001b[0mfn\u001b[0m\u001b[0;34m,\u001b[0m \u001b[0;34m*\u001b[0m\u001b[0margs\u001b[0m\u001b[0;34m)\u001b[0m\u001b[0;34m:\u001b[0m\u001b[0;34m\u001b[0m\u001b[0;34m\u001b[0m\u001b[0m\n\u001b[1;32m   1355\u001b[0m     \u001b[0;32mtry\u001b[0m\u001b[0;34m:\u001b[0m\u001b[0;34m\u001b[0m\u001b[0;34m\u001b[0m\u001b[0m\n\u001b[0;32m-> 1356\u001b[0;31m       \u001b[0;32mreturn\u001b[0m \u001b[0mfn\u001b[0m\u001b[0;34m(\u001b[0m\u001b[0;34m*\u001b[0m\u001b[0margs\u001b[0m\u001b[0;34m)\u001b[0m\u001b[0;34m\u001b[0m\u001b[0;34m\u001b[0m\u001b[0m\n\u001b[0m\u001b[1;32m   1357\u001b[0m     \u001b[0;32mexcept\u001b[0m \u001b[0merrors\u001b[0m\u001b[0;34m.\u001b[0m\u001b[0mOpError\u001b[0m \u001b[0;32mas\u001b[0m \u001b[0me\u001b[0m\u001b[0;34m:\u001b[0m\u001b[0;34m\u001b[0m\u001b[0;34m\u001b[0m\u001b[0m\n\u001b[1;32m   1358\u001b[0m       \u001b[0mmessage\u001b[0m \u001b[0;34m=\u001b[0m \u001b[0mcompat\u001b[0m\u001b[0;34m.\u001b[0m\u001b[0mas_text\u001b[0m\u001b[0;34m(\u001b[0m\u001b[0me\u001b[0m\u001b[0;34m.\u001b[0m\u001b[0mmessage\u001b[0m\u001b[0;34m)\u001b[0m\u001b[0;34m\u001b[0m\u001b[0;34m\u001b[0m\u001b[0m\n",
      "\u001b[0;32m/usr/local/lib/python3.6/dist-packages/tensorflow/python/client/session.py\u001b[0m in \u001b[0;36m_run_fn\u001b[0;34m(feed_dict, fetch_list, target_list, options, run_metadata)\u001b[0m\n\u001b[1;32m   1339\u001b[0m       \u001b[0mself\u001b[0m\u001b[0;34m.\u001b[0m\u001b[0m_extend_graph\u001b[0m\u001b[0;34m(\u001b[0m\u001b[0;34m)\u001b[0m\u001b[0;34m\u001b[0m\u001b[0;34m\u001b[0m\u001b[0m\n\u001b[1;32m   1340\u001b[0m       return self._call_tf_sessionrun(\n\u001b[0;32m-> 1341\u001b[0;31m           options, feed_dict, fetch_list, target_list, run_metadata)\n\u001b[0m\u001b[1;32m   1342\u001b[0m \u001b[0;34m\u001b[0m\u001b[0m\n\u001b[1;32m   1343\u001b[0m     \u001b[0;32mdef\u001b[0m \u001b[0m_prun_fn\u001b[0m\u001b[0;34m(\u001b[0m\u001b[0mhandle\u001b[0m\u001b[0;34m,\u001b[0m \u001b[0mfeed_dict\u001b[0m\u001b[0;34m,\u001b[0m \u001b[0mfetch_list\u001b[0m\u001b[0;34m)\u001b[0m\u001b[0;34m:\u001b[0m\u001b[0;34m\u001b[0m\u001b[0;34m\u001b[0m\u001b[0m\n",
      "\u001b[0;32m/usr/local/lib/python3.6/dist-packages/tensorflow/python/client/session.py\u001b[0m in \u001b[0;36m_call_tf_sessionrun\u001b[0;34m(self, options, feed_dict, fetch_list, target_list, run_metadata)\u001b[0m\n\u001b[1;32m   1427\u001b[0m     return tf_session.TF_SessionRun_wrapper(\n\u001b[1;32m   1428\u001b[0m         \u001b[0mself\u001b[0m\u001b[0;34m.\u001b[0m\u001b[0m_session\u001b[0m\u001b[0;34m,\u001b[0m \u001b[0moptions\u001b[0m\u001b[0;34m,\u001b[0m \u001b[0mfeed_dict\u001b[0m\u001b[0;34m,\u001b[0m \u001b[0mfetch_list\u001b[0m\u001b[0;34m,\u001b[0m \u001b[0mtarget_list\u001b[0m\u001b[0;34m,\u001b[0m\u001b[0;34m\u001b[0m\u001b[0;34m\u001b[0m\u001b[0m\n\u001b[0;32m-> 1429\u001b[0;31m         run_metadata)\n\u001b[0m\u001b[1;32m   1430\u001b[0m \u001b[0;34m\u001b[0m\u001b[0m\n\u001b[1;32m   1431\u001b[0m   \u001b[0;32mdef\u001b[0m \u001b[0m_call_tf_sessionprun\u001b[0m\u001b[0;34m(\u001b[0m\u001b[0mself\u001b[0m\u001b[0;34m,\u001b[0m \u001b[0mhandle\u001b[0m\u001b[0;34m,\u001b[0m \u001b[0mfeed_dict\u001b[0m\u001b[0;34m,\u001b[0m \u001b[0mfetch_list\u001b[0m\u001b[0;34m)\u001b[0m\u001b[0;34m:\u001b[0m\u001b[0;34m\u001b[0m\u001b[0;34m\u001b[0m\u001b[0m\n",
      "\u001b[0;31mKeyboardInterrupt\u001b[0m: "
     ]
    },
    {
     "data": {
      "image/png": "[encoded data removed]",
      "text/plain": [
       "<Figure size 432x288 with 1 Axes>"
      ]
     },
     "metadata": {
      "needs_background": "light"
     },
     "output_type": "display_data"
    }
   ],
   "source": [
    "params = double_linear_model(data_class)"
   ]
  },
  {
   "cell_type": "markdown",
   "metadata": {},
   "source": [
    "Although the operations are not the same (applying the sigmoid is not the same as comparing the value to 0, and MSE is not an adequate metric for the problem), we can observe that the model was able to learn how to correcly classify the instances in the DB without any middle step in the learning phase."
   ]
  },
  {
   "cell_type": "code",
   "execution_count": null,
   "metadata": {},
   "outputs": [],
   "source": [
    "prediction = np.array([four_class_decision(example, params[:3], params[3:]) for example in data_class[:, :2]])"
   ]
  },
  {
   "cell_type": "code",
   "execution_count": null,
   "metadata": {},
   "outputs": [],
   "source": [
    "prediction"
   ]
  },
  {
   "cell_type": "code",
   "execution_count": null,
   "metadata": {},
   "outputs": [],
   "source": [
    "(prediction == data_class[:, 2]).all()"
   ]
  },
  {
   "cell_type": "markdown",
   "metadata": {},
   "source": [
    "Nevertheless, in that example, we are exploiting some knowledge we have about the problem in the sense that we combine the two models with a specific equation that suits the problem:\n",
    "\n",
    "| Submodel1 | Submodel2 | Final prediction |\n",
    "| :-: | :-: | :-: |\n",
    "| 0 | 0 | 0 |\n",
    "| 0 | 1 | 1 |\n",
    "| 1 | 0 | 2 |\n",
    "| 1 | 1 | 3 |\n"
   ]
  },
  {
   "cell_type": "markdown",
   "metadata": {},
   "source": [
    "Which is a little bit of cheating. Moreover, if the classes had any other distribution, we should define a new model to that particular data:\n",
    "\n",
    "| Submodel1 | Submodel2 | Possible output 1 | Possible output 2 |\n",
    "| :-: | :-: | :-: | :-: |\n",
    "| 0 | 0 | 0 | 0 |\n",
    "| 0 | 1 | 1 | 1 |\n",
    "| 1 | 0 | 2 | 1 |\n",
    "| 1 | 1 | 0 | 0 |\n"
   ]
  },
  {
   "cell_type": "markdown",
   "metadata": {},
   "source": [
    "However, having a third model that learns these last step correspondences would not be difficult. This is, a third submodel that takes the two predictions by the previous 2 submodels and learns to do the work of the equation we defined by hand:"
   ]
  },
  {
   "cell_type": "code",
   "execution_count": null,
   "metadata": {},
   "outputs": [],
   "source": [
    "def double_layer_model(data):\n",
    "    tf.reset_default_graph()\n",
    "    \n",
    "    # Two variables (x1 and x2), and one prediction (class)\n",
    "    x1 = tf.placeholder(\"float\", name=\"x1\")\n",
    "    x2 = tf.placeholder(\"float\", name=\"x2\")\n",
    "    y = tf.placeholder(\"float\", name=\"y\")\n",
    "    \n",
    "    # Weights and bias for the first neuron\n",
    "    w11 = tf.Variable(0.0, name=\"weight1_model1\")\n",
    "    w21 = tf.Variable(0.0, name=\"weight2_model1\")\n",
    "    b1 = tf.Variable(0.0, name=\"bias_model1\")\n",
    "    \n",
    "    # Weights and bias for the second neuron\n",
    "    w12 = tf.Variable(0.0, name=\"weight1_model2\")\n",
    "    w22 = tf.Variable(0.0, name=\"weight2_model2\")\n",
    "    b2 = tf.Variable(0.0, name=\"bias_model2\")\n",
    "\n",
    "    # Weights and bias for the two previous neurons\n",
    "    w13 = tf.Variable(0.0, name=\"weight1_model3\")\n",
    "    w23 = tf.Variable(0.0, name=\"weight2_model3\")\n",
    "    b3 = tf.Variable(0.0, name=\"bias_model3\")\n",
    "\n",
    "    # First neuron model\n",
    "    model1 = tf.sigmoid(tf.add(tf.add(tf.multiply(x1, w11), tf.multiply(x2, w21)), b1))\n",
    "    # Second neuron model\n",
    "    model2 = tf.sigmoid(tf.add(tf.add(tf.multiply(x1, w12), tf.multiply(x2, w22)), b2))\n",
    "    # Final prediction based on the two previous neurons\n",
    "    combined = tf.add(tf.add(tf.multiply(model1, w13), tf.multiply(model2, w23)), b3)\n",
    "\n",
    "    # Loss function\n",
    "    loss = tf.losses.mean_squared_error(y, combined)\n",
    "\n",
    "    # Optimizer & initialization\n",
    "    optimizer = tf.train.AdamOptimizer(learning_rate=.001).minimize(loss)\n",
    "    init = tf.global_variables_initializer()\n",
    "\n",
    "    # Number of iterations for the learning algorithm\n",
    "    training_epochs = 60000\n",
    "    train_n_samples = data.shape[0]\n",
    "    display_step = 15000\n",
    "\n",
    "    mini_batch_size = 100\n",
    "    n_batch = train_n_samples // mini_batch_size + (train_n_samples % mini_batch_size != 0)\n",
    "    \n",
    "    for i in range(data.shape[0]):\n",
    "        plt.plot(data[i,0], data[i,1],'o', c=cmap[np.int(data[i,2])])\n",
    "    with tf.Session() as sess:\n",
    "        sess.run(init)\n",
    "        for epoch in range(training_epochs):\n",
    "            i_batch = (epoch % n_batch)*mini_batch_size\n",
    "            batch = data[i_batch:i_batch+mini_batch_size, 0], data[i_batch:i_batch+mini_batch_size, 1], data[i_batch:i_batch+mini_batch_size, 2]\n",
    "            sess.run(optimizer, feed_dict={x1: batch[0], x2: batch[1], y: batch[2]})\n",
    "            if (epoch+1) % display_step == 0:\n",
    "                malda1, c1 = -sess.run(w11)/sess.run(w21), -sess.run(b1)/sess.run(w21)\n",
    "                malda2, c2 = -sess.run(w12)/sess.run(w22), -sess.run(b2)/sess.run(w22)\n",
    "                plt.plot([0, 4], [c1,c1+malda1*4], label=\"Model1, Epoch \" + str(epoch+1))\n",
    "                plt.plot([0, 4], [c2,c2+malda2*4], label=\"Model2, Epoch \" + str(epoch+1))\n",
    "                cost = sess.run(loss, feed_dict={x1: data[:, 0], x2: data[:, 1], y: data[:, 2]})\n",
    "                print(\"Epoch:\", str(epoch+1), \"Error:\", np.mean(cost))\n",
    "        params = [sess.run(w11), sess.run(w21), sess.run(b1), sess.run(w12), sess.run(w22), sess.run(b2), sess.run(w13), sess.run(w23), sess.run(b3)]\n",
    "        preds = sess.run(combined, feed_dict={x1: data[:, 0], x2: data[:, 1]})\n",
    "    plt.legend()\n",
    "    plt.ylim((-3.2,3.2))\n",
    "    plt.xlim((-0.2,4.2))\n",
    "    return params, np.round(preds)"
   ]
  },
  {
   "cell_type": "code",
   "execution_count": null,
   "metadata": {},
   "outputs": [],
   "source": [
    "params_2layer, preds = double_layer_model(data_class)"
   ]
  },
  {
   "cell_type": "markdown",
   "metadata": {},
   "source": [
    "Although the error is pretty low, apparently, the model has not learned anything, as the lines drawn usign the parameters are barely able to differentiate between sets of two clusters. However, if we take a look at the predictions"
   ]
  },
  {
   "cell_type": "code",
   "execution_count": null,
   "metadata": {},
   "outputs": [],
   "source": [
    "preds"
   ]
  },
  {
   "cell_type": "markdown",
   "metadata": {},
   "source": [
    "They are mostly correct. What happened?\n",
    "\n",
    "We constructed a 1-hidden-layer MLP. These models are very powerful, but mostly lack the possibility of expressing anything with their parameters"
   ]
  },
  {
   "cell_type": "code",
   "execution_count": null,
   "metadata": {},
   "outputs": [],
   "source": [
    "Image(filename='images/MLP_Networks_Parameters.png')"
   ]
  },
  {
   "cell_type": "markdown",
   "metadata": {},
   "source": [
    "## Exercise 1\n",
    "\n",
    "Now that we know how to define neural models with more than one layer, let's do it for a more complex problem, the MNIST problem. \n",
    "\n",
    "In the previous example, we only had two variables, so defining individual parameters by hand was easy. However, as this problem has 784 variables, this task is not feasible any more. Therefore, we will have to define matrices of weights. For this, you can take a look at the tensorflow docs or Exercise 3 of Lab 5, where we did something similar.\n",
    "\n",
    "Additionally, because this is a multiclass problem, we are going to need one neuron in the final layer per class in the database, so that each neuron represents the probability of the example in the input belonging to a certaing class.\n",
    "\n",
    "The hidden layer has 100 neurons."
   ]
  },
  {
   "cell_type": "code",
   "execution_count": null,
   "metadata": {},
   "outputs": [],
   "source": [
    "(x_mnist_tr, y_mnist_tr), (x_mnist_ts, y_mnist_ts) = mnist.load_data()\n",
    "\n",
    "ohe = OneHotEncoder()\n",
    "\n",
    "x_mnist_tr = np.reshape(x_mnist_tr, (-1, 784))\n",
    "x_mnist_ts = np.reshape(x_mnist_ts, (-1, 784))\n",
    "\n",
    "x_mnist_tr = x_mnist_tr/255.\n",
    "x_mnist_ts = x_mnist_ts/255.\n",
    "\n",
    "# One hot encoding\n",
    "n_classes = np.unique(y_mnist_tr).shape[0]\n",
    "y_mnist_tr_oh = np.eye(n_classes)[y_mnist_tr]\n",
    "y_mnist_ts_oh = np.eye(n_classes)[y_mnist_ts]"
   ]
  },
  {
   "cell_type": "code",
   "execution_count": null,
   "metadata": {},
   "outputs": [],
   "source": [
    "def MLP(data, classes, test_data, test_classes):\n",
    "    tf.reset_default_graph()\n",
    "    \n",
    "    # One placeholder for all features (as a matrix) and another for the prediction\n",
    "    x = tf.placeholder(tf.float32, [None, 784])\n",
    "    y = tf.placeholder(tf.float32, [None, 10])\n",
    "    \n",
    "    # First layer: one matrix of weights (on top of the known features) and a vector of biases\n",
    "    w1 = tf.Variable(tf.zeros([784, 100]), name=\"layer1_weights\")\n",
    "    b1 = tf.Variable(tf.zeros([100]), name=\"layer1_biases\")\n",
    "    \n",
    "    # Second layer: one matrix of weights (on top of the abstract features) and a vector of biases\n",
    "    w2 = tf.Variable(tf.zeros([100, 10]), name=\"layer2_weights\")\n",
    "    b2 = tf.Variable(tf.zeros([10]), name=\"layer2_biases\")\n",
    "\n",
    "    # First layer and probability prediction\n",
    "    layer1 = tf.sigmoid(tf.add(tf.matmul(x, w1), b1))\n",
    "    prediction = tf.add(tf.matmul(layer1, w2), b2)\n",
    "\n",
    "    # Loss and class prediction\n",
    "    loss = tf.nn.softmax_cross_entropy_with_logits_v2(labels=y, logits=prediction)\n",
    "    class_pred = tf.argmax(prediction, axis=1)\n",
    "\n",
    "    # Optimizer & initialization\n",
    "    optimizer = tf.train.AdamOptimizer(learning_rate=.001).minimize(loss)\n",
    "    init = tf.global_variables_initializer()\n",
    "\n",
    "    training_epochs = 10000\n",
    "    train_n_samples = data.shape[0]\n",
    "    display_step = 200\n",
    "\n",
    "    mini_batch_size = 100\n",
    "    n_batch = train_n_samples // mini_batch_size + (train_n_samples % mini_batch_size != 0)\n",
    "    \n",
    "    with tf.Session() as sess:\n",
    "        sess.run(init)\n",
    "        for epoch in range(training_epochs):\n",
    "            i_batch = (epoch % n_batch)*mini_batch_size\n",
    "            batch = data[i_batch:i_batch+mini_batch_size], classes[i_batch:i_batch+mini_batch_size]\n",
    "            sess.run(optimizer, feed_dict={x: batch[0], y: batch[1]})\n",
    "            if (epoch+1) % display_step == 0:\n",
    "                cost = sess.run(loss, feed_dict={x: batch[0], y: batch[1]})\n",
    "                acc = np.sum(np.argmax(test_classes, axis=1) == sess.run(class_pred, feed_dict={x: test_data}))/test_classes.shape[0]\n",
    "                print(\"Epoch:\", str(epoch+1), \"Error:\", np.mean(cost), \"Accuracy:\", acc)\n",
    "        parameters = sess.run([w1, b1, w2, b2])\n",
    "        test_predictions = sess.run(class_pred, feed_dict={x: test_data})\n",
    "    return parameters, test_predictions"
   ]
  },
  {
   "cell_type": "code",
   "execution_count": null,
   "metadata": {},
   "outputs": [],
   "source": [
    "params, test_preds = MLP(x_mnist_tr, y_mnist_tr_oh, x_mnist_ts, y_mnist_ts_oh)"
   ]
  },
  {
   "cell_type": "markdown",
   "metadata": {},
   "source": [
    "Taking into account that this is a 10-class problem, and that we are using a very simple MLP, a ~.5 accuracy is not that bad. Let's analyze the confusion matrix:"
   ]
  },
  {
   "cell_type": "code",
   "execution_count": null,
   "metadata": {},
   "outputs": [],
   "source": [
    "metrics.confusion_matrix(y_mnist_ts, test_preds, labels=range(10), sample_weight=None)"
   ]
  },
  {
   "cell_type": "markdown",
   "metadata": {},
   "source": [
    "Although these models are not interpretable in general, sometimes visualizing the weights can give you an idea about what is being learnt in each neuron (not in this case, but have this idea and the following function in mind for future applications)."
   ]
  },
  {
   "cell_type": "code",
   "execution_count": null,
   "metadata": {},
   "outputs": [],
   "source": [
    "def visualize_coefs(coefs):\n",
    "    \"\"\"\n",
    "    clf must be the instanced (and trained) classifier\n",
    "    \"\"\"\n",
    "    fig, axes = plt.subplots(10, 10, sharex=True, sharey=True)\n",
    "    plt.subplots_adjust(wspace=-0.83, hspace=0)\n",
    "    # use global min / max to ensure all weights are shown on the same scale\n",
    "    for coef, ax in zip(coefs.T, axes.ravel()):\n",
    "        ax.matshow(coef.reshape(28, 28), cmap=plt.cm.gray, vmax=np.max(coefs), vmin=np.min(coefs))\n",
    "        ax.set_xticks(())\n",
    "        ax.set_yticks(())\n",
    "\n",
    "    plt.show()"
   ]
  },
  {
   "cell_type": "code",
   "execution_count": null,
   "metadata": {},
   "outputs": [],
   "source": [
    "visualize_coefs(params[0])"
   ]
  },
  {
   "cell_type": "markdown",
   "metadata": {},
   "source": [
    "# Network structure\n",
    "\n",
    "Successful DNN training depends on several factors. The gradient descent algorithm, the learning rate, the batch size, the initial values of the parameters... but one of the most important components is the architecture of the model. It is theorized that the deeper a DNN, the better the extraction of features is performed from the data, which ultimately results in a better classification model."
   ]
  },
  {
   "cell_type": "markdown",
   "metadata": {},
   "source": [
    "## Exercise 2\n",
    "\n",
    "Knowing about the importance of the DNN structure, define a function that takes a list of numbers as a parameter, each of these numbers specifying the number of neurons in a layer.\n",
    "\n",
    "- See the following cell to get an idea of what this parameter looks like"
   ]
  },
  {
   "cell_type": "code",
   "execution_count": null,
   "metadata": {},
   "outputs": [],
   "source": [
    "def custom_MLP(data, classes, test_data, test_classes, layer_sizes):\n",
    "    tf.reset_default_graph()\n",
    "\n",
    "    x = tf.placeholder(tf.float32, [None, 784])\n",
    "    y = tf.placeholder(tf.float32, [None, 10])\n",
    "    # At the end of the loop, this variable should contain all the weight variables\n",
    "    weights = []\n",
    "    # At the end of the loop, this variable should contain all the biases variables\n",
    "    biases = []\n",
    "    # At the end of the loop, this variable should contain all the layers variables (the first one is the data itself)\n",
    "    layers = [x]\n",
    "    \n",
    "    # We advise the usage of an auxiliary variable that contains the number of neurons in the last layer\n",
    "    # It should initialized as the number of features in the data\n",
    "    last_layer = ___\n",
    "    \n",
    "    # For giving names to the variables, you can use something like name=\"layer\" + str(len(layers)) + \"_{biases|weights}\"\n",
    "    for layer, neurons in enumerate(layer_sizes):  # For each layer specified in the list\n",
    "        # \"+\": Concatenation between two lists\n",
    "        weights = weights + [___]\n",
    "        biases = biases + [___]\n",
    "        layers += [tf.sigmoid(___)]\n",
    "        # Update the number of neurons in the last layer\n",
    "        last_layer = ___\n",
    "        \n",
    "    # Once we have built the DNN structure, we create the last layer, where the results will be collected\n",
    "    weights = weights + [___]\n",
    "    biases = biases +[___]                                                 \n",
    "    prediction = ___\n",
    "\n",
    "    loss = tf.nn.softmax_cross_entropy_with_logits_v2(labels=y, logits=prediction)\n",
    "    class_pred = tf.argmax(prediction, axis=1)\n",
    "\n",
    "    optimizer = tf.train.AdamOptimizer(learning_rate=.001).minimize(loss)\n",
    "\n",
    "    init = tf.global_variables_initializer()\n",
    "\n",
    "    training_epochs = 10000\n",
    "    train_n_samples = data.shape[0]\n",
    "    display_step = 2000\n",
    "\n",
    "    mini_batch_size = 100\n",
    "    n_batch = train_n_samples // mini_batch_size + (train_n_samples % mini_batch_size != 0)\n",
    "    \n",
    "    with tf.Session() as sess:\n",
    "        sess.run(init)\n",
    "        for epoch in range(training_epochs):\n",
    "            i_batch = (epoch % n_batch)*mini_batch_size\n",
    "            batch = data[i_batch:i_batch+mini_batch_size, :], classes[i_batch:i_batch+mini_batch_size, :]\n",
    "            sess.run(optimizer, feed_dict={x: batch[0], y: batch[1]})\n",
    "            if (epoch+1) % display_step == 0:\n",
    "                cost = sess.run(loss, feed_dict={x: batch[0], y: batch[1]})\n",
    "                acc = np.sum(np.argmax(test_classes, axis=1) == sess.run(class_pred, feed_dict={x: test_data}))/test_classes.shape[0]\n",
    "                print(\"Epoch:\", str(epoch+1), \"Error:\", np.mean(cost), \"Accuracy:\", acc)\n",
    "        parameters = sess.run(weights+biases)\n",
    "        test_predictions = sess.run(class_pred, feed_dict={x: test_data})\n",
    "    return parameters, test_predictions, acc"
   ]
  },
  {
   "cell_type": "code",
   "execution_count": null,
   "metadata": {},
   "outputs": [],
   "source": [
    "max_layers = 10\n",
    "for i in range(2, max_layers):\n",
    "    layers = np.arange(500, 49, -450/i).astype(\"int\")\n",
    "    print(layers)\n",
    "    custom_MLP(x_mnist_tr, y_mnist_tr_oh, x_mnist_ts, y_mnist_ts_oh, layers)"
   ]
  },
  {
   "cell_type": "markdown",
   "metadata": {},
   "source": [
    "As you can see, it is not easy to predict what combination of layers is going to be the one working the best, and evaluating the networks is very expensive, which means that running all posibilities is not feasible. Neuroevolution has joined the chat."
   ]
  },
  {
   "cell_type": "markdown",
   "metadata": {},
   "source": [
    "# Neuroevolution\n",
    "\n",
    "Neuroevolution studies the application of evolutionary algorithms for the automatic generation of neural networks (architecture and weights).\n",
    "\n",
    "NEAT is a particular class of neuro-evolutionary algorithm. You can read the two slides from the Lecture that introduce and explain the main characteristics of NEAT. \n",
    "\n",
    "neat-python is a library that allows the automatic generation of neural networks. You can read a 3-minutes NEAT overview here: http://neat-python.readthedocs.io/en/latest/neat_overview.html\n",
    "\n",
    "In order to use NEAT to solve a problem with an evolved NN, the user should define which are the input variables of the network and the output variables. Another essential part is defining the fitness function   that specifies how to evaluate the \"quality\" of a given NN to solve the problem at hand.\n"
   ]
  },
  {
   "cell_type": "code",
   "execution_count": 18,
   "metadata": {},
   "outputs": [],
   "source": [
    "import neat"
   ]
  },
  {
   "cell_type": "markdown",
   "metadata": {},
   "source": [
    "The example below contains the implementation of a neat-python approach for solving the XOR problem. You can find a description of this example here: http://neat-python.readthedocs.io/en/latest/xor_example.html#\n",
    "\n",
    "Read the explanation of the example and run the following cell. "
   ]
  },
  {
   "cell_type": "code",
   "execution_count": 19,
   "metadata": {},
   "outputs": [
    {
     "name": "stdout",
     "output_type": "stream",
     "text": [
      "\n",
      " ****** Running generation 0 ****** \n",
      "\n",
      "Population's average fitness: 2.27282 stdev: 0.36906\n",
      "Best fitness: 2.99912 - size: (1, 2) - species 1 - id 126\n",
      "Average adjusted fitness: 0.589\n",
      "Mean genetic distance 1.730, standard deviation 0.721\n",
      "Population of 150 members in 2 species\n",
      "Total extinctions: 0\n",
      "Generation time: 0.026 sec\n",
      "\n",
      " ****** Running generation 1 ****** \n",
      "\n",
      "Population's average fitness: 2.32896 stdev: 0.34437\n",
      "Best fitness: 2.99945 - size: (1, 2) - species 2 - id 254\n",
      "Average adjusted fitness: 0.448\n",
      "Mean genetic distance 2.030, standard deviation 0.888\n",
      "Population of 150 members in 2 species\n",
      "Total extinctions: 0\n",
      "Generation time: 0.024 sec (0.025 average)\n",
      "\n",
      " ****** Running generation 2 ****** \n",
      "\n",
      "Population's average fitness: 2.29042 stdev: 0.36776\n",
      "Best fitness: 2.99945 - size: (1, 2) - species 2 - id 254\n",
      "Average adjusted fitness: 0.631\n",
      "Mean genetic distance 2.179, standard deviation 0.809\n",
      "Population of 150 members in 2 species\n",
      "Total extinctions: 0\n",
      "Generation time: 0.056 sec (0.036 average)\n",
      "\n",
      " ****** Running generation 3 ****** \n",
      "\n",
      "Population's average fitness: 2.31575 stdev: 0.36041\n",
      "Best fitness: 2.99999 - size: (1, 2) - species 2 - id 575\n",
      "Average adjusted fitness: 0.623\n",
      "Mean genetic distance 2.124, standard deviation 0.784\n",
      "Population of 150 members in 2 species\n",
      "Total extinctions: 0\n",
      "Generation time: 0.040 sec (0.037 average)\n",
      "\n",
      " ****** Running generation 4 ****** \n",
      "\n",
      "Population's average fitness: 2.35287 stdev: 0.39737\n",
      "Best fitness: 3.03987 - size: (2, 4) - species 2 - id 729\n",
      "Average adjusted fitness: 0.653\n",
      "Mean genetic distance 1.980, standard deviation 0.705\n",
      "Population of 150 members in 2 species\n",
      "Total extinctions: 0\n",
      "Generation time: 0.052 sec (0.040 average)\n",
      "\n",
      " ****** Running generation 5 ****** \n",
      "\n",
      "Population's average fitness: 2.27632 stdev: 0.39070\n",
      "Best fitness: 3.03987 - size: (2, 4) - species 2 - id 729\n",
      "Average adjusted fitness: 0.598\n",
      "Mean genetic distance 1.839, standard deviation 0.643\n",
      "Population of 150 members in 2 species\n",
      "Total extinctions: 0\n",
      "Generation time: 0.044 sec (0.040 average)\n",
      "\n",
      " ****** Running generation 6 ****** \n",
      "\n",
      "Population's average fitness: 2.33657 stdev: 0.40129\n",
      "Best fitness: 3.09266 - size: (2, 4) - species 2 - id 986\n",
      "Average adjusted fitness: 0.602\n",
      "Mean genetic distance 1.810, standard deviation 0.539\n",
      "Population of 150 members in 2 species\n",
      "Total extinctions: 0\n",
      "Generation time: 0.042 sec (0.041 average)\n",
      "\n",
      " ****** Running generation 7 ****** \n",
      "\n",
      "Population's average fitness: 2.37734 stdev: 0.45138\n",
      "Best fitness: 3.42919 - size: (2, 4) - species 2 - id 1125\n",
      "Average adjusted fitness: 0.536\n",
      "Mean genetic distance 1.868, standard deviation 0.468\n",
      "Population of 150 members in 2 species\n",
      "Total extinctions: 0\n",
      "Generation time: 0.060 sec (0.043 average)\n",
      "\n",
      " ****** Running generation 8 ****** \n",
      "\n",
      "Population's average fitness: 2.35830 stdev: 0.44803\n",
      "Best fitness: 3.42919 - size: (2, 4) - species 2 - id 1125\n",
      "Average adjusted fitness: 0.552\n",
      "Mean genetic distance 1.896, standard deviation 0.462\n",
      "Population of 150 members in 2 species\n",
      "Total extinctions: 0\n",
      "Generation time: 0.056 sec (0.044 average)\n",
      "\n",
      " ****** Running generation 9 ****** \n",
      "\n",
      "Population's average fitness: 2.32623 stdev: 0.44320\n",
      "Best fitness: 3.42919 - size: (2, 4) - species 2 - id 1125\n",
      "Average adjusted fitness: 0.530\n",
      "Mean genetic distance 1.897, standard deviation 0.391\n",
      "Population of 150 members in 2 species\n",
      "Total extinctions: 0\n",
      "Generation time: 0.048 sec (0.045 average)\n",
      "\n",
      " ****** Running generation 10 ****** \n",
      "\n",
      "Population's average fitness: 2.29031 stdev: 0.44331\n",
      "Best fitness: 3.83834 - size: (2, 5) - species 2 - id 1595\n",
      "Average adjusted fitness: 0.457\n",
      "Mean genetic distance 1.904, standard deviation 0.440\n",
      "Population of 150 members in 2 species\n",
      "Total extinctions: 0\n",
      "Generation time: 0.043 sec (0.046 average)\n",
      "\n",
      " ****** Running generation 11 ****** \n",
      "\n",
      "Population's average fitness: 2.27451 stdev: 0.40840\n",
      "Best fitness: 3.83834 - size: (2, 5) - species 2 - id 1595\n",
      "Average adjusted fitness: 0.438\n",
      "Mean genetic distance 1.861, standard deviation 0.493\n",
      "Population of 150 members in 2 species\n",
      "Total extinctions: 0\n",
      "Generation time: 0.044 sec (0.048 average)\n",
      "\n",
      " ****** Running generation 12 ****** \n",
      "\n",
      "Population's average fitness: 2.33792 stdev: 0.46446\n",
      "Best fitness: 3.83834 - size: (2, 5) - species 2 - id 1595\n",
      "Average adjusted fitness: 0.495\n",
      "Mean genetic distance 1.899, standard deviation 0.462\n",
      "Population of 150 members in 2 species\n",
      "Total extinctions: 0\n",
      "Generation time: 0.412 sec (0.084 average)\n",
      "\n",
      " ****** Running generation 13 ****** \n",
      "\n",
      "Population's average fitness: 2.36105 stdev: 0.46825\n",
      "Best fitness: 3.83834 - size: (2, 5) - species 2 - id 1595\n",
      "Average adjusted fitness: 0.457\n",
      "Mean genetic distance 2.035, standard deviation 0.359\n",
      "Population of 150 members in 2 species\n",
      "Total extinctions: 0\n",
      "Generation time: 0.039 sec (0.084 average)\n",
      "\n",
      " ****** Running generation 14 ****** \n",
      "\n",
      "Population's average fitness: 2.26734 stdev: 0.49093\n",
      "Best fitness: 3.83834 - size: (2, 5) - species 2 - id 1595\n",
      "Average adjusted fitness: 0.431\n",
      "Mean genetic distance 2.030, standard deviation 0.404\n",
      "Population of 150 members in 2 species\n",
      "Total extinctions: 0\n",
      "Generation time: 0.036 sec (0.082 average)\n",
      "\n",
      " ****** Running generation 15 ****** \n",
      "\n",
      "Population's average fitness: 2.31622 stdev: 0.46903\n",
      "Best fitness: 3.83834 - size: (2, 5) - species 2 - id 1595\n",
      "Average adjusted fitness: 0.453\n",
      "Mean genetic distance 1.936, standard deviation 0.438\n",
      "Population of 150 members in 2 species\n",
      "Total extinctions: 0\n",
      "Generation time: 0.041 sec (0.082 average)\n",
      "\n",
      " ****** Running generation 16 ****** \n",
      "\n",
      "Population's average fitness: 2.30402 stdev: 0.43959\n",
      "Best fitness: 3.83834 - size: (2, 5) - species 2 - id 1595\n",
      "Average adjusted fitness: 0.425\n",
      "Mean genetic distance 1.853, standard deviation 0.374\n",
      "Population of 150 members in 2 species\n",
      "Total extinctions: 0\n",
      "Generation time: 0.041 sec (0.082 average)\n",
      "\n",
      " ****** Running generation 17 ****** \n",
      "\n",
      "Population's average fitness: 2.38884 stdev: 0.43282\n",
      "Best fitness: 3.83834 - size: (2, 5) - species 2 - id 1595\n",
      "Average adjusted fitness: 0.280\n",
      "Mean genetic distance 1.765, standard deviation 0.344\n",
      "Population of 150 members in 2 species\n",
      "Total extinctions: 0\n",
      "Generation time: 0.039 sec (0.080 average)\n",
      "\n",
      " ****** Running generation 18 ****** \n",
      "\n",
      "Population's average fitness: 2.38290 stdev: 0.46030\n",
      "Best fitness: 3.83834 - size: (2, 5) - species 1 - id 1595\n",
      "Average adjusted fitness: 0.431\n",
      "Mean genetic distance 1.846, standard deviation 0.323\n",
      "Population of 150 members in 2 species\n",
      "Total extinctions: 0\n",
      "Generation time: 0.051 sec (0.080 average)\n",
      "\n",
      " ****** Running generation 19 ****** \n",
      "\n",
      "Population's average fitness: 2.27993 stdev: 0.43747\n",
      "Best fitness: 3.83834 - size: (2, 5) - species 2 - id 1595\n",
      "Average adjusted fitness: 0.411\n",
      "Mean genetic distance 1.841, standard deviation 0.335\n",
      "Population of 150 members in 2 species\n",
      "Total extinctions: 0\n",
      "Generation time: 0.041 sec (0.079 average)\n",
      "\n",
      " ****** Running generation 20 ****** \n",
      "\n",
      "Population's average fitness: 2.34721 stdev: 0.45494\n",
      "Best fitness: 3.83834 - size: (2, 5) - species 2 - id 1595\n",
      "Average adjusted fitness: 0.308\n",
      "Mean genetic distance 1.818, standard deviation 0.386\n",
      "Population of 150 members in 2 species\n",
      "Total extinctions: 0\n",
      "Generation time: 0.059 sec (0.081 average)\n",
      "\n",
      " ****** Running generation 21 ****** \n",
      "\n",
      "Population's average fitness: 2.32876 stdev: 0.50211\n",
      "Best fitness: 3.93434 - size: (2, 5) - species 2 - id 3177\n",
      "\n",
      "Best individual in generation 21 meets fitness threshold - complexity: (2, 5)\n",
      "\n",
      "Best genome:\n",
      "Key: 3177\n",
      "Fitness: 3.93434221914342\n",
      "Nodes:\n",
      "\t0 DefaultNodeGene(key=0, bias=-1.6400787383162703, response=1.0, activation=sigmoid, aggregation=sum)\n",
      "\t117 DefaultNodeGene(key=117, bias=-0.36170800162463557, response=1.0, activation=sigmoid, aggregation=sum)\n",
      "Connections:\n",
      "\tDefaultConnectionGene(key=(-2, 0), weight=-2.5431813259624563, enabled=True)\n",
      "\tDefaultConnectionGene(key=(-2, 117), weight=2.8966674648885093, enabled=True)\n",
      "\tDefaultConnectionGene(key=(-1, 0), weight=-0.9612626871712145, enabled=True)\n",
      "\tDefaultConnectionGene(key=(-1, 117), weight=0.9945832541521726, enabled=True)\n",
      "\tDefaultConnectionGene(key=(117, 0), weight=4.397590136141833, enabled=True)\n",
      "\n",
      "Output:\n",
      "  input (0.0, 0.0), expected output (0.0,), got [0.006034751075111241]\n",
      "  input (0.0, 1.0), expected output (1.0,), got [0.7448975682960455]\n",
      "  input (1.0, 0.0), expected output (1.0,), got [0.9996935361086483]\n",
      "  input (1.0, 1.0), expected output (0.0,), got [0.0233241946196274]\n"
     ]
    }
   ],
   "source": [
    "# 2-input XOR inputs and expected outputs.\n",
    "xor_inputs = [(0.0, 0.0), (0.0, 1.0), (1.0, 0.0), (1.0, 1.0)]\n",
    "xor_outputs = [   (0.0,),     (1.0,),     (1.0,),     (0.0,)]\n",
    "\n",
    "\n",
    "number_generations = 100\n",
    "\n",
    "def eval_genomes(genomes, config):\n",
    "    for genome_id, genome in genomes:\n",
    "        genome.fitness = 4.0\n",
    "        net = neat.nn.FeedForwardNetwork.create(genome, config)\n",
    "        \n",
    "        for xi, xo in zip(xor_inputs, xor_outputs):\n",
    "            output = net.activate(xi)\n",
    "            genome.fitness -= (output[0] - xo[0]) ** 2\n",
    "\n",
    "\n",
    "# Load configuration.\n",
    "config = neat.Config(neat.DefaultGenome, neat.DefaultReproduction, neat.DefaultSpeciesSet, neat.DefaultStagnation,\n",
    "                     'lab-config-feedforward')\n",
    "\n",
    "# Create the population, which is the top-level object for a NEAT run.\n",
    "p = neat.Population(config)\n",
    "\n",
    "# Add a stdout reporter to show progress in the terminal.\n",
    "p.add_reporter(neat.StdOutReporter(False))\n",
    "\n",
    "# Run until a solution is found.\n",
    "winner = p.run(eval_genomes,number_generations)\n",
    "\n",
    "# Display the winning genome.\n",
    "print('\\nBest genome:\\n{!s}'.format(winner))\n",
    "\n",
    "# Show output of the most fit genome against training data.\n",
    "print('\\nOutput:')\n",
    "winner_net = neat.nn.FeedForwardNetwork.create(winner, config)\n",
    "for xi, xo in zip(xor_inputs, xor_outputs):\n",
    "    output = winner_net.activate(xi)\n",
    "    print(\"  input {!r}, expected output {!r}, got {!r}\".format(xi, xo, output))\n",
    "    \n"
   ]
  },
  {
   "cell_type": "markdown",
   "metadata": {},
   "source": [
    "In the results of the evolution, see the description of the \"Best genome\". You can see that the genome is separated between Nodes and Connections. For each node, the bias and activation function are defined. For each connection, the outgoing and ingoing nodes are defined as well as the weights. \n",
    "\n",
    "Run the following two cells to visualize this \"winner\" genome. "
   ]
  },
  {
   "cell_type": "code",
   "execution_count": 21,
   "metadata": {},
   "outputs": [
    {
     "name": "stdout",
     "output_type": "stream",
     "text": [
      "Collecting pygraphviz\n",
      "  Downloading https://files.pythonhosted.org/packages/1e/19/acf3b8dbd378a2b38c6d9aaa6fa9fcd9f7b4aea5fcd3460014999ff92b3c/pygraphviz-1.6.zip (117kB)\n",
      "\u001b[K    100% |████████████████████████████████| 122kB 771kB/s ta 0:00:01\n",
      "\u001b[?25hBuilding wheels for collected packages: pygraphviz\n",
      "  Running setup.py bdist_wheel for pygraphviz ... \u001b[?25lerror\n",
      "  Complete output from command /usr/bin/python3 -u -c \"import setuptools, tokenize;__file__='/tmp/pip-build-yhrbvp5u/pygraphviz/setup.py';f=getattr(tokenize, 'open', open)(__file__);code=f.read().replace('\\r\\n', '\\n');f.close();exec(compile(code, __file__, 'exec'))\" bdist_wheel -d /tmp/tmpnmo7ub7spip-wheel- --python-tag cp36:\n",
      "  running bdist_wheel\n",
      "  running build\n",
      "  running build_py\n",
      "  creating build\n",
      "  creating build/lib.linux-x86_64-3.6\n",
      "  creating build/lib.linux-x86_64-3.6/pygraphviz\n",
      "  copying pygraphviz/release.py -> build/lib.linux-x86_64-3.6/pygraphviz\n",
      "  copying pygraphviz/version.py -> build/lib.linux-x86_64-3.6/pygraphviz\n",
      "  copying pygraphviz/graphviz.py -> build/lib.linux-x86_64-3.6/pygraphviz\n",
      "  copying pygraphviz/agraph.py -> build/lib.linux-x86_64-3.6/pygraphviz\n",
      "  copying pygraphviz/__init__.py -> build/lib.linux-x86_64-3.6/pygraphviz\n",
      "  creating build/lib.linux-x86_64-3.6/pygraphviz/tests\n",
      "  copying pygraphviz/tests/test_graph.py -> build/lib.linux-x86_64-3.6/pygraphviz/tests\n",
      "  copying pygraphviz/tests/test_layout.py -> build/lib.linux-x86_64-3.6/pygraphviz/tests\n",
      "  copying pygraphviz/tests/test_drawing.py -> build/lib.linux-x86_64-3.6/pygraphviz/tests\n",
      "  copying pygraphviz/tests/test_string.py -> build/lib.linux-x86_64-3.6/pygraphviz/tests\n",
      "  copying pygraphviz/tests/test_readwrite.py -> build/lib.linux-x86_64-3.6/pygraphviz/tests\n",
      "  copying pygraphviz/tests/test_attributes.py -> build/lib.linux-x86_64-3.6/pygraphviz/tests\n",
      "  copying pygraphviz/tests/test_attribute_defaults.py -> build/lib.linux-x86_64-3.6/pygraphviz/tests\n",
      "  copying pygraphviz/tests/test_unicode.py -> build/lib.linux-x86_64-3.6/pygraphviz/tests\n",
      "  copying pygraphviz/tests/test_node_attributes.py -> build/lib.linux-x86_64-3.6/pygraphviz/tests\n",
      "  copying pygraphviz/tests/test.py -> build/lib.linux-x86_64-3.6/pygraphviz/tests\n",
      "  copying pygraphviz/tests/test_clear.py -> build/lib.linux-x86_64-3.6/pygraphviz/tests\n",
      "  copying pygraphviz/tests/test_close.py -> build/lib.linux-x86_64-3.6/pygraphviz/tests\n",
      "  copying pygraphviz/tests/__init__.py -> build/lib.linux-x86_64-3.6/pygraphviz/tests\n",
      "  copying pygraphviz/tests/test_setup.py -> build/lib.linux-x86_64-3.6/pygraphviz/tests\n",
      "  copying pygraphviz/tests/test_subgraph.py -> build/lib.linux-x86_64-3.6/pygraphviz/tests\n",
      "  copying pygraphviz/tests/test_edge_attributes.py -> build/lib.linux-x86_64-3.6/pygraphviz/tests\n",
      "  copying pygraphviz/tests/test_html.py -> build/lib.linux-x86_64-3.6/pygraphviz/tests\n",
      "  running egg_info\n",
      "  writing pygraphviz.egg-info/PKG-INFO\n",
      "  writing dependency_links to pygraphviz.egg-info/dependency_links.txt\n",
      "  writing top-level names to pygraphviz.egg-info/top_level.txt\n",
      "  reading manifest file 'pygraphviz.egg-info/SOURCES.txt'\n",
      "  reading manifest template 'MANIFEST.in'\n",
      "  warning: no files found matching '*.png' under directory 'doc'\n",
      "  warning: no files found matching '*.html' under directory 'doc'\n",
      "  warning: no files found matching '*.txt' under directory 'doc'\n",
      "  warning: no files found matching '*.css' under directory 'doc'\n",
      "  warning: no previously-included files matching '*~' found anywhere in distribution\n",
      "  warning: no previously-included files matching '*.pyc' found anywhere in distribution\n",
      "  warning: no previously-included files matching '.svn' found anywhere in distribution\n",
      "  no previously-included directories found matching 'doc/build'\n",
      "  writing manifest file 'pygraphviz.egg-info/SOURCES.txt'\n",
      "  copying pygraphviz/graphviz.i -> build/lib.linux-x86_64-3.6/pygraphviz\n",
      "  copying pygraphviz/graphviz_wrap.c -> build/lib.linux-x86_64-3.6/pygraphviz\n",
      "  running build_ext\n",
      "  building 'pygraphviz._graphviz' extension\n",
      "  creating build/temp.linux-x86_64-3.6\n",
      "  creating build/temp.linux-x86_64-3.6/pygraphviz\n",
      "  x86_64-linux-gnu-gcc -pthread -DNDEBUG -g -fwrapv -O2 -Wall -g -fstack-protector-strong -Wformat -Werror=format-security -Wdate-time -D_FORTIFY_SOURCE=2 -fPIC -I/usr/include/python3.6m -c pygraphviz/graphviz_wrap.c -o build/temp.linux-x86_64-3.6/pygraphviz/graphviz_wrap.o\n",
      "  pygraphviz/graphviz_wrap.c:2676:10: fatal error: graphviz/cgraph.h: No such file or directory\n",
      "   #include \"graphviz/cgraph.h\"\n",
      "            ^~~~~~~~~~~~~~~~~~~\n",
      "  compilation terminated.\n",
      "  error: command 'x86_64-linux-gnu-gcc' failed with exit status 1\n",
      "  \n",
      "  ----------------------------------------\n",
      "\u001b[31m  Failed building wheel for pygraphviz\u001b[0m\n",
      "\u001b[?25h  Running setup.py clean for pygraphviz\n",
      "Failed to build pygraphviz\n",
      "Installing collected packages: pygraphviz\n",
      "  Running setup.py install for pygraphviz ... \u001b[?25lerror\n",
      "    Complete output from command /usr/bin/python3 -u -c \"import setuptools, tokenize;__file__='/tmp/pip-build-yhrbvp5u/pygraphviz/setup.py';f=getattr(tokenize, 'open', open)(__file__);code=f.read().replace('\\r\\n', '\\n');f.close();exec(compile(code, __file__, 'exec'))\" install --record /tmp/pip-gllbhhmk-record/install-record.txt --single-version-externally-managed --compile --user --prefix=:\n",
      "    running install\n",
      "    Trying dpkg\n",
      "    Trying pkg-config\n",
      "    Package libcgraph was not found in the pkg-config search path.\n",
      "    Perhaps you should add the directory containing `libcgraph.pc'\n",
      "    to the PKG_CONFIG_PATH environment variable\n",
      "    No package 'libcgraph' found\n",
      "    Traceback (most recent call last):\n",
      "      File \"<string>\", line 1, in <module>\n",
      "      File \"/tmp/pip-build-yhrbvp5u/pygraphviz/setup.py\", line 90, in <module>\n",
      "        tests_require=['nose>=1.3.7', 'doctest-ignore-unicode>=0.1.2', 'mock>=2.0.0'],\n",
      "      File \"/home/juletx/.local/lib/python3.6/site-packages/setuptools/__init__.py\", line 153, in setup\n",
      "        return distutils.core.setup(**attrs)\n",
      "      File \"/usr/lib/python3.6/distutils/core.py\", line 148, in setup\n",
      "        dist.run_commands()\n",
      "      File \"/usr/lib/python3.6/distutils/dist.py\", line 955, in run_commands\n",
      "        self.run_command(cmd)\n",
      "      File \"/usr/lib/python3.6/distutils/dist.py\", line 974, in run_command\n",
      "        cmd_obj.run()\n",
      "      File \"/tmp/pip-build-yhrbvp5u/pygraphviz/setup_commands.py\", line 43, in modified_run\n",
      "        self.include_path, self.library_path = get_graphviz_dirs()\n",
      "      File \"/tmp/pip-build-yhrbvp5u/pygraphviz/setup_extra.py\", line 158, in get_graphviz_dirs\n",
      "        include_dirs, library_dirs = _try_configure(include_dirs, library_dirs, _pkg_config)\n",
      "      File \"/tmp/pip-build-yhrbvp5u/pygraphviz/setup_extra.py\", line 113, in _try_configure\n",
      "        i, l = try_function()\n",
      "      File \"/tmp/pip-build-yhrbvp5u/pygraphviz/setup_extra.py\", line 65, in _pkg_config\n",
      "        output = S.check_output(['pkg-config', '--libs-only-L', 'libcgraph'])\n",
      "      File \"/usr/lib/python3.6/subprocess.py\", line 356, in check_output\n",
      "        **kwargs).stdout\n",
      "      File \"/usr/lib/python3.6/subprocess.py\", line 438, in run\n",
      "        output=stdout, stderr=stderr)\n",
      "    subprocess.CalledProcessError: Command '['pkg-config', '--libs-only-L', 'libcgraph']' returned non-zero exit status 1.\n",
      "    \n",
      "    ----------------------------------------\n",
      "\u001b[31mCommand \"/usr/bin/python3 -u -c \"import setuptools, tokenize;__file__='/tmp/pip-build-yhrbvp5u/pygraphviz/setup.py';f=getattr(tokenize, 'open', open)(__file__);code=f.read().replace('\\r\\n', '\\n');f.close();exec(compile(code, __file__, 'exec'))\" install --record /tmp/pip-gllbhhmk-record/install-record.txt --single-version-externally-managed --compile --user --prefix=\" failed with error code 1 in /tmp/pip-build-yhrbvp5u/pygraphviz/\u001b[0m\n",
      "\u001b[?25h"
     ]
    },
    {
     "ename": "ModuleNotFoundError",
     "evalue": "No module named 'pygraphviz'",
     "output_type": "error",
     "traceback": [
      "\u001b[0;31m---------------------------------------------------------------------------\u001b[0m",
      "\u001b[0;31mModuleNotFoundError\u001b[0m                       Traceback (most recent call last)",
      "\u001b[0;32m<ipython-input-21-0118309e14ad>\u001b[0m in \u001b[0;36m<module>\u001b[0;34m\u001b[0m\n\u001b[1;32m      1\u001b[0m \u001b[0mget_ipython\u001b[0m\u001b[0;34m(\u001b[0m\u001b[0;34m)\u001b[0m\u001b[0;34m.\u001b[0m\u001b[0msystem\u001b[0m\u001b[0;34m(\u001b[0m\u001b[0;34m'pip3 install pygraphviz'\u001b[0m\u001b[0;34m)\u001b[0m\u001b[0;34m\u001b[0m\u001b[0;34m\u001b[0m\u001b[0m\n\u001b[0;32m----> 2\u001b[0;31m \u001b[0;32mimport\u001b[0m \u001b[0mpygraphviz\u001b[0m\u001b[0;34m\u001b[0m\u001b[0;34m\u001b[0m\u001b[0m\n\u001b[0m\u001b[1;32m      3\u001b[0m \u001b[0;34m\u001b[0m\u001b[0m\n\u001b[1;32m      4\u001b[0m def draw_net(config, genome, view=False, filename=None, node_names=None, show_disabled=True, prune_unused=False,\n\u001b[1;32m      5\u001b[0m              node_colors=None, fmt='svg'):\n",
      "\u001b[0;31mModuleNotFoundError\u001b[0m: No module named 'pygraphviz'"
     ]
    }
   ],
   "source": [
    "!pip3 install pygraphviz\n",
    "import pygraphviz\n",
    "\n",
    "def draw_net(config, genome, view=False, filename=None, node_names=None, show_disabled=True, prune_unused=False,\n",
    "             node_colors=None, fmt='svg'):\n",
    "    \"\"\" Receives a genome and draws a neural network with arbitrary topology. \"\"\"\n",
    "    # Attributes for network nodes.\n",
    "    if pygraphviz is None:\n",
    "        warnings.warn(\"This display is not available due to a missing optional dependency (graphviz)\")\n",
    "        return\n",
    "\n",
    "    if node_names is None:\n",
    "        node_names = {}\n",
    "\n",
    "    assert type(node_names) is dict\n",
    "\n",
    "    if node_colors is None:\n",
    "        node_colors = {}\n",
    "\n",
    "    assert type(node_colors) is dict\n",
    "\n",
    "    node_attrs = {\n",
    "        'shape': 'circle',\n",
    "        'fontsize': '9',\n",
    "        'height': '0.2',\n",
    "        'width': '0.2'}\n",
    "\n",
    "    dot = pygraphviz.AGraph(format=fmt, node_attr=node_attrs)\n",
    "\n",
    "    inputs = set()\n",
    "    for k in config.genome_config.input_keys:\n",
    "        inputs.add(k)\n",
    "        name = node_names.get(k, str(k))\n",
    "        input_attrs = {'style': 'filled',\n",
    "                       'shape': 'box'}\n",
    "        input_attrs['fillcolor'] = node_colors.get(k, 'lightgray')\n",
    "        dot.add_node(name, _attributes=input_attrs)\n",
    "\n",
    "    outputs = set()\n",
    "    for k in config.genome_config.output_keys:\n",
    "        outputs.add(k)\n",
    "        name = node_names.get(k, str(k))\n",
    "        node_attrs = {'style': 'filled'}\n",
    "        node_attrs['fillcolor'] = node_colors.get(k, 'lightblue')\n",
    "\n",
    "        dot.add_node(name, _attributes=node_attrs)\n",
    "\n",
    "    if prune_unused:\n",
    "        connections = set()\n",
    "        for cg in genome.connections.values():\n",
    "            if cg.enabled or show_disabled:\n",
    "                connections.add((cg.in_node_id, cg.out_node_id))\n",
    "\n",
    "        used_nodes = copy.copy(outputs)\n",
    "        pending = copy.copy(outputs)\n",
    "        while pending:\n",
    "            new_pending = set()\n",
    "            for a, b in connections:\n",
    "                if b in pending and a not in used_nodes:\n",
    "                    new_pending.add(a)\n",
    "                    used_nodes.add(a)\n",
    "            pending = new_pending\n",
    "    else:\n",
    "        used_nodes = set(genome.nodes.keys())\n",
    "\n",
    "    for n in used_nodes:\n",
    "        if n in inputs or n in outputs:\n",
    "            continue\n",
    "\n",
    "        attrs = {'style': 'filled',\n",
    "                 'fillcolor': node_colors.get(n, 'white')}\n",
    "        dot.add_node(str(n), _attributes=attrs)\n",
    "\n",
    "    for cg in genome.connections.values():\n",
    "        if cg.enabled or show_disabled:\n",
    "            #if cg.input not in used_nodes or cg.output not in used_nodes:\n",
    "            #    continue\n",
    "            input, output = cg.key\n",
    "            a = node_names.get(input, str(input))\n",
    "            b = node_names.get(output, str(output))\n",
    "            style = 'solid' if cg.enabled else 'dotted'\n",
    "            color = 'green' if cg.weight > 0 else 'red'\n",
    "            width = str(0.1 + abs(cg.weight / 5.0))\n",
    "            dot.add_edge(a, b, _attributes={'style': style, 'color': color, 'penwidth': width})\n",
    "\n",
    "    dot.draw(\"neat_nn.png\", prog='dot')\n",
    "    return dot.string()\n"
   ]
  },
  {
   "cell_type": "code",
   "execution_count": null,
   "metadata": {},
   "outputs": [],
   "source": [
    "print(draw_net(config, winner, view=True))"
   ]
  },
  {
   "cell_type": "markdown",
   "metadata": {},
   "source": [
    "You can use the code generated above to visualize the evolved network in a graphviz environment, like that one available in http://www.webgraphviz.com. You just need to copy and paste the code."
   ]
  },
  {
   "cell_type": "markdown",
   "metadata": {},
   "source": [
    "# Exercise 3\n",
    "\n",
    "A multiplexer is a device that allows two or more digital input signals to be selected. The multiplexer problem has been extensively used in AI. We can represent a multipler as a function defined on a vector or n+2^n bits. The function uses the first n bits to decode which of the following 2^n bits should be given as output.\n",
    "\n",
    "For example, a multipler of n=2 has 2+2^2=6 bits. The multiplexer function would works as follows:\n",
    "\n",
    "f([0,1,1,0,1,1]) = 0.  The first two bits are used to decode the index, ind=2*0+1=1. The value of the variable in the position ind+2 is the output. In this example v[3]=0\n",
    "\n",
    "\n",
    "Other examples:\n",
    "f([0,1,1,1,1,1]) = 1.\n",
    "f([0,0,1,0,0,0]) = 1.\n",
    "f([1,1,1,1,1,0]) = 0.\n",
    "\n",
    "1. Use NEAT to evolve a neural network that computes the multiplexer function for n=2.\n",
    "2. After running the function modify the number of hidden units in the configuration file\n",
    "2. Make it a fitness minimization problem (you will have to change the config file, and have another approach in the evaluation function)\n",
    "3. Visualize the network\n",
    "\n",
    "\n",
    "Suggestions:\n",
    "\n",
    "- Reuse the code from the previous example modifying the definition of the fitness function. The maximum of this function will be 64 (when the 2^6 configurations are correctly predicted).\n",
    "- Reuse the previous configuration file (with a different name) and update the number of inputs\n",
    "- You can modify other parameters of the configuration file such as the population size or the probability of adding new nodes and connections. "
   ]
  },
  {
   "cell_type": "code",
   "execution_count": null,
   "metadata": {},
   "outputs": [],
   "source": [
    "number_of_examples = 10\n",
    "mux_size = 3\n",
    "\n",
    "index_binary = np.random.randint(0, 2, size=(number_of_examples, mux_size))\n",
    "values = np.random.randint(0, 2, size=(number_of_examples, 2**mux_size))\n",
    "index = np.sum([index_binary[:, mux_size-i-1] * 2**i for i in range(mux_size)], axis=0)\n",
    "chosen_value = np.array([values[i, index[i]] for i in range(number_of_examples)])\n",
    "\n",
    "mux = np.concatenate((index_binary, values), axis=1)"
   ]
  },
  {
   "cell_type": "code",
   "execution_count": null,
   "metadata": {},
   "outputs": [],
   "source": [
    "print(chosen_value)\n",
    "print(mux)"
   ]
  },
  {
   "cell_type": "code",
   "execution_count": null,
   "metadata": {},
   "outputs": [],
   "source": [
    "import neat\n",
    "\n",
    "number_generations = 20\n",
    "\n",
    "def eval_genomes(genomes, config):\n",
    "    for genome_id, genome in genomes:\n",
    "        genome.fitness = ___\n",
    "        net = neat.nn.FeedForwardNetwork.create(genome, config)\n",
    "        \n",
    "        for xi, xo in zip(mux, chosen_value):\n",
    "            output = net.activate(xi)\n",
    "            genome.fitness = genome.fitness ___\n",
    "\n",
    "\n",
    "# Load configuration.\n",
    "config = neat.Config(neat.DefaultGenome, neat.DefaultReproduction, neat.DefaultSpeciesSet, neat.DefaultStagnation,\n",
    "                     'mux_config')\n",
    "\n",
    "# Create the population, which is the top-level object for a NEAT run.\n",
    "p = neat.Population(config)\n",
    "\n",
    "# Add a stdout reporter to show progress in the terminal.\n",
    "p.add_reporter(neat.StdOutReporter(False))\n",
    "\n",
    "# Run until a solution is found.\n",
    "winner = p.run(eval_genomes,number_generations)\n",
    "\n",
    "# Display the winning genome.\n",
    "print('\\nBest genome:\\n{!s}'.format(winner))\n",
    "\n",
    "# Show output of the most fit genome against training data.\n",
    "print('\\nOutput:')\n",
    "winner_net = neat.nn.FeedForwardNetwork.create(winner, config)\n",
    "for xi, xo in zip(mux, chosen_value):\n",
    "    output = winner_net.activate(xi)\n",
    "    print(\"  input {!r}, expected output {!r}, got {!r}\".format(xi, xo, output))\n",
    "    \n"
   ]
  },
  {
   "cell_type": "code",
   "execution_count": null,
   "metadata": {},
   "outputs": [],
   "source": [
    "print(draw_net(config, winner, view=True))"
   ]
  },
  {
   "cell_type": "markdown",
   "metadata": {},
   "source": [
    "## Exercise 4\n",
    "\n",
    "1. Using NEAT, evolve a network that paints a black-and-white image. The network receives as input the coordinates (x,y) and outputs a binary value that represents whether the pixel is filled or not. Use the image in the following cell.\n",
    "\n"
   ]
  },
  {
   "cell_type": "code",
   "execution_count": null,
   "metadata": {},
   "outputs": [],
   "source": [
    "dimension = 13\n",
    "cross_image = np.zeros((dimension,dimension))\n",
    "cross_image[5:8,:] = 1\n",
    "cross_image[:,5:8] = 1\n",
    "print(cross_image)"
   ]
  },
  {
   "cell_type": "code",
   "execution_count": null,
   "metadata": {
    "scrolled": true
   },
   "outputs": [],
   "source": [
    "number_generations = 100\n",
    "\n",
    "def eval_genomes(genomes, config):\n",
    "    for genome_id, genome in genomes:\n",
    "        genome.fitness = ___\n",
    "        net = neat.nn.FeedForwardNetwork.create(genome, config)\n",
    "        \n",
    "        for xi in range(dimension):\n",
    "            for xj in range(dimension):\n",
    "                output = net.activate((xi, xj))\n",
    "                genome.fitness = genome.fitness ___\n",
    "\n",
    "\n",
    "# Load configuration.\n",
    "config = neat.Config(neat.DefaultGenome, neat.DefaultReproduction, neat.DefaultSpeciesSet, neat.DefaultStagnation,\n",
    "                     'cross_config')\n",
    "\n",
    "# Create the population, which is the top-level object for a NEAT run.\n",
    "p = neat.Population(config)\n",
    "\n",
    "# Add a stdout reporter to show progress in the terminal.\n",
    "p.add_reporter(neat.StdOutReporter(False))\n",
    "\n",
    "# Run until a solution is found.\n",
    "winner = p.run(eval_genomes,number_generations)\n",
    "\n",
    "# Display the winning genome.\n",
    "print('\\nBest genome:\\n{!s}'.format(winner))\n",
    "\n",
    "# Show output of the most fit genome against training data.\n",
    "print('\\nOutput:')\n",
    "winner_net = neat.nn.FeedForwardNetwork.create(winner, config)\n",
    "\n",
    "prediction = np.zeros((dimension,dimension))\n",
    "\n",
    "for i in range(dimension):\n",
    "    for j in range(dimension):\n",
    "        prediction[i, j] = winner_net.activate([i, j])[0]\n",
    "\n",
    "print(prediction)\n"
   ]
  },
  {
   "cell_type": "markdown",
   "metadata": {},
   "source": [
    "## Other software for implementing the evolution of NNs\n",
    "\n",
    "DEAP (http://deap.readthedocs.io/en/master/index.html) is another flexible library for evolutionary algorithms (genetic algorithms and genetic programming). \n",
    "\n",
    "You may use DEAP to find the optimal hyperparameters of your model."
   ]
  },
  {
   "cell_type": "markdown",
   "metadata": {},
   "source": [
    "Below there is one example of how to define a simple evolutionary algorith for solving the OneMax function. See how the components of the algorithm are defined. "
   ]
  },
  {
   "cell_type": "code",
   "execution_count": null,
   "metadata": {},
   "outputs": [],
   "source": [
    "from deap import algorithms\n",
    "from deap import base\n",
    "from deap import creator\n",
    "from deap import tools\n",
    "import random\n",
    "\n",
    "\n",
    "\n",
    "creator.create(\"FitnessMax\", base.Fitness, weights=(1.0,))  # 1.0 for maximizing, -1.0 for minimizing\n",
    "creator.create(\"Individual\", list, fitness=creator.FitnessMax)\n",
    "\n",
    "\n",
    "toolbox = base.Toolbox()\n",
    "# Attribute generator \n",
    "toolbox.register(\"attr_bool\", random.randint, 0, 1)\n",
    "# Structure initializers\n",
    "toolbox.register(\"individual\", tools.initRepeat, creator.Individual, \n",
    "    toolbox.attr_bool, 100)\n",
    "toolbox.register(\"population\", tools.initRepeat, list, toolbox.individual)\n",
    "\n",
    "\n",
    "def evalOneMax(individual):\n",
    "    return sum(individual),\n",
    "\n",
    "\n",
    "toolbox.register(\"evaluate\", evalOneMax)\n",
    "toolbox.register(\"mate\", tools.cxTwoPoint)\n",
    "toolbox.register(\"mutate\", tools.mutFlipBit, indpb=0.05)\n",
    "toolbox.register(\"select\", tools.selTournament, tournsize=3)\n",
    "\n",
    "def main():\n",
    "    pop = toolbox.population(n=300)\n",
    "    hof = tools.HallOfFame(1)\n",
    "    stats = tools.Statistics(lambda ind: ind.fitness.values)\n",
    "    stats.register(\"avg\", np.mean)\n",
    "    stats.register(\"std\", np.std)\n",
    "    stats.register(\"min\", np.min)\n",
    "    stats.register(\"max\", np.max)\n",
    "    \n",
    "    pop, log = algorithms.eaSimple(pop, toolbox, cxpb=0.5, mutpb=0.2, ngen=40, \n",
    "                                   stats=stats, halloffame=hof, verbose=True)\n",
    "main()\n",
    "    \n"
   ]
  },
  {
   "cell_type": "markdown",
   "metadata": {},
   "source": [
    "## Exercise 5\n",
    "\n",
    "Using DEAP, define an algorithm that optimizes the hyper-parameters of your model for the MNIST problem. "
   ]
  },
  {
   "cell_type": "code",
   "execution_count": null,
   "metadata": {},
   "outputs": [],
   "source": [
    "from deap import algorithms\n",
    "from deap import base\n",
    "from deap import creator\n",
    "from deap import tools\n",
    "import random\n",
    "creator.create(\"FitnessMax\", base.Fitness, weights=(1.0,))  # 1.0 for maximizing, -1.0 for minimizing\n",
    "creator.create(\"Individual\", list, fitness=creator.FitnessMax)\n",
    "\n",
    "\n",
    "toolbox = base.Toolbox()\n",
    "# Attribute generator \n",
    "toolbox.register(\"attr_int\", random.randint, 5, 100)\n",
    "# Structure initializers\n",
    "toolbox.register(\"individual\", tools.initRepeat, creator.Individual, toolbox.attr_int, 10)\n",
    "toolbox.register(\"population\", tools.initRepeat, list, toolbox.individual)\n",
    "\n",
    "\n",
    "def evalMLP(individual):\n",
    "    _, _, fitness = custom_MLP(___)\n",
    "    return fitness,\n",
    "\n",
    "\n",
    "toolbox.register(\"evaluate\", evalMLP)\n",
    "toolbox.register(\"mate\", tools.cxTwoPoint)\n",
    "toolbox.register(\"mutate\", tools.mutUniformInt, low=5, up=100, indpb=0.1)\n",
    "toolbox.register(\"select\", tools.selTournament, tournsize=3)\n",
    "\n",
    "def main():\n",
    "    pop = toolbox.population(n=3)\n",
    "    hof = tools.HallOfFame(1)\n",
    "    stats = tools.Statistics(lambda ind: ind.fitness.values)\n",
    "    stats.register(\"avg\", np.mean)\n",
    "    stats.register(\"std\", np.std)\n",
    "    stats.register(\"min\", np.min)\n",
    "    stats.register(\"max\", np.max)\n",
    "    \n",
    "    pop, log = algorithms.eaSimple(pop, toolbox, cxpb=0.5, mutpb=0.2, ngen=2, \n",
    "                                   stats=stats, halloffame=hof, verbose=True)\n",
    "main()"
   ]
  },
  {
   "cell_type": "code",
   "execution_count": null,
   "metadata": {},
   "outputs": [],
   "source": []
  }
 ],
 "metadata": {
  "kernelspec": {
   "display_name": "Python 3",
   "language": "python",
   "name": "python3"
  },
  "language_info": {
   "codemirror_mode": {
    "name": "ipython",
    "version": 3
   },
   "file_extension": ".py",
   "mimetype": "text/x-python",
   "name": "python",
   "nbconvert_exporter": "python",
   "pygments_lexer": "ipython3",
   "version": "3.6.9"
  }
 },
 "nbformat": 4,
 "nbformat_minor": 4
}
